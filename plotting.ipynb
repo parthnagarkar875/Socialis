{
 "metadata": {
  "language_info": {
   "codemirror_mode": {
    "name": "ipython",
    "version": 3
   },
   "file_extension": ".py",
   "mimetype": "text/x-python",
   "name": "python",
   "nbconvert_exporter": "python",
   "pygments_lexer": "ipython3",
   "version": "3.7.9-final"
  },
  "orig_nbformat": 2,
  "kernelspec": {
   "name": "python3",
   "display_name": "Python 3",
   "language": "python"
  }
 },
 "nbformat": 4,
 "nbformat_minor": 2,
 "cells": [
  {
   "cell_type": "code",
   "execution_count": 5,
   "metadata": {},
   "outputs": [
    {
     "output_type": "error",
     "ename": "ImportError",
     "evalue": "DLL load failed: The specified module could not be found.",
     "traceback": [
      "\u001b[1;31m---------------------------------------------------------------------------\u001b[0m",
      "\u001b[1;31mImportError\u001b[0m                               Traceback (most recent call last)",
      "\u001b[1;32m<ipython-input-5-b4c517295ee2>\u001b[0m in \u001b[0;36m<module>\u001b[1;34m\u001b[0m\n\u001b[0;32m      6\u001b[0m \u001b[1;32mimport\u001b[0m \u001b[0mmath\u001b[0m\u001b[1;33m\u001b[0m\u001b[1;33m\u001b[0m\u001b[0m\n\u001b[0;32m      7\u001b[0m \u001b[1;33m\u001b[0m\u001b[0m\n\u001b[1;32m----> 8\u001b[1;33m \u001b[1;32mimport\u001b[0m \u001b[0mseaborn\u001b[0m \u001b[1;32mas\u001b[0m \u001b[0msns\u001b[0m\u001b[1;33m\u001b[0m\u001b[1;33m\u001b[0m\u001b[0m\n\u001b[0m\u001b[0;32m      9\u001b[0m \u001b[1;32mimport\u001b[0m \u001b[0mmatplotlib\u001b[0m\u001b[1;33m.\u001b[0m\u001b[0mpyplot\u001b[0m \u001b[1;32mas\u001b[0m \u001b[0mplt\u001b[0m\u001b[1;33m\u001b[0m\u001b[1;33m\u001b[0m\u001b[0m\n\u001b[0;32m     10\u001b[0m \u001b[1;32mimport\u001b[0m \u001b[0mmatplotlib\u001b[0m \u001b[1;32mas\u001b[0m \u001b[0mmpl\u001b[0m\u001b[1;33m\u001b[0m\u001b[1;33m\u001b[0m\u001b[0m\n",
      "\u001b[1;32mC:\\ProgramData\\Anaconda3\\lib\\site-packages\\seaborn\\__init__.py\u001b[0m in \u001b[0;36m<module>\u001b[1;34m\u001b[0m\n\u001b[0;32m      1\u001b[0m \u001b[1;31m# Capture the original matplotlib rcParams\u001b[0m\u001b[1;33m\u001b[0m\u001b[1;33m\u001b[0m\u001b[1;33m\u001b[0m\u001b[0m\n\u001b[1;32m----> 2\u001b[1;33m \u001b[1;32mimport\u001b[0m \u001b[0mmatplotlib\u001b[0m \u001b[1;32mas\u001b[0m \u001b[0mmpl\u001b[0m\u001b[1;33m\u001b[0m\u001b[1;33m\u001b[0m\u001b[0m\n\u001b[0m\u001b[0;32m      3\u001b[0m \u001b[0m_orig_rc_params\u001b[0m \u001b[1;33m=\u001b[0m \u001b[0mmpl\u001b[0m\u001b[1;33m.\u001b[0m\u001b[0mrcParams\u001b[0m\u001b[1;33m.\u001b[0m\u001b[0mcopy\u001b[0m\u001b[1;33m(\u001b[0m\u001b[1;33m)\u001b[0m\u001b[1;33m\u001b[0m\u001b[1;33m\u001b[0m\u001b[0m\n\u001b[0;32m      4\u001b[0m \u001b[1;33m\u001b[0m\u001b[0m\n\u001b[0;32m      5\u001b[0m \u001b[1;31m# Import seaborn objects\u001b[0m\u001b[1;33m\u001b[0m\u001b[1;33m\u001b[0m\u001b[1;33m\u001b[0m\u001b[0m\n",
      "\u001b[1;32mC:\\ProgramData\\Anaconda3\\lib\\site-packages\\matplotlib\\__init__.py\u001b[0m in \u001b[0;36m<module>\u001b[1;34m\u001b[0m\n\u001b[0;32m    172\u001b[0m \u001b[1;33m\u001b[0m\u001b[0m\n\u001b[0;32m    173\u001b[0m \u001b[1;33m\u001b[0m\u001b[0m\n\u001b[1;32m--> 174\u001b[1;33m \u001b[0m_check_versions\u001b[0m\u001b[1;33m(\u001b[0m\u001b[1;33m)\u001b[0m\u001b[1;33m\u001b[0m\u001b[1;33m\u001b[0m\u001b[0m\n\u001b[0m\u001b[0;32m    175\u001b[0m \u001b[1;33m\u001b[0m\u001b[0m\n\u001b[0;32m    176\u001b[0m \u001b[1;33m\u001b[0m\u001b[0m\n",
      "\u001b[1;32mC:\\ProgramData\\Anaconda3\\lib\\site-packages\\matplotlib\\__init__.py\u001b[0m in \u001b[0;36m_check_versions\u001b[1;34m()\u001b[0m\n\u001b[0;32m    157\u001b[0m     \u001b[1;31m# Quickfix to ensure Microsoft Visual C++ redistributable\u001b[0m\u001b[1;33m\u001b[0m\u001b[1;33m\u001b[0m\u001b[1;33m\u001b[0m\u001b[0m\n\u001b[0;32m    158\u001b[0m     \u001b[1;31m# DLLs are loaded before importing kiwisolver\u001b[0m\u001b[1;33m\u001b[0m\u001b[1;33m\u001b[0m\u001b[1;33m\u001b[0m\u001b[0m\n\u001b[1;32m--> 159\u001b[1;33m     \u001b[1;32mfrom\u001b[0m \u001b[1;33m.\u001b[0m \u001b[1;32mimport\u001b[0m \u001b[0mft2font\u001b[0m\u001b[1;33m\u001b[0m\u001b[1;33m\u001b[0m\u001b[0m\n\u001b[0m\u001b[0;32m    160\u001b[0m \u001b[1;33m\u001b[0m\u001b[0m\n\u001b[0;32m    161\u001b[0m     for modname, minver in [\n",
      "\u001b[1;31mImportError\u001b[0m: DLL load failed: The specified module could not be found."
     ]
    }
   ],
   "source": [
    "import settings\n",
    "import mysql.connector\n",
    "import pandas as pd\n",
    "import time\n",
    "import itertools\n",
    "import math\n",
    "\n",
    "import seaborn as sns\n",
    "import matplotlib.pyplot as plt\n",
    "import matplotlib as mpl\n",
    "#%matplotlib inline\n",
    "import plotly.express as px\n",
    "import datetime\n",
    "from IPython.display import clear_output\n",
    "\n",
    "import plotly.offline as py\n",
    "import plotly.graph_objs as go\n",
    "from plotly.subplots import make_subplots\n",
    "# py.init_notebook_mode()\n",
    "    \n",
    "import re\n",
    "import nltk\n",
    "# nltk.download('punkt')\n",
    "# nltk.download('stopwords')\n",
    "from nltk.probability import FreqDist\n",
    "from nltk.tokenize import word_tokenize\n",
    "from nltk.corpus import stopwords\n",
    "import sqlite3\n",
    "\n",
    "\n",
    "STATES = ['Alabama', 'AL', 'Alaska', 'AK', 'American Samoa', 'AS', 'Arizona', 'AZ', 'Arkansas', 'AR', 'California', 'CA', 'Colorado', 'CO', 'Connecticut', 'CT', 'Delaware', 'DE', 'District of Columbia', 'DC', 'Federated States of Micronesia', 'FM', 'Florida', 'FL', 'Georgia', 'GA', 'Guam', 'GU', 'Hawaii', 'HI', 'Idaho', 'ID', 'Illinois', 'IL', 'Indiana', 'IN', 'Iowa', 'IA', 'Kansas', 'KS', 'Kentucky', 'KY', 'Louisiana', 'LA', 'Maine', 'ME', 'Marshall Islands', 'MH', 'Maryland', 'MD', 'Massachusetts', 'MA', 'Michigan', 'MI', 'Minnesota', 'MN', 'Mississippi', 'MS', 'Missouri', 'MO', 'Montana', 'MT', 'Nebraska', 'NE', 'Nevada', 'NV', 'New Hampshire', 'NH', 'New Jersey', 'NJ', 'New Mexico', 'NM', 'New York', 'NY', 'North Carolina', 'NC', 'North Dakota', 'ND', 'Northern Mariana Islands', 'MP', 'Ohio', 'OH', 'Oklahoma', 'OK', 'Oregon', 'OR', 'Palau', 'PW', 'Pennsylvania', 'PA', 'Puerto Rico', 'PR', 'Rhode Island', 'RI', 'South Carolina', 'SC', 'South Dakota', 'SD', 'Tennessee', 'TN', 'Texas', 'TX', 'Utah', 'UT', 'Vermont', 'VT', 'Virgin Islands', 'VI', 'Virginia', 'VA', 'Washington', 'WA', 'West Virginia', 'WV', 'Wisconsin', 'WI', 'Wyoming', 'WY']\n",
    "STATE_DICT = dict(itertools.zip_longest(*[iter(STATES)] * 2, fillvalue=\"\"))\n",
    "INV_STATE_DICT = dict((v,k) for k,v in STATE_DICT.items())"
   ]
  },
  {
   "cell_type": "code",
   "execution_count": 10,
   "metadata": {},
   "outputs": [
    {
     "output_type": "stream",
     "name": "stdout",
     "text": [
      "Opened the database successfully\n"
     ]
    },
    {
     "output_type": "display_data",
     "data": {
      "application/vnd.plotly.v1+json": {
       "config": {
        "plotlyServerURL": "https://plot.ly"
       },
       "data": [
        {
         "name": "Neural",
         "opacity": 0.8,
         "type": "scatter",
         "x": [
          "2021-02-12T13:43:42",
          "2021-02-12T13:43:44",
          "2021-02-12T13:43:46",
          "2021-02-12T13:43:48",
          "2021-02-12T13:43:50",
          "2021-02-12T13:43:52",
          "2021-02-12T13:43:54",
          "2021-02-12T13:43:56",
          "2021-02-12T13:43:58",
          "2021-02-12T13:44:00",
          "2021-02-12T13:44:02",
          "2021-02-12T13:44:04",
          "2021-02-12T13:44:06",
          "2021-02-12T13:44:08",
          "2021-02-12T13:44:10",
          "2021-02-12T13:44:12",
          "2021-02-12T13:44:14"
         ],
         "xaxis": "x",
         "y": [
          2,
          2,
          3,
          3,
          3,
          2,
          4,
          5,
          2,
          2,
          1,
          4,
          5,
          3,
          3,
          2,
          6
         ],
         "yaxis": "y"
        },
        {
         "name": "Negative",
         "opacity": 0.8,
         "type": "scatter",
         "x": [
          "2021-02-12T13:43:42",
          "2021-02-12T13:43:44",
          "2021-02-12T13:43:46",
          "2021-02-12T13:43:48",
          "2021-02-12T13:43:50",
          "2021-02-12T13:43:52",
          "2021-02-12T13:43:54",
          "2021-02-12T13:43:56",
          "2021-02-12T13:43:58",
          "2021-02-12T13:44:00",
          "2021-02-12T13:44:02",
          "2021-02-12T13:44:04",
          "2021-02-12T13:44:06",
          "2021-02-12T13:44:08",
          "2021-02-12T13:44:10",
          "2021-02-12T13:44:12",
          "2021-02-12T13:44:14"
         ],
         "xaxis": "x",
         "y": [],
         "yaxis": "y"
        },
        {
         "name": "Positive",
         "opacity": 0.8,
         "type": "scatter",
         "x": [
          "2021-02-12T13:43:42",
          "2021-02-12T13:43:44",
          "2021-02-12T13:43:46",
          "2021-02-12T13:43:48",
          "2021-02-12T13:43:50",
          "2021-02-12T13:43:52",
          "2021-02-12T13:43:54",
          "2021-02-12T13:43:56",
          "2021-02-12T13:43:58",
          "2021-02-12T13:44:00",
          "2021-02-12T13:44:02",
          "2021-02-12T13:44:04",
          "2021-02-12T13:44:06",
          "2021-02-12T13:44:08",
          "2021-02-12T13:44:10",
          "2021-02-12T13:44:12",
          "2021-02-12T13:44:14"
         ],
         "xaxis": "x",
         "y": [],
         "yaxis": "y"
        },
        {
         "marker": {
          "color": "rgb(59, 89, 152)",
          "line": {
           "color": "rgb(8,48,107)",
           "width": 0.5
          }
         },
         "name": "Freq Dist",
         "opacity": 0.7,
         "type": "bar",
         "x": [
          "Cristiano Ronaldo",
          "Favorite Music Group",
          "Florida",
          "US",
          "Valentine",
          "Awards GTS Updated Circuit Tunes",
          "Ethiopia",
          "India",
          "FBI"
         ],
         "xaxis": "x2",
         "y": [
          11,
          5,
          2,
          2,
          2,
          2,
          2,
          1,
          1
         ],
         "yaxis": "y2"
        },
        {
         "colorscale": [
          [
           0,
           "rgb(247,251,255)"
          ],
          [
           0.125,
           "rgb(222,235,247)"
          ],
          [
           0.25,
           "rgb(198,219,239)"
          ],
          [
           0.375,
           "rgb(158,202,225)"
          ],
          [
           0.5,
           "rgb(107,174,214)"
          ],
          [
           0.625,
           "rgb(66,146,198)"
          ],
          [
           0.75,
           "rgb(33,113,181)"
          ],
          [
           0.875,
           "rgb(8,81,156)"
          ],
          [
           1,
           "rgb(8,48,107)"
          ]
         ],
         "geo": "geo",
         "locationmode": "USA-states",
         "locations": [],
         "showscale": false,
         "text": [],
         "type": "choropleth",
         "z": []
        }
       ],
       "layout": {
        "annotations": [
         {
          "showarrow": false,
          "text": "Source: Twitter",
          "x": 0,
          "xref": "paper",
          "y": 0,
          "yref": "paper"
         }
        ],
        "geo": {
         "domain": {
          "x": [
           0.7428571428571429,
           1
          ],
          "y": [
           0.49,
           1
          ]
         },
         "scope": "usa"
        },
        "margin": {
         "b": 50,
         "l": 20,
         "r": 20,
         "t": 50
        },
        "showlegend": false,
        "template": {
         "data": {
          "bar": [
           {
            "error_x": {
             "color": "#f2f5fa"
            },
            "error_y": {
             "color": "#f2f5fa"
            },
            "marker": {
             "line": {
              "color": "rgb(17,17,17)",
              "width": 0.5
             }
            },
            "type": "bar"
           }
          ],
          "barpolar": [
           {
            "marker": {
             "line": {
              "color": "rgb(17,17,17)",
              "width": 0.5
             }
            },
            "type": "barpolar"
           }
          ],
          "carpet": [
           {
            "aaxis": {
             "endlinecolor": "#A2B1C6",
             "gridcolor": "#506784",
             "linecolor": "#506784",
             "minorgridcolor": "#506784",
             "startlinecolor": "#A2B1C6"
            },
            "baxis": {
             "endlinecolor": "#A2B1C6",
             "gridcolor": "#506784",
             "linecolor": "#506784",
             "minorgridcolor": "#506784",
             "startlinecolor": "#A2B1C6"
            },
            "type": "carpet"
           }
          ],
          "choropleth": [
           {
            "colorbar": {
             "outlinewidth": 0,
             "ticks": ""
            },
            "type": "choropleth"
           }
          ],
          "contour": [
           {
            "colorbar": {
             "outlinewidth": 0,
             "ticks": ""
            },
            "colorscale": [
             [
              0,
              "#0d0887"
             ],
             [
              0.1111111111111111,
              "#46039f"
             ],
             [
              0.2222222222222222,
              "#7201a8"
             ],
             [
              0.3333333333333333,
              "#9c179e"
             ],
             [
              0.4444444444444444,
              "#bd3786"
             ],
             [
              0.5555555555555556,
              "#d8576b"
             ],
             [
              0.6666666666666666,
              "#ed7953"
             ],
             [
              0.7777777777777778,
              "#fb9f3a"
             ],
             [
              0.8888888888888888,
              "#fdca26"
             ],
             [
              1,
              "#f0f921"
             ]
            ],
            "type": "contour"
           }
          ],
          "contourcarpet": [
           {
            "colorbar": {
             "outlinewidth": 0,
             "ticks": ""
            },
            "type": "contourcarpet"
           }
          ],
          "heatmap": [
           {
            "colorbar": {
             "outlinewidth": 0,
             "ticks": ""
            },
            "colorscale": [
             [
              0,
              "#0d0887"
             ],
             [
              0.1111111111111111,
              "#46039f"
             ],
             [
              0.2222222222222222,
              "#7201a8"
             ],
             [
              0.3333333333333333,
              "#9c179e"
             ],
             [
              0.4444444444444444,
              "#bd3786"
             ],
             [
              0.5555555555555556,
              "#d8576b"
             ],
             [
              0.6666666666666666,
              "#ed7953"
             ],
             [
              0.7777777777777778,
              "#fb9f3a"
             ],
             [
              0.8888888888888888,
              "#fdca26"
             ],
             [
              1,
              "#f0f921"
             ]
            ],
            "type": "heatmap"
           }
          ],
          "heatmapgl": [
           {
            "colorbar": {
             "outlinewidth": 0,
             "ticks": ""
            },
            "colorscale": [
             [
              0,
              "#0d0887"
             ],
             [
              0.1111111111111111,
              "#46039f"
             ],
             [
              0.2222222222222222,
              "#7201a8"
             ],
             [
              0.3333333333333333,
              "#9c179e"
             ],
             [
              0.4444444444444444,
              "#bd3786"
             ],
             [
              0.5555555555555556,
              "#d8576b"
             ],
             [
              0.6666666666666666,
              "#ed7953"
             ],
             [
              0.7777777777777778,
              "#fb9f3a"
             ],
             [
              0.8888888888888888,
              "#fdca26"
             ],
             [
              1,
              "#f0f921"
             ]
            ],
            "type": "heatmapgl"
           }
          ],
          "histogram": [
           {
            "marker": {
             "colorbar": {
              "outlinewidth": 0,
              "ticks": ""
             }
            },
            "type": "histogram"
           }
          ],
          "histogram2d": [
           {
            "colorbar": {
             "outlinewidth": 0,
             "ticks": ""
            },
            "colorscale": [
             [
              0,
              "#0d0887"
             ],
             [
              0.1111111111111111,
              "#46039f"
             ],
             [
              0.2222222222222222,
              "#7201a8"
             ],
             [
              0.3333333333333333,
              "#9c179e"
             ],
             [
              0.4444444444444444,
              "#bd3786"
             ],
             [
              0.5555555555555556,
              "#d8576b"
             ],
             [
              0.6666666666666666,
              "#ed7953"
             ],
             [
              0.7777777777777778,
              "#fb9f3a"
             ],
             [
              0.8888888888888888,
              "#fdca26"
             ],
             [
              1,
              "#f0f921"
             ]
            ],
            "type": "histogram2d"
           }
          ],
          "histogram2dcontour": [
           {
            "colorbar": {
             "outlinewidth": 0,
             "ticks": ""
            },
            "colorscale": [
             [
              0,
              "#0d0887"
             ],
             [
              0.1111111111111111,
              "#46039f"
             ],
             [
              0.2222222222222222,
              "#7201a8"
             ],
             [
              0.3333333333333333,
              "#9c179e"
             ],
             [
              0.4444444444444444,
              "#bd3786"
             ],
             [
              0.5555555555555556,
              "#d8576b"
             ],
             [
              0.6666666666666666,
              "#ed7953"
             ],
             [
              0.7777777777777778,
              "#fb9f3a"
             ],
             [
              0.8888888888888888,
              "#fdca26"
             ],
             [
              1,
              "#f0f921"
             ]
            ],
            "type": "histogram2dcontour"
           }
          ],
          "mesh3d": [
           {
            "colorbar": {
             "outlinewidth": 0,
             "ticks": ""
            },
            "type": "mesh3d"
           }
          ],
          "parcoords": [
           {
            "line": {
             "colorbar": {
              "outlinewidth": 0,
              "ticks": ""
             }
            },
            "type": "parcoords"
           }
          ],
          "pie": [
           {
            "automargin": true,
            "type": "pie"
           }
          ],
          "scatter": [
           {
            "marker": {
             "line": {
              "color": "#283442"
             }
            },
            "type": "scatter"
           }
          ],
          "scatter3d": [
           {
            "line": {
             "colorbar": {
              "outlinewidth": 0,
              "ticks": ""
             }
            },
            "marker": {
             "colorbar": {
              "outlinewidth": 0,
              "ticks": ""
             }
            },
            "type": "scatter3d"
           }
          ],
          "scattercarpet": [
           {
            "marker": {
             "colorbar": {
              "outlinewidth": 0,
              "ticks": ""
             }
            },
            "type": "scattercarpet"
           }
          ],
          "scattergeo": [
           {
            "marker": {
             "colorbar": {
              "outlinewidth": 0,
              "ticks": ""
             }
            },
            "type": "scattergeo"
           }
          ],
          "scattergl": [
           {
            "marker": {
             "line": {
              "color": "#283442"
             }
            },
            "type": "scattergl"
           }
          ],
          "scattermapbox": [
           {
            "marker": {
             "colorbar": {
              "outlinewidth": 0,
              "ticks": ""
             }
            },
            "type": "scattermapbox"
           }
          ],
          "scatterpolar": [
           {
            "marker": {
             "colorbar": {
              "outlinewidth": 0,
              "ticks": ""
             }
            },
            "type": "scatterpolar"
           }
          ],
          "scatterpolargl": [
           {
            "marker": {
             "colorbar": {
              "outlinewidth": 0,
              "ticks": ""
             }
            },
            "type": "scatterpolargl"
           }
          ],
          "scatterternary": [
           {
            "marker": {
             "colorbar": {
              "outlinewidth": 0,
              "ticks": ""
             }
            },
            "type": "scatterternary"
           }
          ],
          "surface": [
           {
            "colorbar": {
             "outlinewidth": 0,
             "ticks": ""
            },
            "colorscale": [
             [
              0,
              "#0d0887"
             ],
             [
              0.1111111111111111,
              "#46039f"
             ],
             [
              0.2222222222222222,
              "#7201a8"
             ],
             [
              0.3333333333333333,
              "#9c179e"
             ],
             [
              0.4444444444444444,
              "#bd3786"
             ],
             [
              0.5555555555555556,
              "#d8576b"
             ],
             [
              0.6666666666666666,
              "#ed7953"
             ],
             [
              0.7777777777777778,
              "#fb9f3a"
             ],
             [
              0.8888888888888888,
              "#fdca26"
             ],
             [
              1,
              "#f0f921"
             ]
            ],
            "type": "surface"
           }
          ],
          "table": [
           {
            "cells": {
             "fill": {
              "color": "#506784"
             },
             "line": {
              "color": "rgb(17,17,17)"
             }
            },
            "header": {
             "fill": {
              "color": "#2a3f5f"
             },
             "line": {
              "color": "rgb(17,17,17)"
             }
            },
            "type": "table"
           }
          ]
         },
         "layout": {
          "annotationdefaults": {
           "arrowcolor": "#f2f5fa",
           "arrowhead": 0,
           "arrowwidth": 1
          },
          "coloraxis": {
           "colorbar": {
            "outlinewidth": 0,
            "ticks": ""
           }
          },
          "colorscale": {
           "diverging": [
            [
             0,
             "#8e0152"
            ],
            [
             0.1,
             "#c51b7d"
            ],
            [
             0.2,
             "#de77ae"
            ],
            [
             0.3,
             "#f1b6da"
            ],
            [
             0.4,
             "#fde0ef"
            ],
            [
             0.5,
             "#f7f7f7"
            ],
            [
             0.6,
             "#e6f5d0"
            ],
            [
             0.7,
             "#b8e186"
            ],
            [
             0.8,
             "#7fbc41"
            ],
            [
             0.9,
             "#4d9221"
            ],
            [
             1,
             "#276419"
            ]
           ],
           "sequential": [
            [
             0,
             "#0d0887"
            ],
            [
             0.1111111111111111,
             "#46039f"
            ],
            [
             0.2222222222222222,
             "#7201a8"
            ],
            [
             0.3333333333333333,
             "#9c179e"
            ],
            [
             0.4444444444444444,
             "#bd3786"
            ],
            [
             0.5555555555555556,
             "#d8576b"
            ],
            [
             0.6666666666666666,
             "#ed7953"
            ],
            [
             0.7777777777777778,
             "#fb9f3a"
            ],
            [
             0.8888888888888888,
             "#fdca26"
            ],
            [
             1,
             "#f0f921"
            ]
           ],
           "sequentialminus": [
            [
             0,
             "#0d0887"
            ],
            [
             0.1111111111111111,
             "#46039f"
            ],
            [
             0.2222222222222222,
             "#7201a8"
            ],
            [
             0.3333333333333333,
             "#9c179e"
            ],
            [
             0.4444444444444444,
             "#bd3786"
            ],
            [
             0.5555555555555556,
             "#d8576b"
            ],
            [
             0.6666666666666666,
             "#ed7953"
            ],
            [
             0.7777777777777778,
             "#fb9f3a"
            ],
            [
             0.8888888888888888,
             "#fdca26"
            ],
            [
             1,
             "#f0f921"
            ]
           ]
          },
          "colorway": [
           "#636efa",
           "#EF553B",
           "#00cc96",
           "#ab63fa",
           "#FFA15A",
           "#19d3f3",
           "#FF6692",
           "#B6E880",
           "#FF97FF",
           "#FECB52"
          ],
          "font": {
           "color": "#f2f5fa"
          },
          "geo": {
           "bgcolor": "rgb(17,17,17)",
           "lakecolor": "rgb(17,17,17)",
           "landcolor": "rgb(17,17,17)",
           "showlakes": true,
           "showland": true,
           "subunitcolor": "#506784"
          },
          "hoverlabel": {
           "align": "left"
          },
          "hovermode": "closest",
          "mapbox": {
           "style": "dark"
          },
          "paper_bgcolor": "rgb(17,17,17)",
          "plot_bgcolor": "rgb(17,17,17)",
          "polar": {
           "angularaxis": {
            "gridcolor": "#506784",
            "linecolor": "#506784",
            "ticks": ""
           },
           "bgcolor": "rgb(17,17,17)",
           "radialaxis": {
            "gridcolor": "#506784",
            "linecolor": "#506784",
            "ticks": ""
           }
          },
          "scene": {
           "xaxis": {
            "backgroundcolor": "rgb(17,17,17)",
            "gridcolor": "#506784",
            "gridwidth": 2,
            "linecolor": "#506784",
            "showbackground": true,
            "ticks": "",
            "zerolinecolor": "#C8D4E3"
           },
           "yaxis": {
            "backgroundcolor": "rgb(17,17,17)",
            "gridcolor": "#506784",
            "gridwidth": 2,
            "linecolor": "#506784",
            "showbackground": true,
            "ticks": "",
            "zerolinecolor": "#C8D4E3"
           },
           "zaxis": {
            "backgroundcolor": "rgb(17,17,17)",
            "gridcolor": "#506784",
            "gridwidth": 2,
            "linecolor": "#506784",
            "showbackground": true,
            "ticks": "",
            "zerolinecolor": "#C8D4E3"
           }
          },
          "shapedefaults": {
           "line": {
            "color": "#f2f5fa"
           }
          },
          "sliderdefaults": {
           "bgcolor": "#C8D4E3",
           "bordercolor": "rgb(17,17,17)",
           "borderwidth": 1,
           "tickwidth": 0
          },
          "ternary": {
           "aaxis": {
            "gridcolor": "#506784",
            "linecolor": "#506784",
            "ticks": ""
           },
           "baxis": {
            "gridcolor": "#506784",
            "linecolor": "#506784",
            "ticks": ""
           },
           "bgcolor": "rgb(17,17,17)",
           "caxis": {
            "gridcolor": "#506784",
            "linecolor": "#506784",
            "ticks": ""
           }
          },
          "title": {
           "x": 0.05
          },
          "updatemenudefaults": {
           "bgcolor": "#506784",
           "borderwidth": 0
          },
          "xaxis": {
           "automargin": true,
           "gridcolor": "#283442",
           "linecolor": "#506784",
           "ticks": "",
           "title": {
            "standoff": 15
           },
           "zerolinecolor": "#283442",
           "zerolinewidth": 2
          },
          "yaxis": {
           "automargin": true,
           "gridcolor": "#283442",
           "linecolor": "#506784",
           "ticks": "",
           "title": {
            "standoff": 15
           },
           "zerolinecolor": "#283442",
           "zerolinewidth": 2
          }
         }
        },
        "title": {
         "text": "Real-time tracking 'Facebook' mentions on Twitter 02-13 14:59 UTC"
        },
        "xaxis": {
         "anchor": "y",
         "domain": [
          0,
          0.6428571428571429
         ],
         "rangeslider": {
          "visible": true
         }
        },
        "xaxis2": {
         "anchor": "y2",
         "domain": [
          0.7428571428571429,
          1
         ]
        },
        "yaxis": {
         "anchor": "x",
         "domain": [
          0,
          1
         ]
        },
        "yaxis2": {
         "anchor": "x2",
         "domain": [
          0,
          0.34
         ]
        }
       }
      }
     },
     "metadata": {}
    }
   ],
   "source": [
    "conn1 = sqlite3.connect('twitter.db')\n",
    "print(\"Opened the database successfully\")\n",
    "\n",
    "conn = conn1.cursor()\n",
    "\n",
    "timenow = (datetime.datetime.utcnow() - datetime.timedelta(hours=0, minutes=20)).strftime('%Y-%m-%d %H:%M:%S')\n",
    "\n",
    "query = \"SELECT id_str, text, created_at, polarity, named_ent ,user_location FROM {} WHERE created_at <= '{}' \" .format(settings.TABLE_NAME, timenow)\n",
    "df = pd.read_sql(query, con=conn1)\n",
    "df['created_at'] = pd.to_datetime(df['created_at'])\n",
    "\n",
    "fig = make_subplots(\n",
    "        rows=2, cols=2,\n",
    "        column_widths=[1, 0.4],\n",
    "        row_heights=[0.6, 0.4],\n",
    "        specs=[[{\"type\": \"scatter\", \"rowspan\": 2}, {\"type\": \"choropleth\"}],\n",
    "               [            None                    , {\"type\": \"bar\"}]]\n",
    "        )\n",
    "\n",
    "    \n",
    "    \n",
    "'''\n",
    "Plot the Line Chart\n",
    "'''\n",
    "# Clean and transform data to enable time series\n",
    "result = df.groupby([pd.Grouper(key='created_at', freq='2s'), 'polarity']).count().unstack(fill_value=0).stack().reset_index()\n",
    "result = result.rename(columns={\"id_str\": \"Num of '{}' mentions\".format(settings.TRACK_WORDS[0]), \"created_at\":\"Time in UTC\"})  \n",
    "time_series = result[\"Time in UTC\"][result['polarity']==0].reset_index(drop=True)\n",
    "fig.add_trace(go.Scatter(\n",
    "    x=time_series,\n",
    "    y=result[\"Num of '{}' mentions\".format(settings.TRACK_WORDS[0])][result['polarity']==0].reset_index(drop=True),\n",
    "    name=\"Neural\",\n",
    "    opacity=0.8), row=1, col=1)   \n",
    "fig.add_trace(go.Scatter(\n",
    "    x=time_series,\n",
    "    y=result[\"Num of '{}' mentions\".format(settings.TRACK_WORDS[0])][result['polarity']==-1].reset_index(drop=True),\n",
    "    name=\"Negative\",\n",
    "    opacity=0.8), row=1, col=1)\n",
    "fig.add_trace(go.Scatter(\n",
    "    x=time_series,\n",
    "    y=result[\"Num of '{}' mentions\".format(settings.TRACK_WORDS[0])][result['polarity']==1].reset_index(drop=True),\n",
    "    name=\"Positive\",\n",
    "    opacity=0.8), row=1, col=1)\n",
    "\n",
    "'''\n",
    "Plot the Bar Chart\n",
    "'''\n",
    "# content = ' '.join(df[\"text\"])\n",
    "# content = re.sub(r\"http\\S+\", \"\", content)\n",
    "# content = content.replace('RT ', ' ').replace('&amp;', 'and')\n",
    "# content = re.sub('[^A-Za-z0-9]+', ' ', content)\n",
    "# content = content.lower()\n",
    "\n",
    "# tokenized_word = word_tokenize(content)\n",
    "# stop_words=set(stopwords.words(\"english\"))\n",
    "# filtered_sent=[]\n",
    "# for w in tokenized_word:\n",
    "#     if w not in stop_words:\n",
    "#         filtered_sent.append(w)\n",
    "\n",
    "li=list()\n",
    "for i in df[\"named_ent\"]:    \n",
    "    te=i.split(\",\")    \n",
    "    li.extend(te)\n",
    "\n",
    "li = list(filter(None, li))\n",
    "\n",
    "fdist = FreqDist(li)\n",
    "fd = pd.DataFrame(fdist.most_common(10), columns = [\"Word\",\"Frequency\"]).drop([0]).reindex()\n",
    "\n",
    "# Plot Bar chart   \n",
    "fig.add_trace(go.Bar(x=fd[\"Word\"], y=fd[\"Frequency\"], name=\"Freq Dist\"), row=2, col=2)\n",
    "# 59, 89, 152\n",
    "fig.update_traces(marker_color='rgb(59, 89, 152)', marker_line_color='rgb(8,48,107)', \\\n",
    "        marker_line_width=0.5, opacity=0.7, row=2, col=2)\n",
    "\n",
    "'''\n",
    "Plot the Geo-Distribution\n",
    "'''\n",
    "is_in_US=[]\n",
    "geo = df[['user_location']]\n",
    "df = df.fillna(\" \")\n",
    "for x in df['user_location']:\n",
    "    check = False\n",
    "    for s in STATES:\n",
    "        if s in x:\n",
    "            is_in_US.append(STATE_DICT[s] if s in STATE_DICT else s)\n",
    "            check = True\n",
    "            break\n",
    "    if not check:\n",
    "        is_in_US.append(None)\n",
    "\n",
    "geo_dist = pd.DataFrame(is_in_US, columns=['State']).dropna().reset_index()\n",
    "geo_dist = geo_dist.groupby('State').count().rename(columns={\"index\": \"Number\"}) \\\n",
    "        .sort_values(by=['Number'], ascending=False).reset_index()\n",
    "geo_dist[\"Log Num\"] = geo_dist[\"Number\"].apply(lambda x: math.log(x, 2))\n",
    "\n",
    "\n",
    "geo_dist['Full State Name'] = geo_dist['State'].apply(lambda x: INV_STATE_DICT[x])\n",
    "geo_dist['text'] = geo_dist['Full State Name'] + '<br>' + 'Num: ' + geo_dist['Number'].astype(str)\n",
    "fig.add_trace(go.Choropleth(\n",
    "    locations=geo_dist['State'], # Spatial coordinates\n",
    "    z = geo_dist['Log Num'].astype(float), # Data to be color-coded\n",
    "    locationmode = 'USA-states', # set of locations match entries in `locations`\n",
    "    colorscale = \"Blues\",\n",
    "    text=geo_dist['text'], # hover text\n",
    "    showscale=False,\n",
    "    geo = 'geo'\n",
    "    ),\n",
    "    row=1, col=2)\n",
    "\n",
    "fig.update_layout(\n",
    "    title_text= \"Real-time tracking '{}' mentions on Twitter {} UTC\".format(settings.TRACK_WORDS[0] ,datetime.datetime.utcnow().strftime('%m-%d %H:%M')),\n",
    "    geo = dict(\n",
    "        scope='usa',\n",
    "    ),\n",
    "    template=\"plotly_dark\",\n",
    "    margin=dict(r=20, t=50, b=50, l=20),\n",
    "    annotations=[\n",
    "        go.layout.Annotation(\n",
    "            text=\"Source: Twitter\",\n",
    "            showarrow=False,\n",
    "            xref=\"paper\",\n",
    "            yref=\"paper\",\n",
    "            x=0,\n",
    "            y=0)\n",
    "    ],\n",
    "    showlegend=False,\n",
    "    xaxis_rangeslider_visible=True\n",
    ")\n",
    "\n",
    "fig.show()\n",
    "\n",
    "time.sleep(60)"
   ]
  },
  {
   "cell_type": "code",
   "execution_count": 12,
   "metadata": {},
   "outputs": [
    {
     "output_type": "stream",
     "name": "stdout",
     "text": [
      "0                           \n1                           \n2           Mazi Nnamdi Kanu\n3                           \n4       dog Benji,Mottingham\n               ...          \n259    a Professional Styler\n260                         \n261     Newsmax,Mike Lindell\n262                    House\n263                         \nName: named_ent, Length: 264, dtype: object\n['Mazi Nnamdi Kanu', 'dog Benji', 'Mottingham', 'Newsmax', 'Mike Lindell', 'Gizmo', 'Myanmar', 'Instaspa', 'Mike Lindell', 'Tw', 'GRAPHIC SPECIAL PLEA Shadow', 'HORRIFIC LEG INJURY', 'Radio Biafra App', 'Mark Nzuzukerberge', 'India', 'Mike Lindell', 'Brew Co Bucks', 'WellingtonMain Gym  ', 'Twitter', 'FacebookArrested', 'House', 'US House', 'Rep Greene', 'HallColdwell Banker CandC Prope', 'House', 'Manhattan', 'the US Embassy', 'Asmara', 'Twitter', 'Insta', 'Newsmax', 'Mike Lindell', 'ShadowPledge', 'Tumblr', 'Instagram to Yahoo', 'Elon Musk', 'Mark Zuckerberg', 'Katie', 'Mike Lindell', 'MB First Nations', 'AMC', 'Subs', 'SNS', 'Lockdown', 'Nnamdi Kanu', 'Newsmax', 'Mike Lindell', 'Wikipedia', 'Shri ji50  ', 'India', 'Pad Jatra', 'Dhekiajuli', 'Graphic', 'Myanmar', 'Dorsa', 'Civil Trial Lawyer', 'Mike Lindell', 'Social Media Platforms', 'Myanmar', 'Myanmar', 'Mark Zuckerberg', 'India', 'Myanmar', 'House', 'Radhe Krishna Temple North Carolina Virtual Dance', 'Austin', 'Myanma', 'Kerala', 'Maria Sharapova', 'Trump', 'Mark Aungst', 'Tammy Bronsburg', 'Myanmar', 'FEB', 'MB First Nations', 'AMC FB FOCU', 'Matt Maddock', 'Michigan', 'DC', 'the Capitol Riot', 'Bollywood', 'Myanmar', 'Uganda', 'Time', 'Radhe Krishna Temple North Carolina Virtual Dance', 'Hong Kong', 'LA', 'the Royal Thai Consulate', 'LA', 'Nnamdi Kanu', 'Mike Lindell', 'Twitter', 'Saurav Ganguly', 'dog Benji', 'Mottingham', 'Myanmar', 'Myanm', 'dog Benji', 'Mottingham', 'NPR', 'Dan Benjamin', 'Pediat', 'YouTube', 'Myanmar', 'Myanmar', 'the House of Hypocrites', 'Myanmar', 'Myanmar', 'Bing', 'OnlyFans', 'Emmett Till', 'Chicago', 'Newsmax', 'Mike Lindell', 'House', 'Radhe Krishna Temple North Carolina', 'Cavi', 'Myanmar', 'Myanma', 'Zo Beck', 'Lagerfeuer', 'Helden', 'WhatsApp', 'PRIORITY', 'NHP', 'Colonial Realty the Gold Standard', 'PE', 'Newsmax', 'Mike Lindell', 'Reuters', 'Quiz', 'Disco extravaganza40', 'Taylor Greene', 'NUP', 'Twitter', 'Twitter', 'Attn Myanmar', 'Bangkok', 'Mandalay Food House', 'Depressika', 'WhatsApp', 'Insta', 'US', 'Ms Phillips', 'Tawid', 'Rick Springfield', 'Myanmar', 'Subs', 'SNS', 'Marjorie Taylor Greene', 'Media Apps', 'Myanmar', 'Charities', 'Borno Express', 'Keke NAPEP', 'Radhe Krishna Temple North Carolina Virtual Dance Competition Vi', 'Hell Farm', 'Netflix Mosques', 'Programme Kathak', 'a Professional Styler', 'Newsmax', 'Mike Lindell', 'House']\n"
     ]
    }
   ],
   "source": [
    "print(df[\"named_ent\"])\n",
    "li=list()\n",
    "for i in df[\"named_ent\"]:    \n",
    "    te=i.split(\",\")    \n",
    "    if len(te) > 0:\n",
    "        for j in te:\n",
    "            li.append(j)\n",
    "    else:\n",
    "        li.append(j)\n",
    "li = list(filter(None, li))\n",
    "print(li)"
   ]
  },
  {
   "cell_type": "code",
   "execution_count": 11,
   "metadata": {},
   "outputs": [
    {
     "output_type": "execute_result",
     "data": {
      "text/plain": [
       "3825"
      ]
     },
     "metadata": {},
     "execution_count": 11
    }
   ],
   "source": [
    "content = ' '.join(df[\"named_ent\"])\n",
    "content = re.sub(r\"http\\S+\", \"\", content)\n",
    "content = content.replace('RT ', ' ').replace('&amp;', 'and')\n",
    "content = re.sub('[^A-Za-z0-9]+', ' ', content)\n",
    "content = content.lower()\n",
    "\n",
    "tokenized_word = word_tokenize(content)\n",
    "stop_words=set(stopwords.words(\"english\"))\n",
    "filtered_sent=[]\n",
    "for w in tokenized_word:\n",
    "    if w not in stop_words:\n",
    "        filtered_sent.append(w)\n",
    "fdist = FreqDist(filtered_sent)\n",
    "fd = pd.DataFrame(fdist.most_common(10), columns = [\"Word\",\"Frequency\"]).drop([0]).reindex()\n",
    "\n",
    "# Plot Bar chart   \n",
    "fig.add_trace(go.Bar(x=fd[\"Word\"], y=fd[\"Frequency\"], name=\"Freq Dist\"), row=2, col=2)\n",
    "# 59, 89, 152\n",
    "fig.update_traces(marker_color='rgb(59, 89, 152)', marker_line_color='rgb(8,48,107)', \\\n",
    "        marker_line_width=0.5, opacity=0.7, row=2, col=2)\n"
   ]
  },
  {
   "cell_type": "code",
   "execution_count": 18,
   "metadata": {},
   "outputs": [
    {
     "output_type": "error",
     "ename": "AttributeError",
     "evalue": "'Figure' object has no attribute 'add_trace'",
     "traceback": [
      "\u001b[1;31m---------------------------------------------------------------------------\u001b[0m",
      "\u001b[1;31mAttributeError\u001b[0m                            Traceback (most recent call last)",
      "\u001b[1;32m<ipython-input-18-439a03e516c1>\u001b[0m in \u001b[0;36m<module>\u001b[1;34m\u001b[0m\n\u001b[0;32m      6\u001b[0m \u001b[1;31m# print(fd)\u001b[0m\u001b[1;33m\u001b[0m\u001b[1;33m\u001b[0m\u001b[1;33m\u001b[0m\u001b[0m\n\u001b[0;32m      7\u001b[0m \u001b[1;31m# # Plot Bar chart\u001b[0m\u001b[1;33m\u001b[0m\u001b[1;33m\u001b[0m\u001b[1;33m\u001b[0m\u001b[0m\n\u001b[1;32m----> 8\u001b[1;33m \u001b[0mfig\u001b[0m\u001b[1;33m.\u001b[0m\u001b[0madd_trace\u001b[0m\u001b[1;33m(\u001b[0m\u001b[0mgo\u001b[0m\u001b[1;33m.\u001b[0m\u001b[0mBar\u001b[0m\u001b[1;33m(\u001b[0m\u001b[0mx\u001b[0m\u001b[1;33m=\u001b[0m\u001b[0mfd\u001b[0m\u001b[1;33m[\u001b[0m\u001b[1;34m\"Word\"\u001b[0m\u001b[1;33m]\u001b[0m\u001b[1;33m,\u001b[0m \u001b[0my\u001b[0m\u001b[1;33m=\u001b[0m\u001b[0mfd\u001b[0m\u001b[1;33m[\u001b[0m\u001b[1;34m\"Frequency\"\u001b[0m\u001b[1;33m]\u001b[0m\u001b[1;33m,\u001b[0m \u001b[0mname\u001b[0m\u001b[1;33m=\u001b[0m\u001b[1;34m\"Freq Dist\"\u001b[0m\u001b[1;33m)\u001b[0m\u001b[1;33m,\u001b[0m \u001b[0mrow\u001b[0m\u001b[1;33m=\u001b[0m\u001b[1;36m2\u001b[0m\u001b[1;33m,\u001b[0m \u001b[0mcol\u001b[0m\u001b[1;33m=\u001b[0m\u001b[1;36m2\u001b[0m\u001b[1;33m)\u001b[0m\u001b[1;33m\u001b[0m\u001b[1;33m\u001b[0m\u001b[0m\n\u001b[0m\u001b[0;32m      9\u001b[0m \u001b[1;31m# 59, 89, 152\u001b[0m\u001b[1;33m\u001b[0m\u001b[1;33m\u001b[0m\u001b[1;33m\u001b[0m\u001b[0m\n\u001b[0;32m     10\u001b[0m fig.update_traces(marker_color='rgb(59, 89, 152)', marker_line_color='rgb(8,48,107)', \\\n",
      "\u001b[1;31mAttributeError\u001b[0m: 'Figure' object has no attribute 'add_trace'"
     ]
    }
   ],
   "source": [
    "fdist = FreqDist(li)\n",
    "# print(fdist)\n",
    "\n",
    "# fdist = FreqDist(filtered_sent)\n",
    "fd = pd.DataFrame(fdist.most_common(10), columns = [\"Word\",\"Frequency\"]).drop([0]).reindex()\n",
    "# print(fd)\n",
    "# # Plot Bar chart   \n",
    "fig.add_trace(go.Bar(x=fd[\"Word\"], y=fd[\"Frequency\"], name=\"Freq Dist\"), row=2, col=2)\n",
    "# 59, 89, 152\n",
    "fig.update_traces(marker_color='rgb(59, 89, 152)', marker_line_color='rgb(8,48,107)', \\\n",
    "        marker_line_width=0.5, opacity=0.7, row=2, col=2)\n"
   ]
  },
  {
   "cell_type": "code",
   "execution_count": 19,
   "metadata": {
    "tags": []
   },
   "outputs": [
    {
     "output_type": "stream",
     "name": "stderr",
     "text": [
      "Luzon  not found in regex\n",
      "Africa  not found in regex\n",
      "Opened the database successfully\n",
      "None not found in regex\n",
      "None not found in regex\n",
      "None not found in regex\n",
      "None not found in regex\n",
      "None not found in regex\n",
      "None not found in regex\n",
      "None not found in regex\n",
      "None not found in regex\n",
      "None not found in regex\n",
      "None not found in regex\n",
      "None not found in regex\n",
      "None not found in regex\n",
      "None not found in regex\n",
      "None not found in regex\n",
      "None not found in regex\n",
      "None not found in regex\n",
      "None not found in regex\n",
      "None not found in regex\n",
      "None not found in regex\n",
      "None not found in regex\n",
      "None not found in regex\n",
      "['TTO', 'ITA', 'ITA', 'MEX', 'ITA', 'USA', 'USA', 'ITA', 'ITA', 'USA', 'ITA', 'KOR', 'ITA', 'GRC', 'USA', 'CAN', 'GBR', 'ITA', 'USA', 'not found', 'not found', 'GBR', 'not found', 'ITA', 'USA', 'not found', 'USA', 'ITA', 'ARG', 'ZAF', 'not found', 'ITA', 'AUT', 'ITA', 'MYS', 'ITA', 'USA', 'ITA', 'ITA', 'ITA', 'GBR', 'CAN', 'USA', 'ITA', 'not found', 'IND', 'IND', 'IDN', 'ITA', 'USA', 'ARG', 'USA', 'ITA', 'ITA', 'not found', 'ZAF', 'USA', 'USA', 'ITA', 'USA', 'IND', 'CAN', 'ITA', 'ITA', 'USA', 'USA', 'ITA', 'ITA', 'USA', 'ITA', 'PAK', 'CAN', 'not found', 'not found', 'ITA', 'MYS', 'ITA', 'ITA', 'USA', 'LTU', 'USA', 'ITA', 'AUS', 'ITA', 'SGP', 'ITA', 'ITA', 'USA', 'ITA', 'not found', 'JAM', 'not found', 'KOR', 'ITA', 'USA', 'ITA', 'USA', 'not found', 'NLD', 'GBR', 'ITA', 'USA', 'ITA', 'MYS', 'IND', 'not found', 'ITA', 'USA', 'NGA', 'GBR', 'ITA', 'ITA', 'ITA', 'not found', 'ITA', 'USA', 'ITA', 'USA', 'ZAF', 'ITA', 'ITA', 'ITA', 'not found', 'ITA', 'USA', 'USA', 'MMR', 'GRC', 'ITA', 'not found', 'VNM', 'ITA', 'USA', 'ITA', 'ITA', 'not found', 'ITA', 'IND', 'ITA', 'CAN', 'ITA', 'USA', 'ITA', 'not found', 'USA', 'ITA', 'CAN', 'ITA', 'ITA', 'CAN', 'ITA', 'ITA', 'USA', 'GBR', 'MMR', 'ITA', 'IDN', 'IND', 'ITA', 'USA', 'CAN', 'VNM', 'USA', 'ITA', 'ITA', 'not found', 'ITA', 'USA', 'ITA', 'not found', 'ITA', 'ITA', 'GBR', 'not found', 'IND', 'USA', 'USA', 'ITA', 'USA', 'ITA', 'USA', 'USA', 'USA', 'USA', 'USA', 'ITA', 'not found', 'ERI', 'not found', 'USA', 'USA', 'ITA', 'ITA', 'USA', 'ZWE', 'USA', 'CHN', 'ITA', 'CAN', 'USA', 'ITA']\n",
      "Counter({'ITA': 76, 'USA': 48, 'not found': 23, 'CAN': 9, 'GBR': 7, 'IND': 7, 'ZAF': 3, 'MYS': 3, 'KOR': 2, 'GRC': 2, 'ARG': 2, 'IDN': 2, 'MMR': 2, 'VNM': 2, 'TTO': 1, 'MEX': 1, 'AUT': 1, 'PAK': 1, 'LTU': 1, 'AUS': 1, 'SGP': 1, 'JAM': 1, 'NLD': 1, 'NGA': 1, 'ERI': 1, 'ZWE': 1, 'CHN': 1})\n"
     ]
    }
   ],
   "source": [
    "import country_converter as coco\n",
    "import pandas as np\n",
    "import numpy as np\n",
    "import sqlite3\n",
    "import collections\n",
    "\n",
    "conn1 = sqlite3.connect('twitter.db')\n",
    "print(\"Opened the database successfully\")\n",
    "\n",
    "conn = conn1.cursor()\n",
    "\n",
    "query = \"SELECT * from  {}\" .format(settings.TABLE_NAME)\n",
    "df = pd.read_sql(query, con=conn1)\n",
    "\n",
    "normal_names = df[\"user_location\"].tolist()\n",
    "iso2_codes = coco.convert(names=normal_names, to='ISO3')\n",
    "print(iso2_codes)\n",
    "counter=collections.Counter(iso2_codes)\n",
    "print(counter)"
   ]
  },
  {
   "cell_type": "code",
   "execution_count": null,
   "metadata": {},
   "outputs": [],
   "source": []
  }
 ]
}