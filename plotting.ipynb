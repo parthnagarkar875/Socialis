{
 "cells": [
  {
   "cell_type": "code",
   "execution_count": 26,
   "metadata": {},
   "outputs": [],
   "source": [
    "import settings\n",
    "import mysql.connector\n",
    "import pandas as pd\n",
    "import time\n",
    "import itertools\n",
    "import math\n",
    "import credentials\n",
    "import seaborn as sns\n",
    "import matplotlib.pyplot as plt\n",
    "import matplotlib as mpl\n",
    "#%matplotlib inline\n",
    "import plotly.express as px\n",
    "import datetime\n",
    "from IPython.display import clear_output\n",
    "\n",
    "import plotly.offline as py\n",
    "import plotly.graph_objs as go\n",
    "from plotly.subplots import make_subplots\n",
    "# py.init_notebook_mode()\n",
    "from wordcloud import WordCloud, STOPWORDS\n",
    "import re\n",
    "import nltk\n",
    "# nltk.download('punkt')\n",
    "# nltk.download('stopwords')\n",
    "from nltk.probability import FreqDist\n",
    "from nltk.tokenize import word_tokenize\n",
    "from nltk.corpus import stopwords\n",
    "import sqlite3\n",
    "import country_converter as coco\n",
    "import numpy as np\n",
    "import collections\n",
    "import warnings\n",
    "import tweepy\n",
    "from nltk.corpus import stopwords\n",
    "stop = stopwords.words('english')\n",
    "# nltk.download('stopwords')"
   ]
  },
  {
   "cell_type": "code",
   "execution_count": 27,
   "metadata": {},
   "outputs": [
    {
     "output_type": "stream",
     "name": "stdout",
     "text": [
      "Opened the database successfully\n"
     ]
    }
   ],
   "source": [
    "conn1 = sqlite3.connect('twitter.db')\n",
    "print(\"Opened the database successfully\")\n",
    "conn = conn1.cursor()\n",
    "\n",
    "\n",
    "timenow = (datetime.datetime.utcnow() - datetime.timedelta(hours=0, minutes=10)).strftime('%Y-%m-%d %H:%M:%S')\n",
    "\n",
    "# query = \"SELECT * FROM {} WHERE created_at <= '{}' \" .format(settings.TABLE_NAME, timenow)\n",
    "query=\"select * from Facebook\"\n",
    "df = pd.read_sql(query, con=conn1)\n",
    "df['created_at'] = pd.to_datetime(df['created_at'])"
   ]
  },
  {
   "cell_type": "code",
   "execution_count": 48,
   "metadata": {
    "tags": [
     "outputPrepend"
    ]
   },
   "outputs": [
    {
     "output_type": "stream",
     "name": "stdout",
     "text": [
      "fectant cure covid anything scientific production vaccine covid definitely brain wash trump facebook fox i hope soon rather later folk wise', 'facebook post celebrity pic random quote never say terrible time', 'i love facebook', 'please take moment scroll take look pretty girl gorgeous girl need break lets find one please get see', 'follow gt thank muchif facebook instagram feel free give follow page well', 'happy birthday handsome lead rapper', 'outsource service offer many benefit church responsibility monitor outsource operationsjoin facebook april pm et learn key consideration success', 'usa boost free speech supreme court justice suggest big tech may right regulate content platform', 'drops solo track take top trends twitter worldwide', 'person write false viral tweet see thread work daily caller whose subsidiary part facebook fact check program', 'miss live interview dom famularo mapex artist bruce briggz facebook page yesterday upload youtube channel', 'lakh entriesof indian user mobile number email address facebook data leak1 change facebook password2 change email address link facebook account3 change mobile number link facebook account', 'facebook restrict use word zionist palestinians describe daily life military occupation discuss family historyemail tell palestinians need talk', 'union end slums page video senior talk condition live tenant building meet man today exchange information', 'genocide alert another round tigrayans yechila way abiadi near gerebgiba eritrean killer soldier fear mass execution intervention need', 'i love facebook', 'bust cult like iranian dissident group elaborate troll farm operation', 'i happy announce i stream bass factory every two wednesdays pm france time', 'i one thing right life make facebook i middle school', 'fund collect donation drive send main patrick thailand patrick official april tuesday name initial amount donate post facebook page patrick nattawat finkler ph transparency', 'facebook user say asian woman jump burien washington', 'lakh entriesof indian user mobile number email address facebook data leak1 change facebook password2 change email address link facebook account3 change mobile number link facebook account', 'get i start social journey facebook age i class th th', 'i love facebook', 'i get kick flat earth facebook group i ask foot social distancing push anyone ove', 'nice pussy', 'i love facebook', 'incredibly base shit come fender offset guitar facebook group', 'link oxford vaccine blood clots significant health issues tell truth allow discuss truth open discussion censor many platform notably facebook stuff', 'save cute puppy', 'make history become album most itune achieve st dominica121', 'seem like k ahgase keep get sponsor levi ad youngjae facebook', 'bust cult like iranian dissident group elaborate troll farm operation', 'i get kick flat earth facebook group i ask foot social distancing push anyone ove', 'major browser privacy promise good thing unfortunately mean actually stop google facebook tracking totally stop tracker load like duckduckgo app extension', 'national privacy commission start validate information allege large scale breach compromise facebook account filipinos', 'i hear carrie team also put facebook watch maybe', 'thank join easter bonnet parade winner announce soon xcheck full gallery', 'facebook memory stay upset i lol', 'big tech need focus ban dangerous communist propaganda campaign rather censor conservative congressional republicans ask chinese disinformation ad uyghur genocide allow platform', 'lakh entriesof indian user mobile number email address facebook data leak1 change facebook password2 change email address link facebook account3 change mobile number link facebook account', 'account close remove since phone number part data breach fix this fucking scary', 'i love facebook', 'facebook unreal', 'stop support movement want jews jewish homeland hold plo pa hamas accountable otherwise hypocritical', 'thank malapuram thank give letter post fb page people malappuram polling', 'i see tweet i facebook jail yesterday morning realize i perfect pic', 'lakh entriesof indian user mobile number email address facebook data leak1 change facebook password2 change email address link facebook account3 change mobile number link facebook account', 'look forward poetry read two week wed april pm ast event poetry cruelest month host sponsor league', 'hilarious official everyone really leave facebook whatsapp signal include mark zuckerberg', 'thank premiere excited share new version change mind also really hope see person soon', 'take minute guy find human smuggler ad advertising sell service illegally enter uni', 'whole new worm', 'cjestagram ig jyj fb update jaejoong return without fail today special guest ig', 'email tell palestinians need talk', 'i love facebook', 'have zucked one million expose newly reveal one many gigantic facebook datum leak social medium never acknowlege apologise forcheck let us know', 'call queen hoe on facebook momma nem', 'auntie go ask i shit', 'i love facebook', 'dejoy need go serve jail time election tampering i stand mandid see recent appearance congress say evil little smirk i want punch face get use i i go anywhere ass', 'kenyans hijack live ongoing presentation imf economic recovery', 'human left penny die thursday time cruel especially sweet affectionate dog friendly pup still wait come back save rescue pledge via please rt penny', 'watch carrie perform live watch teamcu', 'i love facebook', 'make history become album most itune achieve st dominica121', 'hour poor year old puppy leave save story heartbreaking care give miracle i pledge 7 please pledge i please least rt share post', 'detail more million people leak online facebook recent data breach largely consist mobile numbers', 'issue no2 nowplease share print spread keep people inform follow account receive every new issue daily pm fb', 'absolutely insane include hear congress today facebook breach see old news certainly million people personal datum post free everything company fail avoid outcome damn important', 'i get kick flat earth facebook group i ask foot social distancing push anyone ove', 'union end slums page video senior talk condition live tenant building meet man today exchange information', 'facebook much hope data breach go quietly away fail respond press inquiry today meanwhile grow evidence hacker continue access facebook datum long facebook claim fix issue', 'i wonder mma vero like hopefully nothing like facebook insta', 'happy birthday handsome lead rapper', 'everyone facebook tl love get much time', 'justice thomas suggest tech platform could regulate like utility would major shift service like facebook google twitter', 'true', 'tune thursday', 'i want ex boyfriend mach back go one cypress bay high graduate go work many job block i', 'titie', 'unbelievably stupid add cbs boycotting today i diet coke ups delta facebook cbs let boycotting begin', 'see italian one bad old people facebook', 'today 30 join press conference ab corporate free elections actyou watch facebook', 'facebook much hope data breach go quietly away fail respond press inquiry today meanwhile grow evidence hacker continue access facebook datum long facebook claim fix issue', 'i get kick flat earth facebook group i ask foot social distancing push anyone ove', 'account close remove since phone number part data breach fix this fucking scary', 'i love facebook', 'i love facebook', 'i find doppelganger columbia mo kara crumb look facebook', 'i get kick flat earth facebook group i ask foot social distancing push anyone ove', 'check see phone number part facebook data breach', 'i welcome construction hub academy sort high skilled qualification integral develop qualify employment future generation resident', 'celebration life', 'chocolate surround area area friendly scared seizure', 'i love facebook', 'imf official facebook page new entertainment barmy country people tie shoelace hawarudi nyuma', 'facebook wallpaper', 'kenyans hijack live ongoing presentation imf economic recovery link', 'i love facebook', 'account close remove since phone number part data breach fix this fucking scary', 'i want break facebook messenger properly reunite husband please thank', 'promotion tweet time retweet tweet reply twitch facebook youtube channel check magnificent streamer also reply', 'home minister shri ji public program th april west bengal watch', 'find portion show hour minute mark', 'link oxford vaccine blood clots significant health issues tell truth allow discuss truth open discussion censor many platform notably facebook stuff', 'future without local news already small town pa facebook group deem guy traffic ticket murderer gun detroit loose cause dad barricade family aim gun front door', 'bro i ever hospital bed i stay alive take selfie i facebook look disrespectful i', 'think fart daily we needed fart shredded onion garden friend kitty litter bacon dog poo left turn bubble dog diarrhea tend win small poopsie sing around deep learning save fart ohh clark gable time life facebook', 'another activists actor facebook celebsmal lead sac terrorists control medium announce today activist actor facebook celebs include charge section', 'home minister shri ji public program th april west bengal watch', 'start', 'every day groupshello i shard break glass pre loved medicine spoon diaper lightly use urine sample bless pls q serious taker', 'join i day i read daily give devotional make comment lead prayer download free give app go givehim15 facebook page give yt join i appeal heaven america', 'person write false viral tweet see thread work daily caller whose subsidiary part facebook fact check program', 'i get kick flat earth facebook group i ask foot social distancing push anyone ove', 'loomer actually argue twitter facebook etc violate first amendment right bad legal take unto scotus deny cert even entertain idea', 'justice thomas argue make facebook twitter google utility', 'real x liverpool facebook', 'time kid tell i would steal girl time i tell i give number ig twitter facebook still would steal girl say yea cause get perfect eyebrow', 'instagram facebook', 'legoshi need speak horni allowed', 'people enter phone number website see appear recent facebook data breach', 'medical family strike raid terrorist five military vehicle house van arrive hit protester four doctor motorcycle arrest', 'make history become album most itune achieve st dominica121', 'medical family strike raid terrorist five military vehicle house van arrive hit protester four doctor motorcycle arrest', 'world richest artist thank facebook david choe edition edition world big drop', 'hi wonder i get info taxis i drop week ago mailbox still full one answer phone facebook page go email unanswered please advise', 'community index twitter always include tweet reply please use constructive means facebook instagram like comment post relate gulf facebook k', 'i get kick flat earth facebook group i ask foot social distancing push anyone ove', 'go live facebook pm et talk occupational licensing ed timmons alexis schumacher', 'medical family strike raid terrorist five military vehicle house van arrive hit protester four doctor motorcycle arrest', 'detail more million people leak online facebook recent data breach largely consist mobile numbers', 'lakh entriesof indian user mobile number email address facebook data leak1 change facebook password2 change email address link facebook account3 change mobile number link facebook account', 'i get kick flat earth facebook group i ask foot social distancing push anyone ove', 'see facebook want share really speak mei know i alone i say depression anxiety get significantly bad within past year post remind i go hard time ok ask help', 'twitter youtube facebook whatsapp instagram conquer social medium platform mass bicycle entry polling booth make impact even snap finger big superstar time', 'whole new worm', 'rise social audio trend announce plan release esque audio platform brand add facebook audio platform social strategy', 'see facebook want share really speak mei know i alone i say depression anxiety get significantly bad within past year post remind i go hard time ok ask help', 'i add parent facebook idk good bad idea hrjskdhdjak', 'i love facebook', 'human left penny die thursday time cruel especially sweet affectionate dog friendly pup still wait come back save rescue pledge via please rt penny', 'facebook apple niantic bet people ready augmented reality glass', 'facebook test qr code base p2p payment 04 06 4200', 'person write false viral tweet see thread work daily caller whose subsidiary part facebook fact check program', 'reserve tickets nowin doll world tammy georgette onlinefreesun apr facebook streamever wonder barbie make create barbie doll ever hear big beautiful dolls know black doll de', 'bratislava zoo slovakia welcome yet unnamed new baby dik dik', 'watch carrie perform live watch teamcu', 'attention alumni oneonta womens soccer dm woman soccer twitter instagram facebook page mileage add team total win', 'friend ask i post social medium anymore i reach burn cover us empire atrocious war crime abroad last year social medium detox i feel human', 'woman right tran people conflict say', 'go live 30pm today facebook talk housing pandemic join dr jeffery jet foundation shonda conversation housing state nevada national call cancel rent', 'spoke facebook datum hack today', 'score record break week billboard hot surpass become long charting song korean act history32', 'facebook trialle year ago largely unsuccessful', 'i love facebook', 'leaker say offer private detail million facebook user', 'i get kick flat earth facebook group i ask foot social distancing push anyone ove', 'email tell palestinians need talk', 'facebook confirm sample m data relate contact importer vulnerability fix aug reporting contact importer vuln never actually disclose detail notify affected user 16', 'mistakenly log facebook todayand i regret', 'lands atop worldwide itunes album chart st solo album topping itunes charts countries32', 'good morning search see phone number one million phone number facebook leak', 'facebook need eliminate', 'early i scream', 'leak probably bring wave malicious attempt next day week lot apart inform people list i contact vip list surprise reply ba', 'facebook busts iranian dissident group elaborate troll farm operation', 'stop internet shutdown', 'google facebook slack publicly trade tech company create two class share one public founder insider governance expert legal scholar say strategy pose threat democracy', 'mom update facebook profile cover photo match every holiday i love', 'hilarious official everyone really leave facebook whatsapp signal include mark zuckerberg', 'facebook much hope data breach go quietly away fail respond press inquiry today meanwhile grow evidence hacker continue access facebook datum long facebook claim fix issue', 'facebook say long replenish oculus rift s supply', 'lakh entriesof indian user mobile number email address facebook data leak1 change facebook password2 change email address link facebook account3 change mobile number link facebook account', 'another activists actor facebook celebsmal lead sac terrorists control medium announce today activist actor facebook celebs include charge section', 'new lwr look learn life ranch check lwr virtual resident orientation thursday night 48 pm facebook page get informed get engage get involved detail visit', 'facebook', 'henry wallace teach calculus statistic include regression human learn lot self teaching worth listen patient engage know limitation know', 'i get kick flat earth facebook group i ask foot social distancing push anyone ove', 'seem philippines national privacy commission first data protection authority announce investigation facebook data breach facebook comms class old datum', 'lakh entriesof indian user mobile number email address facebook data leak1 change facebook password2 change email address link facebook account3 change mobile number link facebook account', 'new recruiter quit facebook say hr worker manipulate diversity stat include tag white people poc boost number deep look process many company struggle via i', 'attention alumni oneonta womens soccer dm woman soccer twitter instagram facebook page mileage add team total win', 'i get kick flat earth facebook group i ask foot social distancing push anyone ove', 'twitter facebook et al might want read', 'lakh entriesof indian user mobile number email address facebook data leak1 change facebook password2 change email address link facebook account3 change mobile number link facebook account', 'beautifully write beautiful culture people generosity another level believe small act kindness make big difference thing get tough become one unity something terrorist read gt', 'shoutout good like game', 'met black man today vigil adam toledo year old mexican boy shoot police give i card say try organize man march westside i pull org facebook two like', 'could twamm', 'kind misinformation trade news alerts beaver county thousand group like pose unique danger subtler way insidious likely trust via', 'another twamm', 'insider facebook google tech giant donate ten thousand dollar republican group push voter suppression law', 'i new bedford mccoy vaccination center friend mayor mitchell frontline health care hero work finally defeat public health crisis', 'person write false viral tweet see thread work daily caller whose subsidiary part facebook fact check program', 'najib facebook post good recommendation government could improve nation come idea throughout year tenure prime minister agree', 'i get kick flat earth facebook group i ask foot social distancing push anyone ove', 'i see dad post facebook', 'exclusive photo', 'article delete meet journalistic standard balance new article meet journalistic standard balance', 'lady facebook give dog maternity shoot omg', 'i love facebook', 'happy birthday handsome lead rapper', 'hire apply', 'fuck facebook', 'issue no2 nowplease share print spread keep people inform follow account receive every new issue daily pm fb', 'tonight pm et ilana c myer read talk watch youtube channel', 'use facebook advise check see personal informationincluding phone number location birthdaysha expose choose service put privacy first', 'key note speaker hudson hallum make another court date election fraud', 'lakh entriesof indian user mobile number email address facebook data leak1 change facebook password2 change email address link facebook account3 change mobile number link facebook account', 'bright clothes sharo identityaainahh formal vol05 amna khadijavisit', 'lakh entriesof indian user mobile number email address facebook data leak1 change facebook password2 change email address link facebook account3 change mobile number link facebook account', 'socialhere place keep date everything afc', 'see facebook want share really speak mei know i alone i say depression anxiety get significantly bad within past year post remind i go hard time ok ask help', 'never say interpret i speak experience real life experience facebook may different experience valid never say everyone hope reduce anxiety', 'bro facebook link every accounts add i facebook see every account', 'click link join', 'happy birthday handsome lead rapper', 'hear swapper want continue showcase search facebook page share information resident support keep help find perfect match', 'also first election fully utilize social medium engage voter disseminate result facebook twitter thank support understanding navigate new water', 'i never think would day i say facebook overwhelming change many thing i lose half time lol', 'leak phone number mark zuckerberg reveal signalzuckerberg phone number among leak datum million facebook user security researcher confirm zuckerberg use signal app', 'i get kick flat earth facebook group i ask foot social distancing push anyone ove']\n"
     ]
    }
   ],
   "source": [
    "stopwords = set(STOPWORDS)\n",
    "df['text'] = df['text'].apply(lambda x: ' '.join([word for word in x.split() if word not in (stop)]))\n",
    "print(df['text'][0])\n",
    "li=list()\n",
    "p=list()\n",
    "for i in df['text']:\n",
    "    # print(i)\n",
    "    p.append(i.lower())\n",
    "print(p)\n",
    "\n",
    "# lst=str()\n",
    "# for i in df['text']:\n",
    "#     lst = lst + ' '+ i\n",
    "# wordcloud = WordCloud().generate(lst)\n",
    "# plt.imshow(wordcloud, interpolation='bilinear')\n",
    "# plt.axis(\"off\")\n",
    "# plt.show()"
   ]
  },
  {
   "cell_type": "code",
   "execution_count": 4,
   "metadata": {},
   "outputs": [
    {
     "output_type": "stream",
     "name": "stdout",
     "text": [
      "0        GBR\n1        IND\n2        GBR\n3        IND\n4       None\n        ... \n2189     GBR\n2190     ITA\n2191     USA\n2192     IND\n2193     HTI\nName: user_location, Length: 2194, dtype: object\n"
     ]
    }
   ],
   "source": [
    "print(df['user_location'])"
   ]
  },
  {
   "cell_type": "code",
   "execution_count": 52,
   "metadata": {},
   "outputs": [],
   "source": [
    "normal_names = df[\"user_location\"].dropna().tolist()\n",
    "# normal_names = ['Philippines ' if x=='Luzon ' else x for x in normal_names]\n",
    "# normal_names = ['Iran ' if x=='ایران ' else x for x in normal_names] \n",
    "# iso2_codes = coco.convert(names=normal_names, to='ISO3')\n",
    "# warnings.filterwarnings(\"ignore\")\n",
    "\n",
    "\n",
    "counter=collections.Counter(normal_names)\n",
    "df1 = pd.DataFrame.from_dict(counter, orient='index').reset_index()\n",
    "df1 = df1.rename(columns={'index':'CODE', 0:'COUNT'})\n",
    "country=list()\n",
    "for i in df1['CODE']:\n",
    "    country.append(coco.convert(names = i, to = 'name_short'))    \n",
    "df1['COUNTRY']=country\n"
   ]
  },
  {
   "cell_type": "code",
   "execution_count": 53,
   "metadata": {},
   "outputs": [
    {
     "output_type": "stream",
     "name": "stdout",
     "text": [
      "  CODE  COUNT         COUNTRY\n0  USA     25   United States\n1  ITA     38           Italy\n2  AUT      1         Austria\n3  GBR     10  United Kingdom\n4  AUS      1       Australia\n"
     ]
    }
   ],
   "source": [
    "print(df1.head())"
   ]
  },
  {
   "cell_type": "code",
   "execution_count": 54,
   "metadata": {
    "scrolled": true
   },
   "outputs": [],
   "source": [
    "# conn1 = sqlite3.connect('twitter.db')\n",
    "# print(\"Opened the database successfully\")\n",
    "# conn = conn1.cursor()\n",
    "\n",
    "\n",
    "# timenow = (datetime.datetime.utcnow() - datetime.timedelta(hours=0, minutes=10)).strftime('%Y-%m-%d %H:%M:%S')\n",
    "\n",
    "# query = \"SELECT * FROM {} WHERE created_at <= '{}' \" .format(settings.TABLE_NAME, timenow)\n",
    "# df = pd.read_sql(query, con=conn1)\n",
    "# df['created_at'] = pd.to_datetime(df['created_at'])\n",
    "\n",
    "\n",
    "# '''\n",
    "# Country frequency counting and conversion\n",
    "# '''\n",
    "\n",
    "\n",
    "# normal_names = df[\"user_location\"].dropna().tolist()\n",
    "# normal_names = ['Philippines ' if x=='Luzon ' else x for x in normal_names]\n",
    "# normal_names = ['Iran ' if x=='ایران ' else x for x in normal_names] \n",
    "# iso2_codes = coco.convert(names=normal_names, to='ISO3')\n",
    "# warnings.filterwarnings(\"ignore\")\n",
    "\n",
    "\n",
    "# counter=collections.Counter(iso2_codes)\n",
    "# df1 = pd.DataFrame.from_dict(counter, orient='index').reset_index()\n",
    "# df1 = df1.rename(columns={'index':'CODE', 0:'COUNT'})\n",
    "# country=list()\n",
    "# for i in df1['CODE']:\n",
    "#     country.append(coco.convert(names = i, to = 'name_short'))    \n",
    "# df1['COUNTRY']=country\n",
    "\n",
    "\n",
    "# Clean and transform data to enable time series\n",
    "result = df.groupby([pd.Grouper(key='created_at', freq='2s'), 'polarity']).count().unstack(fill_value=0).stack().reset_index()\n",
    "result = result.rename(columns={\"id_str\": \"Num of '{}' mentions\".format(settings.TRACK_WORDS[0]), \"created_at\":\"Time in UTC\"})  \n",
    "time_series = result[\"Time in UTC\"][result['polarity']==0].reset_index(drop=True)\n",
    "\n",
    "#NER frequency counting\n",
    "li=list()\n",
    "for i in df[\"named_ent\"]:    \n",
    "    te=i.split(\",\")    \n",
    "    li.extend(te)\n",
    "\n",
    "li = list(filter(None, li))\n",
    "fdist = FreqDist(li)\n",
    "fd = pd.DataFrame(fdist.most_common(10), columns = [\"Word\",\"Frequency\"]).drop([0]).reindex()\n",
    "\n",
    "# Likes count\n",
    "likes=df['favorite_count']\n",
    "\n",
    "\n",
    "#User frequency count\n",
    "user=list()\n",
    "for i in df['users_list']:\n",
    "    a=i.split(\",\")\n",
    "    user.extend(a)\n",
    "    \n",
    "user = list(filter(None, user))\n",
    "\n",
    "fdist1 = FreqDist(user)\n",
    "fd1 = pd.DataFrame(fdist1.most_common(10), columns = [\"Word\",\"Frequency\"]).drop([0]).reindex()\n",
    "\n",
    "val_list=list()\n",
    "val_list.append(df['polarity'].value_counts()[0])\n",
    "val_list.append(df['polarity'].value_counts()[1])\n",
    "val_list.append(df['polarity'].value_counts()[-1])\n",
    "\n",
    "\n",
    "# time.sleep(60)"
   ]
  },
  {
   "cell_type": "code",
   "execution_count": 55,
   "metadata": {},
   "outputs": [
    {
     "output_type": "stream",
     "name": "stdout",
     "text": [
      "   CODE  COUNT                COUNTRY\n0   USA     25          United States\n1   ITA     38                  Italy\n2   AUT      1                Austria\n3   GBR     10         United Kingdom\n4   AUS      1              Australia\n5   PHL      1            Philippines\n6   JOR      2                 Jordan\n7   ARE      3   United Arab Emirates\n8   CAN      5                 Canada\n9   FRA      3                 France\n10  IRL      2                Ireland\n11  CHL      3                  Chile\n12  NPL      1                  Nepal\n13  DEU      4                Germany\n14  LAO      1                   Laos\n15  BGD      1             Bangladesh\n16  ZAF      1           South Africa\n17  NGA      5                Nigeria\n18  IND      3                  India\n19  BEL      1                Belgium\n20  FSM      1  Micronesia, Fed. Sts.\n21  BRA      1                 Brazil\n22  PAK      2               Pakistan\n23  JAM      1                Jamaica\n"
     ]
    }
   ],
   "source": [
    "print(df1)"
   ]
  },
  {
   "cell_type": "code",
   "execution_count": 47,
   "metadata": {},
   "outputs": [
    {
     "name": "stdout",
     "output_type": "stream",
     "text": [
      "Iran \n"
     ]
    }
   ],
   "source": [
    "# df.loc[df['user_location'] == \"ایران \"]\n",
    "\n",
    "def get_location(temp_location):\n",
    "    geolocator = Nominatim(user_agent=\"myGeocoder\")         # Initializing geolocator object for getting address\n",
    "    try:\n",
    "        location = geolocator.geocode(temp_location)\n",
    "        # print(location.raw['address']['country'])                \n",
    "        location_list = location.raw['display_name'].split(\",\")\n",
    "        user_location1=location_list[len(location_list)-1].strip()               # Extracting only country name\n",
    "        translator = google_translator()  \n",
    "        user_location = translator.translate(user_location1, lang_tgt='en')         #Translate the location to english\n",
    "    except Exception as e:\n",
    "        user_location = None\n",
    "\n",
    "    return user_location\n",
    "\n",
    "\n",
    "print(get_location('Éire / Ireland '))"
   ]
  },
  {
   "cell_type": "code",
   "execution_count": 56,
   "metadata": {
    "scrolled": false
   },
   "outputs": [
    {
     "output_type": "display_data",
     "data": {
      "application/vnd.plotly.v1+json": {
       "config": {
        "plotlyServerURL": "https://plot.ly"
       },
       "data": [
        {
         "name": "Neural",
         "opacity": 0.8,
         "type": "scatter",
         "x": [
          "2021-04-03T19:26:28",
          "2021-04-03T19:26:30",
          "2021-04-03T19:26:32",
          "2021-04-03T19:26:34",
          "2021-04-03T19:26:36",
          "2021-04-03T19:26:38",
          "2021-04-03T19:26:40",
          "2021-04-03T19:26:42",
          "2021-04-03T19:26:44",
          "2021-04-03T19:26:46",
          "2021-04-03T19:26:48",
          "2021-04-03T19:26:50",
          "2021-04-03T19:26:52",
          "2021-04-03T19:26:54",
          "2021-04-03T19:26:56",
          "2021-04-03T19:26:58",
          "2021-04-03T19:27:00",
          "2021-04-03T19:27:02",
          "2021-04-03T19:27:04",
          "2021-04-03T19:27:06",
          "2021-04-03T19:27:08"
         ],
         "xaxis": "x",
         "y": [
          1,
          7,
          10,
          3,
          4,
          5,
          7,
          7,
          4,
          5,
          10,
          7,
          6,
          6,
          10,
          4,
          7,
          9,
          5,
          6,
          2
         ],
         "yaxis": "y"
        },
        {
         "name": "Negative",
         "opacity": 0.8,
         "type": "scatter",
         "x": [
          "2021-04-03T19:26:28",
          "2021-04-03T19:26:30",
          "2021-04-03T19:26:32",
          "2021-04-03T19:26:34",
          "2021-04-03T19:26:36",
          "2021-04-03T19:26:38",
          "2021-04-03T19:26:40",
          "2021-04-03T19:26:42",
          "2021-04-03T19:26:44",
          "2021-04-03T19:26:46",
          "2021-04-03T19:26:48",
          "2021-04-03T19:26:50",
          "2021-04-03T19:26:52",
          "2021-04-03T19:26:54",
          "2021-04-03T19:26:56",
          "2021-04-03T19:26:58",
          "2021-04-03T19:27:00",
          "2021-04-03T19:27:02",
          "2021-04-03T19:27:04",
          "2021-04-03T19:27:06",
          "2021-04-03T19:27:08"
         ],
         "xaxis": "x",
         "y": [
          0,
          0,
          0,
          0,
          1,
          0,
          0,
          0,
          0,
          0,
          0,
          1,
          0,
          0,
          0,
          0,
          0,
          0,
          0,
          0,
          0
         ],
         "yaxis": "y"
        },
        {
         "name": "Positive",
         "opacity": 0.8,
         "type": "scatter",
         "x": [
          "2021-04-03T19:26:28",
          "2021-04-03T19:26:30",
          "2021-04-03T19:26:32",
          "2021-04-03T19:26:34",
          "2021-04-03T19:26:36",
          "2021-04-03T19:26:38",
          "2021-04-03T19:26:40",
          "2021-04-03T19:26:42",
          "2021-04-03T19:26:44",
          "2021-04-03T19:26:46",
          "2021-04-03T19:26:48",
          "2021-04-03T19:26:50",
          "2021-04-03T19:26:52",
          "2021-04-03T19:26:54",
          "2021-04-03T19:26:56",
          "2021-04-03T19:26:58",
          "2021-04-03T19:27:00",
          "2021-04-03T19:27:02",
          "2021-04-03T19:27:04",
          "2021-04-03T19:27:06",
          "2021-04-03T19:27:08"
         ],
         "xaxis": "x",
         "y": [
          0,
          0,
          0,
          0,
          0,
          0,
          0,
          0,
          0,
          0,
          0,
          0,
          1,
          0,
          0,
          1,
          1,
          0,
          0,
          0,
          1
         ],
         "yaxis": "y"
        },
        {
         "autocolorscale": false,
         "colorbar": {
          "tickprefix": "$",
          "title": {
           "text": "GDP<br>Billions US$"
          }
         },
         "colorscale": [
          [
           0,
           "rgb(247,251,255)"
          ],
          [
           0.125,
           "rgb(222,235,247)"
          ],
          [
           0.25,
           "rgb(198,219,239)"
          ],
          [
           0.375,
           "rgb(158,202,225)"
          ],
          [
           0.5,
           "rgb(107,174,214)"
          ],
          [
           0.625,
           "rgb(66,146,198)"
          ],
          [
           0.75,
           "rgb(33,113,181)"
          ],
          [
           0.875,
           "rgb(8,81,156)"
          ],
          [
           1,
           "rgb(8,48,107)"
          ]
         ],
         "geo": "geo",
         "locations": [
          "USA",
          "ITA",
          "AUT",
          "GBR",
          "AUS",
          "PHL",
          "JOR",
          "ARE",
          "CAN",
          "FRA",
          "IRL",
          "CHL",
          "NPL",
          "DEU",
          "LAO",
          "BGD",
          "ZAF",
          "NGA",
          "IND",
          "BEL",
          "FSM",
          "BRA",
          "PAK",
          "JAM"
         ],
         "marker": {
          "line": {
           "color": "darkgray",
           "width": 0.5
          }
         },
         "reversescale": true,
         "text": [
          "United States",
          "Italy",
          "Austria",
          "United Kingdom",
          "Australia",
          "Philippines",
          "Jordan",
          "United Arab Emirates",
          "Canada",
          "France",
          "Ireland",
          "Chile",
          "Nepal",
          "Germany",
          "Laos",
          "Bangladesh",
          "South Africa",
          "Nigeria",
          "India",
          "Belgium",
          "Micronesia, Fed. Sts.",
          "Brazil",
          "Pakistan",
          "Jamaica"
         ],
         "type": "choropleth",
         "z": [
          25,
          38,
          1,
          10,
          1,
          1,
          2,
          3,
          5,
          3,
          2,
          3,
          1,
          4,
          1,
          1,
          1,
          5,
          3,
          1,
          1,
          1,
          2,
          1
         ]
        }
       ],
       "layout": {
        "annotations": [
         {
          "showarrow": false,
          "x": 1,
          "xref": "paper",
          "y": 1,
          "yref": "paper"
         }
        ],
        "geo": {
         "domain": {
          "x": [
           0,
           1
          ],
          "y": [
           0.36666666666666664,
           1
          ]
         },
         "projection": {
          "type": "equirectangular"
         },
         "showcoastlines": false,
         "showframe": false
        },
        "template": {
         "data": {
          "bar": [
           {
            "error_x": {
             "color": "#2a3f5f"
            },
            "error_y": {
             "color": "#2a3f5f"
            },
            "marker": {
             "line": {
              "color": "#E5ECF6",
              "width": 0.5
             }
            },
            "type": "bar"
           }
          ],
          "barpolar": [
           {
            "marker": {
             "line": {
              "color": "#E5ECF6",
              "width": 0.5
             }
            },
            "type": "barpolar"
           }
          ],
          "carpet": [
           {
            "aaxis": {
             "endlinecolor": "#2a3f5f",
             "gridcolor": "white",
             "linecolor": "white",
             "minorgridcolor": "white",
             "startlinecolor": "#2a3f5f"
            },
            "baxis": {
             "endlinecolor": "#2a3f5f",
             "gridcolor": "white",
             "linecolor": "white",
             "minorgridcolor": "white",
             "startlinecolor": "#2a3f5f"
            },
            "type": "carpet"
           }
          ],
          "choropleth": [
           {
            "colorbar": {
             "outlinewidth": 0,
             "ticks": ""
            },
            "type": "choropleth"
           }
          ],
          "contour": [
           {
            "colorbar": {
             "outlinewidth": 0,
             "ticks": ""
            },
            "colorscale": [
             [
              0,
              "#0d0887"
             ],
             [
              0.1111111111111111,
              "#46039f"
             ],
             [
              0.2222222222222222,
              "#7201a8"
             ],
             [
              0.3333333333333333,
              "#9c179e"
             ],
             [
              0.4444444444444444,
              "#bd3786"
             ],
             [
              0.5555555555555556,
              "#d8576b"
             ],
             [
              0.6666666666666666,
              "#ed7953"
             ],
             [
              0.7777777777777778,
              "#fb9f3a"
             ],
             [
              0.8888888888888888,
              "#fdca26"
             ],
             [
              1,
              "#f0f921"
             ]
            ],
            "type": "contour"
           }
          ],
          "contourcarpet": [
           {
            "colorbar": {
             "outlinewidth": 0,
             "ticks": ""
            },
            "type": "contourcarpet"
           }
          ],
          "heatmap": [
           {
            "colorbar": {
             "outlinewidth": 0,
             "ticks": ""
            },
            "colorscale": [
             [
              0,
              "#0d0887"
             ],
             [
              0.1111111111111111,
              "#46039f"
             ],
             [
              0.2222222222222222,
              "#7201a8"
             ],
             [
              0.3333333333333333,
              "#9c179e"
             ],
             [
              0.4444444444444444,
              "#bd3786"
             ],
             [
              0.5555555555555556,
              "#d8576b"
             ],
             [
              0.6666666666666666,
              "#ed7953"
             ],
             [
              0.7777777777777778,
              "#fb9f3a"
             ],
             [
              0.8888888888888888,
              "#fdca26"
             ],
             [
              1,
              "#f0f921"
             ]
            ],
            "type": "heatmap"
           }
          ],
          "heatmapgl": [
           {
            "colorbar": {
             "outlinewidth": 0,
             "ticks": ""
            },
            "colorscale": [
             [
              0,
              "#0d0887"
             ],
             [
              0.1111111111111111,
              "#46039f"
             ],
             [
              0.2222222222222222,
              "#7201a8"
             ],
             [
              0.3333333333333333,
              "#9c179e"
             ],
             [
              0.4444444444444444,
              "#bd3786"
             ],
             [
              0.5555555555555556,
              "#d8576b"
             ],
             [
              0.6666666666666666,
              "#ed7953"
             ],
             [
              0.7777777777777778,
              "#fb9f3a"
             ],
             [
              0.8888888888888888,
              "#fdca26"
             ],
             [
              1,
              "#f0f921"
             ]
            ],
            "type": "heatmapgl"
           }
          ],
          "histogram": [
           {
            "marker": {
             "colorbar": {
              "outlinewidth": 0,
              "ticks": ""
             }
            },
            "type": "histogram"
           }
          ],
          "histogram2d": [
           {
            "colorbar": {
             "outlinewidth": 0,
             "ticks": ""
            },
            "colorscale": [
             [
              0,
              "#0d0887"
             ],
             [
              0.1111111111111111,
              "#46039f"
             ],
             [
              0.2222222222222222,
              "#7201a8"
             ],
             [
              0.3333333333333333,
              "#9c179e"
             ],
             [
              0.4444444444444444,
              "#bd3786"
             ],
             [
              0.5555555555555556,
              "#d8576b"
             ],
             [
              0.6666666666666666,
              "#ed7953"
             ],
             [
              0.7777777777777778,
              "#fb9f3a"
             ],
             [
              0.8888888888888888,
              "#fdca26"
             ],
             [
              1,
              "#f0f921"
             ]
            ],
            "type": "histogram2d"
           }
          ],
          "histogram2dcontour": [
           {
            "colorbar": {
             "outlinewidth": 0,
             "ticks": ""
            },
            "colorscale": [
             [
              0,
              "#0d0887"
             ],
             [
              0.1111111111111111,
              "#46039f"
             ],
             [
              0.2222222222222222,
              "#7201a8"
             ],
             [
              0.3333333333333333,
              "#9c179e"
             ],
             [
              0.4444444444444444,
              "#bd3786"
             ],
             [
              0.5555555555555556,
              "#d8576b"
             ],
             [
              0.6666666666666666,
              "#ed7953"
             ],
             [
              0.7777777777777778,
              "#fb9f3a"
             ],
             [
              0.8888888888888888,
              "#fdca26"
             ],
             [
              1,
              "#f0f921"
             ]
            ],
            "type": "histogram2dcontour"
           }
          ],
          "mesh3d": [
           {
            "colorbar": {
             "outlinewidth": 0,
             "ticks": ""
            },
            "type": "mesh3d"
           }
          ],
          "parcoords": [
           {
            "line": {
             "colorbar": {
              "outlinewidth": 0,
              "ticks": ""
             }
            },
            "type": "parcoords"
           }
          ],
          "pie": [
           {
            "automargin": true,
            "type": "pie"
           }
          ],
          "scatter": [
           {
            "marker": {
             "colorbar": {
              "outlinewidth": 0,
              "ticks": ""
             }
            },
            "type": "scatter"
           }
          ],
          "scatter3d": [
           {
            "line": {
             "colorbar": {
              "outlinewidth": 0,
              "ticks": ""
             }
            },
            "marker": {
             "colorbar": {
              "outlinewidth": 0,
              "ticks": ""
             }
            },
            "type": "scatter3d"
           }
          ],
          "scattercarpet": [
           {
            "marker": {
             "colorbar": {
              "outlinewidth": 0,
              "ticks": ""
             }
            },
            "type": "scattercarpet"
           }
          ],
          "scattergeo": [
           {
            "marker": {
             "colorbar": {
              "outlinewidth": 0,
              "ticks": ""
             }
            },
            "type": "scattergeo"
           }
          ],
          "scattergl": [
           {
            "marker": {
             "colorbar": {
              "outlinewidth": 0,
              "ticks": ""
             }
            },
            "type": "scattergl"
           }
          ],
          "scattermapbox": [
           {
            "marker": {
             "colorbar": {
              "outlinewidth": 0,
              "ticks": ""
             }
            },
            "type": "scattermapbox"
           }
          ],
          "scatterpolar": [
           {
            "marker": {
             "colorbar": {
              "outlinewidth": 0,
              "ticks": ""
             }
            },
            "type": "scatterpolar"
           }
          ],
          "scatterpolargl": [
           {
            "marker": {
             "colorbar": {
              "outlinewidth": 0,
              "ticks": ""
             }
            },
            "type": "scatterpolargl"
           }
          ],
          "scatterternary": [
           {
            "marker": {
             "colorbar": {
              "outlinewidth": 0,
              "ticks": ""
             }
            },
            "type": "scatterternary"
           }
          ],
          "surface": [
           {
            "colorbar": {
             "outlinewidth": 0,
             "ticks": ""
            },
            "colorscale": [
             [
              0,
              "#0d0887"
             ],
             [
              0.1111111111111111,
              "#46039f"
             ],
             [
              0.2222222222222222,
              "#7201a8"
             ],
             [
              0.3333333333333333,
              "#9c179e"
             ],
             [
              0.4444444444444444,
              "#bd3786"
             ],
             [
              0.5555555555555556,
              "#d8576b"
             ],
             [
              0.6666666666666666,
              "#ed7953"
             ],
             [
              0.7777777777777778,
              "#fb9f3a"
             ],
             [
              0.8888888888888888,
              "#fdca26"
             ],
             [
              1,
              "#f0f921"
             ]
            ],
            "type": "surface"
           }
          ],
          "table": [
           {
            "cells": {
             "fill": {
              "color": "#EBF0F8"
             },
             "line": {
              "color": "white"
             }
            },
            "header": {
             "fill": {
              "color": "#C8D4E3"
             },
             "line": {
              "color": "white"
             }
            },
            "type": "table"
           }
          ]
         },
         "layout": {
          "annotationdefaults": {
           "arrowcolor": "#2a3f5f",
           "arrowhead": 0,
           "arrowwidth": 1
          },
          "autotypenumbers": "strict",
          "coloraxis": {
           "colorbar": {
            "outlinewidth": 0,
            "ticks": ""
           }
          },
          "colorscale": {
           "diverging": [
            [
             0,
             "#8e0152"
            ],
            [
             0.1,
             "#c51b7d"
            ],
            [
             0.2,
             "#de77ae"
            ],
            [
             0.3,
             "#f1b6da"
            ],
            [
             0.4,
             "#fde0ef"
            ],
            [
             0.5,
             "#f7f7f7"
            ],
            [
             0.6,
             "#e6f5d0"
            ],
            [
             0.7,
             "#b8e186"
            ],
            [
             0.8,
             "#7fbc41"
            ],
            [
             0.9,
             "#4d9221"
            ],
            [
             1,
             "#276419"
            ]
           ],
           "sequential": [
            [
             0,
             "#0d0887"
            ],
            [
             0.1111111111111111,
             "#46039f"
            ],
            [
             0.2222222222222222,
             "#7201a8"
            ],
            [
             0.3333333333333333,
             "#9c179e"
            ],
            [
             0.4444444444444444,
             "#bd3786"
            ],
            [
             0.5555555555555556,
             "#d8576b"
            ],
            [
             0.6666666666666666,
             "#ed7953"
            ],
            [
             0.7777777777777778,
             "#fb9f3a"
            ],
            [
             0.8888888888888888,
             "#fdca26"
            ],
            [
             1,
             "#f0f921"
            ]
           ],
           "sequentialminus": [
            [
             0,
             "#0d0887"
            ],
            [
             0.1111111111111111,
             "#46039f"
            ],
            [
             0.2222222222222222,
             "#7201a8"
            ],
            [
             0.3333333333333333,
             "#9c179e"
            ],
            [
             0.4444444444444444,
             "#bd3786"
            ],
            [
             0.5555555555555556,
             "#d8576b"
            ],
            [
             0.6666666666666666,
             "#ed7953"
            ],
            [
             0.7777777777777778,
             "#fb9f3a"
            ],
            [
             0.8888888888888888,
             "#fdca26"
            ],
            [
             1,
             "#f0f921"
            ]
           ]
          },
          "colorway": [
           "#636efa",
           "#EF553B",
           "#00cc96",
           "#ab63fa",
           "#FFA15A",
           "#19d3f3",
           "#FF6692",
           "#B6E880",
           "#FF97FF",
           "#FECB52"
          ],
          "font": {
           "color": "#2a3f5f"
          },
          "geo": {
           "bgcolor": "white",
           "lakecolor": "white",
           "landcolor": "#E5ECF6",
           "showlakes": true,
           "showland": true,
           "subunitcolor": "white"
          },
          "hoverlabel": {
           "align": "left"
          },
          "hovermode": "closest",
          "mapbox": {
           "style": "light"
          },
          "paper_bgcolor": "white",
          "plot_bgcolor": "#E5ECF6",
          "polar": {
           "angularaxis": {
            "gridcolor": "white",
            "linecolor": "white",
            "ticks": ""
           },
           "bgcolor": "#E5ECF6",
           "radialaxis": {
            "gridcolor": "white",
            "linecolor": "white",
            "ticks": ""
           }
          },
          "scene": {
           "xaxis": {
            "backgroundcolor": "#E5ECF6",
            "gridcolor": "white",
            "gridwidth": 2,
            "linecolor": "white",
            "showbackground": true,
            "ticks": "",
            "zerolinecolor": "white"
           },
           "yaxis": {
            "backgroundcolor": "#E5ECF6",
            "gridcolor": "white",
            "gridwidth": 2,
            "linecolor": "white",
            "showbackground": true,
            "ticks": "",
            "zerolinecolor": "white"
           },
           "zaxis": {
            "backgroundcolor": "#E5ECF6",
            "gridcolor": "white",
            "gridwidth": 2,
            "linecolor": "white",
            "showbackground": true,
            "ticks": "",
            "zerolinecolor": "white"
           }
          },
          "shapedefaults": {
           "line": {
            "color": "#2a3f5f"
           }
          },
          "ternary": {
           "aaxis": {
            "gridcolor": "white",
            "linecolor": "white",
            "ticks": ""
           },
           "baxis": {
            "gridcolor": "white",
            "linecolor": "white",
            "ticks": ""
           },
           "bgcolor": "#E5ECF6",
           "caxis": {
            "gridcolor": "white",
            "linecolor": "white",
            "ticks": ""
           }
          },
          "title": {
           "x": 0.05
          },
          "xaxis": {
           "automargin": true,
           "gridcolor": "white",
           "linecolor": "white",
           "ticks": "",
           "title": {
            "standoff": 15
           },
           "zerolinecolor": "white",
           "zerolinewidth": 2
          },
          "yaxis": {
           "automargin": true,
           "gridcolor": "white",
           "linecolor": "white",
           "ticks": "",
           "title": {
            "standoff": 15
           },
           "zerolinecolor": "white",
           "zerolinewidth": 2
          }
         }
        },
        "title": {
         "text": "Real-time tracking 'Facebook' mentions on Twitter 04-03 19:36 UTC"
        },
        "xaxis": {
         "anchor": "y",
         "domain": [
          0,
          1
         ]
        },
        "yaxis": {
         "anchor": "x",
         "domain": [
          0,
          0.26666666666666666
         ]
        }
       }
      }
     },
     "metadata": {}
    }
   ],
   "source": [
    "\n",
    "\n",
    "# fig = make_subplots(\n",
    "#         rows=3, cols=2,\n",
    "#         column_widths=[1, 0.4],\n",
    "#         row_heights=[0.6, 0.6, 0.5],\n",
    "#         specs=[[{\"type\": \"choropleth\" , \"rowspan\": 2}      , {\"type\": \"bar\"}],               \n",
    "#                [None                             , {\"type\": \"bar\"}],          \n",
    "#                [{\"type\": \"scatter\"}, {\"type\": \"bar\"}],\n",
    "# #                [{\"type\": \"choropleth\"}      , {\"type\": \"bar\"}]\n",
    "# #                [            {\"type\": \"bar\"},       None                   ]\n",
    "#               ])\n",
    "\n",
    "fig = make_subplots(\n",
    "        rows=3, cols=1,\n",
    "        column_widths=[1],\n",
    "        row_heights=[1, 1, 1],\n",
    "        specs=[[{\"type\": \"choropleth\" , \"rowspan\": 2}],              \n",
    "               [None],              \n",
    "               [{\"type\": \"scatter\"}]])\n",
    "             \n",
    "\n",
    "'''\n",
    "Plot the Line Chart\n",
    "'''\n",
    "fig.add_trace(go.Scatter(\n",
    "    x=time_series,\n",
    "    y=result[\"Num of '{}' mentions\".format(settings.TRACK_WORDS[0])][result['polarity']==0].reset_index(drop=True),\n",
    "    name=\"Neural\",\n",
    "    opacity=0.8), row=3, col=1)   \n",
    "fig.add_trace(go.Scatter(\n",
    "    x=time_series,\n",
    "    y=result[\"Num of '{}' mentions\".format(settings.TRACK_WORDS[0])][result['polarity']==-1].reset_index(drop=True),\n",
    "    name=\"Negative\",\n",
    "    opacity=0.8), row=3, col=1)\n",
    "fig.add_trace(go.Scatter(\n",
    "    x=time_series,\n",
    "    y=result[\"Num of '{}' mentions\".format(settings.TRACK_WORDS[0])][result['polarity']==1].reset_index(drop=True),\n",
    "    name=\"Positive\",\n",
    "    opacity=0.8), row=3, col=1)\n",
    "\n",
    "'''\n",
    "Plot the Bar Chart\n",
    "'''\n",
    "# content = ' '.join(df[\"text\"])\n",
    "# content = re.sub(r\"http\\S+\", \"\", content)\n",
    "# content = content.replace('RT ', ' ').replace('&amp;', 'and')\n",
    "# content = re.sub('[^A-Za-z0-9]+', ' ', content)\n",
    "# content = content.lower()\n",
    "\n",
    "# tokenized_word = word_tokenize(content)\n",
    "# stop_words=set(stopwords.words(\"english\"))\n",
    "# filtered_sent=[]\n",
    "# for w in tokenized_word:\n",
    "#     if w not in stop_words:\n",
    "#         filtered_sent.append(w)\n",
    "\n",
    "\n",
    "'''\n",
    "Plot the Geo-Distribution\n",
    "'''\n",
    "# is_in_US=[]\n",
    "# geo = df[['user_location']]\n",
    "# df = df.fillna(\" \")\n",
    "# for x in df['user_location']:\n",
    "#     check = False\n",
    "#     for s in STATES:\n",
    "#         if s in x:\n",
    "#             is_in_US.append(STATE_DICT[s] if s in STATE_DICT else s)\n",
    "#             check = True\n",
    "#             break\n",
    "#     if not check:\n",
    "#         is_in_US.append(None)\n",
    "\n",
    "# geo_dist = pd.DataFrame(is_in_US, columns=['State']).dropna().reset_index()\n",
    "# geo_dist = geo_dist.groupby('State').count().rename(columns={\"index\": \"Number\"}) \\\n",
    "#         .sort_values(by=['Number'], ascending=False).reset_index()\n",
    "# geo_dist[\"Log Num\"] = geo_dist[\"Number\"].apply(lambda x: math.log(x, 2))\n",
    "\n",
    "\n",
    "# geo_dist['Full State Name'] = geo_dist['State'].apply(lambda x: INV_STATE_DICT[x])\n",
    "# geo_dist['text'] = geo_dist['Full State Name'] + '<br>' + 'Num: ' + geo_dist['Number'].astype(str)\n",
    "# fig.add_trace(go.Choropleth(\n",
    "#     locations=geo_dist['State'], # Spatial coordinates\n",
    "#     z = geo_dist['Log Num'].astype(float), # Data to be color-coded\n",
    "#     locationmode = 'USA-states', # set of locations match entries in `locations`\n",
    "#     colorscale = \"Blues\",\n",
    "#     text=geo_dist['text'], # hover text\n",
    "#     showscale=False,\n",
    "#     geo = 'geo'\n",
    "#     ),\n",
    "#     row=1, col=2)\n",
    "\n",
    "\n",
    "\n",
    "fig.add_trace(go.Choropleth(\n",
    "    locations = df1['CODE'],\n",
    "    z = df1['COUNT'],\n",
    "    text = df1['COUNTRY'],\n",
    "    colorscale = 'Blues',\n",
    "    autocolorscale=False,\n",
    "    reversescale=True,\n",
    "    marker_line_color='darkgray',\n",
    "    marker_line_width=0.5,\n",
    "    colorbar_tickprefix = '$',\n",
    "    colorbar_title = 'GDP<br>Billions US$',\n",
    "), row=1, col=1)\n",
    "\n",
    "\n",
    "fig.update_layout(\n",
    "    title_text= \"Real-time tracking '{}' mentions on Twitter {} UTC\".format(settings.TRACK_WORDS[0] ,datetime.datetime.utcnow().strftime('%m-%d %H:%M')),\n",
    "    geo = dict(\n",
    "        showframe=False,\n",
    "        showcoastlines=False,\n",
    "        projection_type='equirectangular'\n",
    "    ),   \n",
    "#     template=\"plotly_dark\",\n",
    "#     margin=dict(r=20, t=50, b=50, l=20),\n",
    "    annotations=\n",
    "#     [\n",
    "#         go.layout.Annotation(\n",
    "#             text=\"Source: Twitter\",\n",
    "#             showarrow=False,\n",
    "#             xref=\"paper\",\n",
    "#             yref=\"paper\",\n",
    "#             x=0,\n",
    "#             y=0)\n",
    "#     ],\n",
    "    [dict(\n",
    "        x=1,\n",
    "        y=1,\n",
    "        xref='paper',\n",
    "        yref='paper',\n",
    "        showarrow = False\n",
    "    )]\n",
    ")\n",
    "\n",
    "fig.show()\n"
   ]
  },
  {
   "cell_type": "code",
   "execution_count": 6,
   "metadata": {},
   "outputs": [
    {
     "output_type": "display_data",
     "data": {
      "application/vnd.plotly.v1+json": {
       "config": {
        "plotlyServerURL": "https://plot.ly"
       },
       "data": [
        {
         "marker": {
          "color": "rgb(59, 89, 152)",
          "line": {
           "color": "rgb(8,48,107)",
           "width": 0.5
          }
         },
         "name": "Freq Dist",
         "opacity": 0.7,
         "type": "bar",
         "x": [
          "Korea",
          "AI",
          "Gaon Physical",
          "DM",
          "YouTube",
          "Cambridge",
          "PST",
          "Canada",
          "Dawei"
         ],
         "xaxis": "x",
         "y": [
          25,
          24,
          23,
          19,
          18,
          18,
          18,
          16,
          15
         ],
         "yaxis": "y"
        },
        {
         "marker": {
          "color": "rgb(59, 89, 152)",
          "line": {
           "color": "rgb(8,48,107)",
           "width": 0.5
          }
         },
         "name": "Freq Dist",
         "opacity": 0.7,
         "type": "bar",
         "x": [
          "BociagaRobert",
          "BLACKPINK",
          "salsayweyaneti1",
          "pcousteau",
          "LosTweens",
          "_KarenHao",
          "FacebookGaming",
          "Twitter",
          "bavamedia"
         ],
         "xaxis": "x2",
         "y": [
          31,
          21,
          15,
          15,
          15,
          14,
          14,
          13,
          12
         ],
         "yaxis": "y2"
        },
        {
         "domain": {
          "x": [
           0,
           0.45
          ],
          "y": [
           0,
           0.51
          ]
         },
         "labels": [
          0,
          1,
          -1
         ],
         "type": "pie",
         "values": [
          1731,
          62,
          22
         ]
        }
       ],
       "layout": {
        "template": {
         "data": {
          "bar": [
           {
            "error_x": {
             "color": "#2a3f5f"
            },
            "error_y": {
             "color": "#2a3f5f"
            },
            "marker": {
             "line": {
              "color": "#E5ECF6",
              "width": 0.5
             }
            },
            "type": "bar"
           }
          ],
          "barpolar": [
           {
            "marker": {
             "line": {
              "color": "#E5ECF6",
              "width": 0.5
             }
            },
            "type": "barpolar"
           }
          ],
          "carpet": [
           {
            "aaxis": {
             "endlinecolor": "#2a3f5f",
             "gridcolor": "white",
             "linecolor": "white",
             "minorgridcolor": "white",
             "startlinecolor": "#2a3f5f"
            },
            "baxis": {
             "endlinecolor": "#2a3f5f",
             "gridcolor": "white",
             "linecolor": "white",
             "minorgridcolor": "white",
             "startlinecolor": "#2a3f5f"
            },
            "type": "carpet"
           }
          ],
          "choropleth": [
           {
            "colorbar": {
             "outlinewidth": 0,
             "ticks": ""
            },
            "type": "choropleth"
           }
          ],
          "contour": [
           {
            "colorbar": {
             "outlinewidth": 0,
             "ticks": ""
            },
            "colorscale": [
             [
              0,
              "#0d0887"
             ],
             [
              0.1111111111111111,
              "#46039f"
             ],
             [
              0.2222222222222222,
              "#7201a8"
             ],
             [
              0.3333333333333333,
              "#9c179e"
             ],
             [
              0.4444444444444444,
              "#bd3786"
             ],
             [
              0.5555555555555556,
              "#d8576b"
             ],
             [
              0.6666666666666666,
              "#ed7953"
             ],
             [
              0.7777777777777778,
              "#fb9f3a"
             ],
             [
              0.8888888888888888,
              "#fdca26"
             ],
             [
              1,
              "#f0f921"
             ]
            ],
            "type": "contour"
           }
          ],
          "contourcarpet": [
           {
            "colorbar": {
             "outlinewidth": 0,
             "ticks": ""
            },
            "type": "contourcarpet"
           }
          ],
          "heatmap": [
           {
            "colorbar": {
             "outlinewidth": 0,
             "ticks": ""
            },
            "colorscale": [
             [
              0,
              "#0d0887"
             ],
             [
              0.1111111111111111,
              "#46039f"
             ],
             [
              0.2222222222222222,
              "#7201a8"
             ],
             [
              0.3333333333333333,
              "#9c179e"
             ],
             [
              0.4444444444444444,
              "#bd3786"
             ],
             [
              0.5555555555555556,
              "#d8576b"
             ],
             [
              0.6666666666666666,
              "#ed7953"
             ],
             [
              0.7777777777777778,
              "#fb9f3a"
             ],
             [
              0.8888888888888888,
              "#fdca26"
             ],
             [
              1,
              "#f0f921"
             ]
            ],
            "type": "heatmap"
           }
          ],
          "heatmapgl": [
           {
            "colorbar": {
             "outlinewidth": 0,
             "ticks": ""
            },
            "colorscale": [
             [
              0,
              "#0d0887"
             ],
             [
              0.1111111111111111,
              "#46039f"
             ],
             [
              0.2222222222222222,
              "#7201a8"
             ],
             [
              0.3333333333333333,
              "#9c179e"
             ],
             [
              0.4444444444444444,
              "#bd3786"
             ],
             [
              0.5555555555555556,
              "#d8576b"
             ],
             [
              0.6666666666666666,
              "#ed7953"
             ],
             [
              0.7777777777777778,
              "#fb9f3a"
             ],
             [
              0.8888888888888888,
              "#fdca26"
             ],
             [
              1,
              "#f0f921"
             ]
            ],
            "type": "heatmapgl"
           }
          ],
          "histogram": [
           {
            "marker": {
             "colorbar": {
              "outlinewidth": 0,
              "ticks": ""
             }
            },
            "type": "histogram"
           }
          ],
          "histogram2d": [
           {
            "colorbar": {
             "outlinewidth": 0,
             "ticks": ""
            },
            "colorscale": [
             [
              0,
              "#0d0887"
             ],
             [
              0.1111111111111111,
              "#46039f"
             ],
             [
              0.2222222222222222,
              "#7201a8"
             ],
             [
              0.3333333333333333,
              "#9c179e"
             ],
             [
              0.4444444444444444,
              "#bd3786"
             ],
             [
              0.5555555555555556,
              "#d8576b"
             ],
             [
              0.6666666666666666,
              "#ed7953"
             ],
             [
              0.7777777777777778,
              "#fb9f3a"
             ],
             [
              0.8888888888888888,
              "#fdca26"
             ],
             [
              1,
              "#f0f921"
             ]
            ],
            "type": "histogram2d"
           }
          ],
          "histogram2dcontour": [
           {
            "colorbar": {
             "outlinewidth": 0,
             "ticks": ""
            },
            "colorscale": [
             [
              0,
              "#0d0887"
             ],
             [
              0.1111111111111111,
              "#46039f"
             ],
             [
              0.2222222222222222,
              "#7201a8"
             ],
             [
              0.3333333333333333,
              "#9c179e"
             ],
             [
              0.4444444444444444,
              "#bd3786"
             ],
             [
              0.5555555555555556,
              "#d8576b"
             ],
             [
              0.6666666666666666,
              "#ed7953"
             ],
             [
              0.7777777777777778,
              "#fb9f3a"
             ],
             [
              0.8888888888888888,
              "#fdca26"
             ],
             [
              1,
              "#f0f921"
             ]
            ],
            "type": "histogram2dcontour"
           }
          ],
          "mesh3d": [
           {
            "colorbar": {
             "outlinewidth": 0,
             "ticks": ""
            },
            "type": "mesh3d"
           }
          ],
          "parcoords": [
           {
            "line": {
             "colorbar": {
              "outlinewidth": 0,
              "ticks": ""
             }
            },
            "type": "parcoords"
           }
          ],
          "pie": [
           {
            "automargin": true,
            "type": "pie"
           }
          ],
          "scatter": [
           {
            "marker": {
             "colorbar": {
              "outlinewidth": 0,
              "ticks": ""
             }
            },
            "type": "scatter"
           }
          ],
          "scatter3d": [
           {
            "line": {
             "colorbar": {
              "outlinewidth": 0,
              "ticks": ""
             }
            },
            "marker": {
             "colorbar": {
              "outlinewidth": 0,
              "ticks": ""
             }
            },
            "type": "scatter3d"
           }
          ],
          "scattercarpet": [
           {
            "marker": {
             "colorbar": {
              "outlinewidth": 0,
              "ticks": ""
             }
            },
            "type": "scattercarpet"
           }
          ],
          "scattergeo": [
           {
            "marker": {
             "colorbar": {
              "outlinewidth": 0,
              "ticks": ""
             }
            },
            "type": "scattergeo"
           }
          ],
          "scattergl": [
           {
            "marker": {
             "colorbar": {
              "outlinewidth": 0,
              "ticks": ""
             }
            },
            "type": "scattergl"
           }
          ],
          "scattermapbox": [
           {
            "marker": {
             "colorbar": {
              "outlinewidth": 0,
              "ticks": ""
             }
            },
            "type": "scattermapbox"
           }
          ],
          "scatterpolar": [
           {
            "marker": {
             "colorbar": {
              "outlinewidth": 0,
              "ticks": ""
             }
            },
            "type": "scatterpolar"
           }
          ],
          "scatterpolargl": [
           {
            "marker": {
             "colorbar": {
              "outlinewidth": 0,
              "ticks": ""
             }
            },
            "type": "scatterpolargl"
           }
          ],
          "scatterternary": [
           {
            "marker": {
             "colorbar": {
              "outlinewidth": 0,
              "ticks": ""
             }
            },
            "type": "scatterternary"
           }
          ],
          "surface": [
           {
            "colorbar": {
             "outlinewidth": 0,
             "ticks": ""
            },
            "colorscale": [
             [
              0,
              "#0d0887"
             ],
             [
              0.1111111111111111,
              "#46039f"
             ],
             [
              0.2222222222222222,
              "#7201a8"
             ],
             [
              0.3333333333333333,
              "#9c179e"
             ],
             [
              0.4444444444444444,
              "#bd3786"
             ],
             [
              0.5555555555555556,
              "#d8576b"
             ],
             [
              0.6666666666666666,
              "#ed7953"
             ],
             [
              0.7777777777777778,
              "#fb9f3a"
             ],
             [
              0.8888888888888888,
              "#fdca26"
             ],
             [
              1,
              "#f0f921"
             ]
            ],
            "type": "surface"
           }
          ],
          "table": [
           {
            "cells": {
             "fill": {
              "color": "#EBF0F8"
             },
             "line": {
              "color": "white"
             }
            },
            "header": {
             "fill": {
              "color": "#C8D4E3"
             },
             "line": {
              "color": "white"
             }
            },
            "type": "table"
           }
          ]
         },
         "layout": {
          "annotationdefaults": {
           "arrowcolor": "#2a3f5f",
           "arrowhead": 0,
           "arrowwidth": 1
          },
          "autotypenumbers": "strict",
          "coloraxis": {
           "colorbar": {
            "outlinewidth": 0,
            "ticks": ""
           }
          },
          "colorscale": {
           "diverging": [
            [
             0,
             "#8e0152"
            ],
            [
             0.1,
             "#c51b7d"
            ],
            [
             0.2,
             "#de77ae"
            ],
            [
             0.3,
             "#f1b6da"
            ],
            [
             0.4,
             "#fde0ef"
            ],
            [
             0.5,
             "#f7f7f7"
            ],
            [
             0.6,
             "#e6f5d0"
            ],
            [
             0.7,
             "#b8e186"
            ],
            [
             0.8,
             "#7fbc41"
            ],
            [
             0.9,
             "#4d9221"
            ],
            [
             1,
             "#276419"
            ]
           ],
           "sequential": [
            [
             0,
             "#0d0887"
            ],
            [
             0.1111111111111111,
             "#46039f"
            ],
            [
             0.2222222222222222,
             "#7201a8"
            ],
            [
             0.3333333333333333,
             "#9c179e"
            ],
            [
             0.4444444444444444,
             "#bd3786"
            ],
            [
             0.5555555555555556,
             "#d8576b"
            ],
            [
             0.6666666666666666,
             "#ed7953"
            ],
            [
             0.7777777777777778,
             "#fb9f3a"
            ],
            [
             0.8888888888888888,
             "#fdca26"
            ],
            [
             1,
             "#f0f921"
            ]
           ],
           "sequentialminus": [
            [
             0,
             "#0d0887"
            ],
            [
             0.1111111111111111,
             "#46039f"
            ],
            [
             0.2222222222222222,
             "#7201a8"
            ],
            [
             0.3333333333333333,
             "#9c179e"
            ],
            [
             0.4444444444444444,
             "#bd3786"
            ],
            [
             0.5555555555555556,
             "#d8576b"
            ],
            [
             0.6666666666666666,
             "#ed7953"
            ],
            [
             0.7777777777777778,
             "#fb9f3a"
            ],
            [
             0.8888888888888888,
             "#fdca26"
            ],
            [
             1,
             "#f0f921"
            ]
           ]
          },
          "colorway": [
           "#636efa",
           "#EF553B",
           "#00cc96",
           "#ab63fa",
           "#FFA15A",
           "#19d3f3",
           "#FF6692",
           "#B6E880",
           "#FF97FF",
           "#FECB52"
          ],
          "font": {
           "color": "#2a3f5f"
          },
          "geo": {
           "bgcolor": "white",
           "lakecolor": "white",
           "landcolor": "#E5ECF6",
           "showlakes": true,
           "showland": true,
           "subunitcolor": "white"
          },
          "hoverlabel": {
           "align": "left"
          },
          "hovermode": "closest",
          "mapbox": {
           "style": "light"
          },
          "paper_bgcolor": "white",
          "plot_bgcolor": "#E5ECF6",
          "polar": {
           "angularaxis": {
            "gridcolor": "white",
            "linecolor": "white",
            "ticks": ""
           },
           "bgcolor": "#E5ECF6",
           "radialaxis": {
            "gridcolor": "white",
            "linecolor": "white",
            "ticks": ""
           }
          },
          "scene": {
           "xaxis": {
            "backgroundcolor": "#E5ECF6",
            "gridcolor": "white",
            "gridwidth": 2,
            "linecolor": "white",
            "showbackground": true,
            "ticks": "",
            "zerolinecolor": "white"
           },
           "yaxis": {
            "backgroundcolor": "#E5ECF6",
            "gridcolor": "white",
            "gridwidth": 2,
            "linecolor": "white",
            "showbackground": true,
            "ticks": "",
            "zerolinecolor": "white"
           },
           "zaxis": {
            "backgroundcolor": "#E5ECF6",
            "gridcolor": "white",
            "gridwidth": 2,
            "linecolor": "white",
            "showbackground": true,
            "ticks": "",
            "zerolinecolor": "white"
           }
          },
          "shapedefaults": {
           "line": {
            "color": "#2a3f5f"
           }
          },
          "ternary": {
           "aaxis": {
            "gridcolor": "white",
            "linecolor": "white",
            "ticks": ""
           },
           "baxis": {
            "gridcolor": "white",
            "linecolor": "white",
            "ticks": ""
           },
           "bgcolor": "#E5ECF6",
           "caxis": {
            "gridcolor": "white",
            "linecolor": "white",
            "ticks": ""
           }
          },
          "title": {
           "x": 0.05
          },
          "xaxis": {
           "automargin": true,
           "gridcolor": "white",
           "linecolor": "white",
           "ticks": "",
           "title": {
            "standoff": 15
           },
           "zerolinecolor": "white",
           "zerolinewidth": 2
          },
          "yaxis": {
           "automargin": true,
           "gridcolor": "white",
           "linecolor": "white",
           "ticks": "",
           "title": {
            "standoff": 15
           },
           "zerolinecolor": "white",
           "zerolinewidth": 2
          }
         }
        },
        "xaxis": {
         "anchor": "y",
         "domain": [
          0,
          0.45
         ]
        },
        "xaxis2": {
         "anchor": "y2",
         "domain": [
          0.55,
          1
         ]
        },
        "xaxis3": {
         "anchor": "y3",
         "domain": [
          0.55,
          1
         ]
        },
        "yaxis": {
         "anchor": "x",
         "domain": [
          0.66,
          1
         ]
        },
        "yaxis2": {
         "anchor": "x2",
         "domain": [
          0.66,
          1
         ]
        },
        "yaxis3": {
         "anchor": "x3",
         "domain": [
          0,
          0.51
         ]
        }
       }
      }
     },
     "metadata": {}
    }
   ],
   "source": [
    "fig = make_subplots(\n",
    "        rows=2, cols=2,\n",
    "        column_widths=[1, 1],\n",
    "        row_heights=[0.4, 0.6],\n",
    "        specs=[[  {\"type\": \"bar\"}   , {\"type\": \"bar\"}] ,          \n",
    "               [ {\"type\": \"pie\"} , {\"type\": \"bar\"}]\n",
    "#               [None, None],\n",
    "              ])\n",
    "               \n",
    "\n",
    "    \n",
    "'''\n",
    "NER frequency plotting\n",
    "'''\n",
    "\n",
    "# Plot Bar chart   \n",
    "fig.add_trace(go.Bar(x=fd[\"Word\"], y=fd[\"Frequency\"], name=\"Freq Dist\"), row=1, col=1)\n",
    "# 59, 89, 152\n",
    "fig.update_traces(marker_color='rgb(59, 89, 152)', marker_line_color='rgb(8,48,107)', \\\n",
    "        marker_line_width=0.5, opacity=0.7, row=1, col=1)\n",
    "# fig.update_layout( xaxis = dict(tickfont = dict(size=9)))\n",
    "\n",
    "\n",
    "'''\n",
    "User frequency count and plotting\n",
    "'''\n",
    "\n",
    "# Plot Bar chart   \n",
    "fig.add_trace(go.Bar(x=fd1[\"Word\"], y=fd1[\"Frequency\"], name=\"Freq Dist\"), row=1, col=2)\n",
    "# 59, 89, 152\n",
    "\n",
    "fig.update_traces(marker_color='rgb(59, 89, 152)', marker_line_color='rgb(8,48,107)', \\\n",
    "        marker_line_width=0.5, opacity=0.7, row=1, col=2)\n",
    "# fig.update_layout( xaxis = dict(tickfont = dict(size=9)))\n",
    "\n",
    "labels=[0,1,-1]\n",
    "# This dataframe has 244 lines, but 4 distinct values for `day`\n",
    "\n",
    "fig.add_trace(go.Pie(labels=labels, values=val_list), row=2, col=1)\n",
    "\n",
    "# for i in fig['layout']['annotations']:\n",
    "#     i['font'] = dict(size=10,color='#ff0000')\n",
    "\n",
    "# fig.for_each_xaxis(lambda axis: axis.font.update(font=dict(size=10)))\n",
    "fig.show()"
   ]
  },
  {
   "cell_type": "code",
   "execution_count": 19,
   "metadata": {},
   "outputs": [
    {
     "output_type": "display_data",
     "data": {
      "application/vnd.plotly.v1+json": {
       "config": {
        "plotlyServerURL": "https://plot.ly"
       },
       "data": [
        {
         "type": "bar",
         "x": [
          "DrSasa22222",
          "amieylaureenx",
          "aidan_smx",
          "DanPriceSeattle",
          "BuckSexton",
          "mrattkthu",
          "mraahc",
          "eringilfoy",
          "tuanofseven",
          "cjwerleman"
         ],
         "y": [
          22296,
          15001,
          11481,
          9334,
          9166,
          7789,
          6741,
          4735,
          2815,
          2626
         ]
        }
       ],
       "layout": {
        "template": {
         "data": {
          "bar": [
           {
            "error_x": {
             "color": "#2a3f5f"
            },
            "error_y": {
             "color": "#2a3f5f"
            },
            "marker": {
             "line": {
              "color": "#E5ECF6",
              "width": 0.5
             }
            },
            "type": "bar"
           }
          ],
          "barpolar": [
           {
            "marker": {
             "line": {
              "color": "#E5ECF6",
              "width": 0.5
             }
            },
            "type": "barpolar"
           }
          ],
          "carpet": [
           {
            "aaxis": {
             "endlinecolor": "#2a3f5f",
             "gridcolor": "white",
             "linecolor": "white",
             "minorgridcolor": "white",
             "startlinecolor": "#2a3f5f"
            },
            "baxis": {
             "endlinecolor": "#2a3f5f",
             "gridcolor": "white",
             "linecolor": "white",
             "minorgridcolor": "white",
             "startlinecolor": "#2a3f5f"
            },
            "type": "carpet"
           }
          ],
          "choropleth": [
           {
            "colorbar": {
             "outlinewidth": 0,
             "ticks": ""
            },
            "type": "choropleth"
           }
          ],
          "contour": [
           {
            "colorbar": {
             "outlinewidth": 0,
             "ticks": ""
            },
            "colorscale": [
             [
              0,
              "#0d0887"
             ],
             [
              0.1111111111111111,
              "#46039f"
             ],
             [
              0.2222222222222222,
              "#7201a8"
             ],
             [
              0.3333333333333333,
              "#9c179e"
             ],
             [
              0.4444444444444444,
              "#bd3786"
             ],
             [
              0.5555555555555556,
              "#d8576b"
             ],
             [
              0.6666666666666666,
              "#ed7953"
             ],
             [
              0.7777777777777778,
              "#fb9f3a"
             ],
             [
              0.8888888888888888,
              "#fdca26"
             ],
             [
              1,
              "#f0f921"
             ]
            ],
            "type": "contour"
           }
          ],
          "contourcarpet": [
           {
            "colorbar": {
             "outlinewidth": 0,
             "ticks": ""
            },
            "type": "contourcarpet"
           }
          ],
          "heatmap": [
           {
            "colorbar": {
             "outlinewidth": 0,
             "ticks": ""
            },
            "colorscale": [
             [
              0,
              "#0d0887"
             ],
             [
              0.1111111111111111,
              "#46039f"
             ],
             [
              0.2222222222222222,
              "#7201a8"
             ],
             [
              0.3333333333333333,
              "#9c179e"
             ],
             [
              0.4444444444444444,
              "#bd3786"
             ],
             [
              0.5555555555555556,
              "#d8576b"
             ],
             [
              0.6666666666666666,
              "#ed7953"
             ],
             [
              0.7777777777777778,
              "#fb9f3a"
             ],
             [
              0.8888888888888888,
              "#fdca26"
             ],
             [
              1,
              "#f0f921"
             ]
            ],
            "type": "heatmap"
           }
          ],
          "heatmapgl": [
           {
            "colorbar": {
             "outlinewidth": 0,
             "ticks": ""
            },
            "colorscale": [
             [
              0,
              "#0d0887"
             ],
             [
              0.1111111111111111,
              "#46039f"
             ],
             [
              0.2222222222222222,
              "#7201a8"
             ],
             [
              0.3333333333333333,
              "#9c179e"
             ],
             [
              0.4444444444444444,
              "#bd3786"
             ],
             [
              0.5555555555555556,
              "#d8576b"
             ],
             [
              0.6666666666666666,
              "#ed7953"
             ],
             [
              0.7777777777777778,
              "#fb9f3a"
             ],
             [
              0.8888888888888888,
              "#fdca26"
             ],
             [
              1,
              "#f0f921"
             ]
            ],
            "type": "heatmapgl"
           }
          ],
          "histogram": [
           {
            "marker": {
             "colorbar": {
              "outlinewidth": 0,
              "ticks": ""
             }
            },
            "type": "histogram"
           }
          ],
          "histogram2d": [
           {
            "colorbar": {
             "outlinewidth": 0,
             "ticks": ""
            },
            "colorscale": [
             [
              0,
              "#0d0887"
             ],
             [
              0.1111111111111111,
              "#46039f"
             ],
             [
              0.2222222222222222,
              "#7201a8"
             ],
             [
              0.3333333333333333,
              "#9c179e"
             ],
             [
              0.4444444444444444,
              "#bd3786"
             ],
             [
              0.5555555555555556,
              "#d8576b"
             ],
             [
              0.6666666666666666,
              "#ed7953"
             ],
             [
              0.7777777777777778,
              "#fb9f3a"
             ],
             [
              0.8888888888888888,
              "#fdca26"
             ],
             [
              1,
              "#f0f921"
             ]
            ],
            "type": "histogram2d"
           }
          ],
          "histogram2dcontour": [
           {
            "colorbar": {
             "outlinewidth": 0,
             "ticks": ""
            },
            "colorscale": [
             [
              0,
              "#0d0887"
             ],
             [
              0.1111111111111111,
              "#46039f"
             ],
             [
              0.2222222222222222,
              "#7201a8"
             ],
             [
              0.3333333333333333,
              "#9c179e"
             ],
             [
              0.4444444444444444,
              "#bd3786"
             ],
             [
              0.5555555555555556,
              "#d8576b"
             ],
             [
              0.6666666666666666,
              "#ed7953"
             ],
             [
              0.7777777777777778,
              "#fb9f3a"
             ],
             [
              0.8888888888888888,
              "#fdca26"
             ],
             [
              1,
              "#f0f921"
             ]
            ],
            "type": "histogram2dcontour"
           }
          ],
          "mesh3d": [
           {
            "colorbar": {
             "outlinewidth": 0,
             "ticks": ""
            },
            "type": "mesh3d"
           }
          ],
          "parcoords": [
           {
            "line": {
             "colorbar": {
              "outlinewidth": 0,
              "ticks": ""
             }
            },
            "type": "parcoords"
           }
          ],
          "pie": [
           {
            "automargin": true,
            "type": "pie"
           }
          ],
          "scatter": [
           {
            "marker": {
             "colorbar": {
              "outlinewidth": 0,
              "ticks": ""
             }
            },
            "type": "scatter"
           }
          ],
          "scatter3d": [
           {
            "line": {
             "colorbar": {
              "outlinewidth": 0,
              "ticks": ""
             }
            },
            "marker": {
             "colorbar": {
              "outlinewidth": 0,
              "ticks": ""
             }
            },
            "type": "scatter3d"
           }
          ],
          "scattercarpet": [
           {
            "marker": {
             "colorbar": {
              "outlinewidth": 0,
              "ticks": ""
             }
            },
            "type": "scattercarpet"
           }
          ],
          "scattergeo": [
           {
            "marker": {
             "colorbar": {
              "outlinewidth": 0,
              "ticks": ""
             }
            },
            "type": "scattergeo"
           }
          ],
          "scattergl": [
           {
            "marker": {
             "colorbar": {
              "outlinewidth": 0,
              "ticks": ""
             }
            },
            "type": "scattergl"
           }
          ],
          "scattermapbox": [
           {
            "marker": {
             "colorbar": {
              "outlinewidth": 0,
              "ticks": ""
             }
            },
            "type": "scattermapbox"
           }
          ],
          "scatterpolar": [
           {
            "marker": {
             "colorbar": {
              "outlinewidth": 0,
              "ticks": ""
             }
            },
            "type": "scatterpolar"
           }
          ],
          "scatterpolargl": [
           {
            "marker": {
             "colorbar": {
              "outlinewidth": 0,
              "ticks": ""
             }
            },
            "type": "scatterpolargl"
           }
          ],
          "scatterternary": [
           {
            "marker": {
             "colorbar": {
              "outlinewidth": 0,
              "ticks": ""
             }
            },
            "type": "scatterternary"
           }
          ],
          "surface": [
           {
            "colorbar": {
             "outlinewidth": 0,
             "ticks": ""
            },
            "colorscale": [
             [
              0,
              "#0d0887"
             ],
             [
              0.1111111111111111,
              "#46039f"
             ],
             [
              0.2222222222222222,
              "#7201a8"
             ],
             [
              0.3333333333333333,
              "#9c179e"
             ],
             [
              0.4444444444444444,
              "#bd3786"
             ],
             [
              0.5555555555555556,
              "#d8576b"
             ],
             [
              0.6666666666666666,
              "#ed7953"
             ],
             [
              0.7777777777777778,
              "#fb9f3a"
             ],
             [
              0.8888888888888888,
              "#fdca26"
             ],
             [
              1,
              "#f0f921"
             ]
            ],
            "type": "surface"
           }
          ],
          "table": [
           {
            "cells": {
             "fill": {
              "color": "#EBF0F8"
             },
             "line": {
              "color": "white"
             }
            },
            "header": {
             "fill": {
              "color": "#C8D4E3"
             },
             "line": {
              "color": "white"
             }
            },
            "type": "table"
           }
          ]
         },
         "layout": {
          "annotationdefaults": {
           "arrowcolor": "#2a3f5f",
           "arrowhead": 0,
           "arrowwidth": 1
          },
          "autotypenumbers": "strict",
          "coloraxis": {
           "colorbar": {
            "outlinewidth": 0,
            "ticks": ""
           }
          },
          "colorscale": {
           "diverging": [
            [
             0,
             "#8e0152"
            ],
            [
             0.1,
             "#c51b7d"
            ],
            [
             0.2,
             "#de77ae"
            ],
            [
             0.3,
             "#f1b6da"
            ],
            [
             0.4,
             "#fde0ef"
            ],
            [
             0.5,
             "#f7f7f7"
            ],
            [
             0.6,
             "#e6f5d0"
            ],
            [
             0.7,
             "#b8e186"
            ],
            [
             0.8,
             "#7fbc41"
            ],
            [
             0.9,
             "#4d9221"
            ],
            [
             1,
             "#276419"
            ]
           ],
           "sequential": [
            [
             0,
             "#0d0887"
            ],
            [
             0.1111111111111111,
             "#46039f"
            ],
            [
             0.2222222222222222,
             "#7201a8"
            ],
            [
             0.3333333333333333,
             "#9c179e"
            ],
            [
             0.4444444444444444,
             "#bd3786"
            ],
            [
             0.5555555555555556,
             "#d8576b"
            ],
            [
             0.6666666666666666,
             "#ed7953"
            ],
            [
             0.7777777777777778,
             "#fb9f3a"
            ],
            [
             0.8888888888888888,
             "#fdca26"
            ],
            [
             1,
             "#f0f921"
            ]
           ],
           "sequentialminus": [
            [
             0,
             "#0d0887"
            ],
            [
             0.1111111111111111,
             "#46039f"
            ],
            [
             0.2222222222222222,
             "#7201a8"
            ],
            [
             0.3333333333333333,
             "#9c179e"
            ],
            [
             0.4444444444444444,
             "#bd3786"
            ],
            [
             0.5555555555555556,
             "#d8576b"
            ],
            [
             0.6666666666666666,
             "#ed7953"
            ],
            [
             0.7777777777777778,
             "#fb9f3a"
            ],
            [
             0.8888888888888888,
             "#fdca26"
            ],
            [
             1,
             "#f0f921"
            ]
           ]
          },
          "colorway": [
           "#636efa",
           "#EF553B",
           "#00cc96",
           "#ab63fa",
           "#FFA15A",
           "#19d3f3",
           "#FF6692",
           "#B6E880",
           "#FF97FF",
           "#FECB52"
          ],
          "font": {
           "color": "#2a3f5f"
          },
          "geo": {
           "bgcolor": "white",
           "lakecolor": "white",
           "landcolor": "#E5ECF6",
           "showlakes": true,
           "showland": true,
           "subunitcolor": "white"
          },
          "hoverlabel": {
           "align": "left"
          },
          "hovermode": "closest",
          "mapbox": {
           "style": "light"
          },
          "paper_bgcolor": "white",
          "plot_bgcolor": "#E5ECF6",
          "polar": {
           "angularaxis": {
            "gridcolor": "white",
            "linecolor": "white",
            "ticks": ""
           },
           "bgcolor": "#E5ECF6",
           "radialaxis": {
            "gridcolor": "white",
            "linecolor": "white",
            "ticks": ""
           }
          },
          "scene": {
           "xaxis": {
            "backgroundcolor": "#E5ECF6",
            "gridcolor": "white",
            "gridwidth": 2,
            "linecolor": "white",
            "showbackground": true,
            "ticks": "",
            "zerolinecolor": "white"
           },
           "yaxis": {
            "backgroundcolor": "#E5ECF6",
            "gridcolor": "white",
            "gridwidth": 2,
            "linecolor": "white",
            "showbackground": true,
            "ticks": "",
            "zerolinecolor": "white"
           },
           "zaxis": {
            "backgroundcolor": "#E5ECF6",
            "gridcolor": "white",
            "gridwidth": 2,
            "linecolor": "white",
            "showbackground": true,
            "ticks": "",
            "zerolinecolor": "white"
           }
          },
          "shapedefaults": {
           "line": {
            "color": "#2a3f5f"
           }
          },
          "ternary": {
           "aaxis": {
            "gridcolor": "white",
            "linecolor": "white",
            "ticks": ""
           },
           "baxis": {
            "gridcolor": "white",
            "linecolor": "white",
            "ticks": ""
           },
           "bgcolor": "#E5ECF6",
           "caxis": {
            "gridcolor": "white",
            "linecolor": "white",
            "ticks": ""
           }
          },
          "title": {
           "x": 0.05
          },
          "xaxis": {
           "automargin": true,
           "gridcolor": "white",
           "linecolor": "white",
           "ticks": "",
           "title": {
            "standoff": 15
           },
           "zerolinecolor": "white",
           "zerolinewidth": 2
          },
          "yaxis": {
           "automargin": true,
           "gridcolor": "white",
           "linecolor": "white",
           "ticks": "",
           "title": {
            "standoff": 15
           },
           "zerolinecolor": "white",
           "zerolinewidth": 2
          }
         }
        }
       }
      }
     },
     "metadata": {}
    }
   ],
   "source": [
    "\n",
    "date_since = \"2021-03-01\"\n",
    "\n",
    "# authorization of consumer key and consumer secret \n",
    "auth = tweepy.OAuthHandler(credentials.consumer_key, credentials.consumer_secret) \n",
    "\n",
    "# set access to user's access key and access secret \n",
    "auth.set_access_token(credentials.access_token, credentials.access_token_secret) \n",
    "\n",
    "# calling the api \n",
    "api = tweepy.API(auth) \n",
    "\n",
    "# the ID of the status \n",
    "query=\"(facebook) -facebook.com min_faves:500\"\n",
    "\n",
    "# fetching the status \n",
    "status = api.search(query, lang=\"en\", since=date_since, count=1000) \n",
    "\n",
    "like=dict()\n",
    "for i in status:\n",
    "    like[i.user.screen_name]=i.favorite_count\n",
    "\n",
    "sort_orders = sorted(like.items(), key=lambda x: x[1], reverse=True)\n",
    "\n",
    "likes=list()\n",
    "usernames=list()\n",
    "j=0\n",
    "for i in sort_orders:\n",
    "    if j<10:\n",
    "        likes.append(i[1])\n",
    "        usernames.append(i[0])\n",
    "        j=j+1\n",
    "\n",
    "fig = go.Figure([go.Bar(x=usernames, y=likes)])\n",
    "fig.show()"
   ]
  },
  {
   "cell_type": "code",
   "execution_count": 38,
   "metadata": {},
   "outputs": [
    {
     "name": "stdout",
     "output_type": "stream",
     "text": [
      "['', 'tedcruz', 'tedcruz', 'StarFMBaguio', '', 'tedcruz', '', '', 'BritneyDoll5', '', 'ironheadedge58', 'alex371', 'tweettruth2me', 'TexanBeauty86', 'queenalmamarie', 'DogsDre', 'DonaldJTrumpJr', 'tedcruz', 'BreesAnna', 'Intangiblejourneys', 'Martiansrepublics', 'Quantumdeviations', 'tedcruz', 'ghpex_com', '', 'bbrightvc', '', '']\n",
      "Counter({'tedcruz': 5, 'StarFMBaguio': 1, 'BritneyDoll5': 1, 'ironheadedge58': 1, 'alex371': 1, 'tweettruth2me': 1, 'TexanBeauty86': 1, 'queenalmamarie': 1, 'DogsDre': 1, 'DonaldJTrumpJr': 1, 'BreesAnna': 1, 'Intangiblejourneys': 1, 'Martiansrepublics': 1, 'Quantumdeviations': 1, 'ghpex_com': 1, 'bbrightvc': 1})\n"
     ]
    }
   ],
   "source": [
    "# print(df['users_list'].head(20))\n",
    "user=list()\n",
    "# print(df['users_list'].head(20))\n",
    "for i in df['users_list'][:20]:\n",
    "    a=i.split(\",\")\n",
    "    for j in a:\n",
    "        user.append(j)\n",
    "print(user)\n",
    "user = filter(None, user)\n",
    "counter=collections.Counter(user)\n",
    "print(counter)"
   ]
  },
  {
   "cell_type": "code",
   "execution_count": 12,
   "metadata": {},
   "outputs": [
    {
     "name": "stdout",
     "output_type": "stream",
     "text": [
      "0                           \n",
      "1                           \n",
      "2           Mazi Nnamdi Kanu\n",
      "3                           \n",
      "4       dog Benji,Mottingham\n",
      "               ...          \n",
      "259    a Professional Styler\n",
      "260                         \n",
      "261     Newsmax,Mike Lindell\n",
      "262                    House\n",
      "263                         \n",
      "Name: named_ent, Length: 264, dtype: object\n",
      "['Mazi Nnamdi Kanu', 'dog Benji', 'Mottingham', 'Newsmax', 'Mike Lindell', 'Gizmo', 'Myanmar', 'Instaspa', 'Mike Lindell', 'Tw', 'GRAPHIC SPECIAL PLEA Shadow', 'HORRIFIC LEG INJURY', 'Radio Biafra App', 'Mark Nzuzukerberge', 'India', 'Mike Lindell', 'Brew Co Bucks', 'WellingtonMain Gym  ', 'Twitter', 'FacebookArrested', 'House', 'US House', 'Rep Greene', 'HallColdwell Banker CandC Prope', 'House', 'Manhattan', 'the US Embassy', 'Asmara', 'Twitter', 'Insta', 'Newsmax', 'Mike Lindell', 'ShadowPledge', 'Tumblr', 'Instagram to Yahoo', 'Elon Musk', 'Mark Zuckerberg', 'Katie', 'Mike Lindell', 'MB First Nations', 'AMC', 'Subs', 'SNS', 'Lockdown', 'Nnamdi Kanu', 'Newsmax', 'Mike Lindell', 'Wikipedia', 'Shri ji50  ', 'India', 'Pad Jatra', 'Dhekiajuli', 'Graphic', 'Myanmar', 'Dorsa', 'Civil Trial Lawyer', 'Mike Lindell', 'Social Media Platforms', 'Myanmar', 'Myanmar', 'Mark Zuckerberg', 'India', 'Myanmar', 'House', 'Radhe Krishna Temple North Carolina Virtual Dance', 'Austin', 'Myanma', 'Kerala', 'Maria Sharapova', 'Trump', 'Mark Aungst', 'Tammy Bronsburg', 'Myanmar', 'FEB', 'MB First Nations', 'AMC FB FOCU', 'Matt Maddock', 'Michigan', 'DC', 'the Capitol Riot', 'Bollywood', 'Myanmar', 'Uganda', 'Time', 'Radhe Krishna Temple North Carolina Virtual Dance', 'Hong Kong', 'LA', 'the Royal Thai Consulate', 'LA', 'Nnamdi Kanu', 'Mike Lindell', 'Twitter', 'Saurav Ganguly', 'dog Benji', 'Mottingham', 'Myanmar', 'Myanm', 'dog Benji', 'Mottingham', 'NPR', 'Dan Benjamin', 'Pediat', 'YouTube', 'Myanmar', 'Myanmar', 'the House of Hypocrites', 'Myanmar', 'Myanmar', 'Bing', 'OnlyFans', 'Emmett Till', 'Chicago', 'Newsmax', 'Mike Lindell', 'House', 'Radhe Krishna Temple North Carolina', 'Cavi', 'Myanmar', 'Myanma', 'Zo Beck', 'Lagerfeuer', 'Helden', 'WhatsApp', 'PRIORITY', 'NHP', 'Colonial Realty the Gold Standard', 'PE', 'Newsmax', 'Mike Lindell', 'Reuters', 'Quiz', 'Disco extravaganza40', 'Taylor Greene', 'NUP', 'Twitter', 'Twitter', 'Attn Myanmar', 'Bangkok', 'Mandalay Food House', 'Depressika', 'WhatsApp', 'Insta', 'US', 'Ms Phillips', 'Tawid', 'Rick Springfield', 'Myanmar', 'Subs', 'SNS', 'Marjorie Taylor Greene', 'Media Apps', 'Myanmar', 'Charities', 'Borno Express', 'Keke NAPEP', 'Radhe Krishna Temple North Carolina Virtual Dance Competition Vi', 'Hell Farm', 'Netflix Mosques', 'Programme Kathak', 'a Professional Styler', 'Newsmax', 'Mike Lindell', 'House']\n"
     ]
    }
   ],
   "source": [
    "print(df[\"named_ent\"])\n",
    "li=list()\n",
    "for i in df[\"named_ent\"]:    \n",
    "    te=i.split(\",\")    \n",
    "    if len(te) > 0:\n",
    "        for j in te:\n",
    "            li.append(j)\n",
    "    else:\n",
    "        li.append(j)\n",
    "li = list(filter(None, li))\n",
    "print(li)"
   ]
  },
  {
   "cell_type": "code",
   "execution_count": 11,
   "metadata": {},
   "outputs": [
    {
     "data": {
      "text/plain": [
       "3825"
      ]
     },
     "execution_count": 11,
     "metadata": {},
     "output_type": "execute_result"
    }
   ],
   "source": [
    "content = ' '.join(df[\"named_ent\"])\n",
    "content = re.sub(r\"http\\S+\", \"\", content)\n",
    "content = content.replace('RT ', ' ').replace('&amp;', 'and')\n",
    "content = re.sub('[^A-Za-z0-9]+', ' ', content)\n",
    "content = content.lower()\n",
    "\n",
    "tokenized_word = word_tokenize(content)\n",
    "stop_words=set(stopwords.words(\"english\"))\n",
    "filtered_sent=[]\n",
    "for w in tokenized_word:\n",
    "    if w not in stop_words:\n",
    "        filtered_sent.append(w)\n",
    "fdist = FreqDist(filtered_sent)\n",
    "fd = pd.DataFrame(fdist.most_common(10), columns = [\"Word\",\"Frequency\"]).drop([0]).reindex()\n",
    "\n",
    "# Plot Bar chart   \n",
    "fig.add_trace(go.Bar(x=fd[\"Word\"], y=fd[\"Frequency\"], name=\"Freq Dist\"), row=2, col=2)\n",
    "# 59, 89, 152\n",
    "fig.update_traces(marker_color='rgb(59, 89, 152)', marker_line_color='rgb(8,48,107)', \\\n",
    "        marker_line_width=0.5, opacity=0.7, row=2, col=2)\n"
   ]
  },
  {
   "cell_type": "code",
   "execution_count": 18,
   "metadata": {},
   "outputs": [
    {
     "ename": "AttributeError",
     "evalue": "'Figure' object has no attribute 'add_trace'",
     "output_type": "error",
     "traceback": [
      "\u001b[1;31m---------------------------------------------------------------------------\u001b[0m",
      "\u001b[1;31mAttributeError\u001b[0m                            Traceback (most recent call last)",
      "\u001b[1;32m<ipython-input-18-439a03e516c1>\u001b[0m in \u001b[0;36m<module>\u001b[1;34m\u001b[0m\n\u001b[0;32m      6\u001b[0m \u001b[1;31m# print(fd)\u001b[0m\u001b[1;33m\u001b[0m\u001b[1;33m\u001b[0m\u001b[1;33m\u001b[0m\u001b[0m\n\u001b[0;32m      7\u001b[0m \u001b[1;31m# # Plot Bar chart\u001b[0m\u001b[1;33m\u001b[0m\u001b[1;33m\u001b[0m\u001b[1;33m\u001b[0m\u001b[0m\n\u001b[1;32m----> 8\u001b[1;33m \u001b[0mfig\u001b[0m\u001b[1;33m.\u001b[0m\u001b[0madd_trace\u001b[0m\u001b[1;33m(\u001b[0m\u001b[0mgo\u001b[0m\u001b[1;33m.\u001b[0m\u001b[0mBar\u001b[0m\u001b[1;33m(\u001b[0m\u001b[0mx\u001b[0m\u001b[1;33m=\u001b[0m\u001b[0mfd\u001b[0m\u001b[1;33m[\u001b[0m\u001b[1;34m\"Word\"\u001b[0m\u001b[1;33m]\u001b[0m\u001b[1;33m,\u001b[0m \u001b[0my\u001b[0m\u001b[1;33m=\u001b[0m\u001b[0mfd\u001b[0m\u001b[1;33m[\u001b[0m\u001b[1;34m\"Frequency\"\u001b[0m\u001b[1;33m]\u001b[0m\u001b[1;33m,\u001b[0m \u001b[0mname\u001b[0m\u001b[1;33m=\u001b[0m\u001b[1;34m\"Freq Dist\"\u001b[0m\u001b[1;33m)\u001b[0m\u001b[1;33m,\u001b[0m \u001b[0mrow\u001b[0m\u001b[1;33m=\u001b[0m\u001b[1;36m2\u001b[0m\u001b[1;33m,\u001b[0m \u001b[0mcol\u001b[0m\u001b[1;33m=\u001b[0m\u001b[1;36m2\u001b[0m\u001b[1;33m)\u001b[0m\u001b[1;33m\u001b[0m\u001b[1;33m\u001b[0m\u001b[0m\n\u001b[0m\u001b[0;32m      9\u001b[0m \u001b[1;31m# 59, 89, 152\u001b[0m\u001b[1;33m\u001b[0m\u001b[1;33m\u001b[0m\u001b[1;33m\u001b[0m\u001b[0m\n\u001b[0;32m     10\u001b[0m fig.update_traces(marker_color='rgb(59, 89, 152)', marker_line_color='rgb(8,48,107)', \\\n",
      "\u001b[1;31mAttributeError\u001b[0m: 'Figure' object has no attribute 'add_trace'"
     ]
    }
   ],
   "source": [
    "fdist = FreqDist(li)\n",
    "# print(fdist)\n",
    "\n",
    "# fdist = FreqDist(filtered_sent)\n",
    "fd = pd.DataFrame(fdist.most_common(10), columns = [\"Word\",\"Frequency\"]).drop([0]).reindex()\n",
    "# print(fd)\n",
    "# # Plot Bar chart   \n",
    "fig.add_trace(go.Bar(x=fd[\"Word\"], y=fd[\"Frequency\"], name=\"Freq Dist\"), row=2, col=2)\n",
    "# 59, 89, 152\n",
    "fig.update_traces(marker_color='rgb(59, 89, 152)', marker_line_color='rgb(8,48,107)', \\\n",
    "        marker_line_width=0.5, opacity=0.7, row=2, col=2)\n"
   ]
  },
  {
   "cell_type": "code",
   "execution_count": 66,
   "metadata": {
    "scrolled": false,
    "tags": []
   },
   "outputs": [
    {
     "name": "stderr",
     "output_type": "stream",
     "text": [
      "Luzon  not found in regex\n",
      "Africa  not found in regex\n",
      "None not found in regex\n",
      "None not found in regex\n",
      "None not found in regex\n",
      "None not found in regex\n"
     ]
    },
    {
     "name": "stdout",
     "output_type": "stream",
     "text": [
      "Opened the database successfully\n"
     ]
    },
    {
     "name": "stderr",
     "output_type": "stream",
     "text": [
      "None not found in regex\n",
      "None not found in regex\n",
      "None not found in regex\n",
      "None not found in regex\n",
      "None not found in regex\n",
      "None not found in regex\n",
      "None not found in regex\n",
      "None not found in regex\n",
      "None not found in regex\n",
      "None not found in regex\n",
      "None not found in regex\n",
      "None not found in regex\n",
      "None not found in regex\n",
      "None not found in regex\n",
      "None not found in regex\n",
      "None not found in regex\n",
      "None not found in regex\n",
      "C:\\ProgramData\\Anaconda3\\lib\\site-packages\\country_converter\\country_converter.py:578: FutureWarning:\n",
      "\n",
      "The default value of regex will change from True to False in a future version.\n",
      "\n",
      "C:\\ProgramData\\Anaconda3\\lib\\site-packages\\country_converter\\country_converter.py:578: FutureWarning:\n",
      "\n",
      "The default value of regex will change from True to False in a future version.\n",
      "\n",
      "C:\\ProgramData\\Anaconda3\\lib\\site-packages\\country_converter\\country_converter.py:578: FutureWarning:\n",
      "\n",
      "The default value of regex will change from True to False in a future version.\n",
      "\n",
      "C:\\ProgramData\\Anaconda3\\lib\\site-packages\\country_converter\\country_converter.py:578: FutureWarning:\n",
      "\n",
      "The default value of regex will change from True to False in a future version.\n",
      "\n",
      "C:\\ProgramData\\Anaconda3\\lib\\site-packages\\country_converter\\country_converter.py:578: FutureWarning:\n",
      "\n",
      "The default value of regex will change from True to False in a future version.\n",
      "\n",
      "C:\\ProgramData\\Anaconda3\\lib\\site-packages\\country_converter\\country_converter.py:578: FutureWarning:\n",
      "\n",
      "The default value of regex will change from True to False in a future version.\n",
      "\n",
      "C:\\ProgramData\\Anaconda3\\lib\\site-packages\\country_converter\\country_converter.py:578: FutureWarning:\n",
      "\n",
      "The default value of regex will change from True to False in a future version.\n",
      "\n",
      "C:\\ProgramData\\Anaconda3\\lib\\site-packages\\country_converter\\country_converter.py:578: FutureWarning:\n",
      "\n",
      "The default value of regex will change from True to False in a future version.\n",
      "\n",
      "not found not found in regex\n",
      "C:\\ProgramData\\Anaconda3\\lib\\site-packages\\country_converter\\country_converter.py:578: FutureWarning:\n",
      "\n",
      "The default value of regex will change from True to False in a future version.\n",
      "\n",
      "C:\\ProgramData\\Anaconda3\\lib\\site-packages\\country_converter\\country_converter.py:578: FutureWarning:\n",
      "\n",
      "The default value of regex will change from True to False in a future version.\n",
      "\n",
      "C:\\ProgramData\\Anaconda3\\lib\\site-packages\\country_converter\\country_converter.py:578: FutureWarning:\n",
      "\n",
      "The default value of regex will change from True to False in a future version.\n",
      "\n",
      "C:\\ProgramData\\Anaconda3\\lib\\site-packages\\country_converter\\country_converter.py:578: FutureWarning:\n",
      "\n",
      "The default value of regex will change from True to False in a future version.\n",
      "\n",
      "C:\\ProgramData\\Anaconda3\\lib\\site-packages\\country_converter\\country_converter.py:578: FutureWarning:\n",
      "\n",
      "The default value of regex will change from True to False in a future version.\n",
      "\n",
      "C:\\ProgramData\\Anaconda3\\lib\\site-packages\\country_converter\\country_converter.py:578: FutureWarning:\n",
      "\n",
      "The default value of regex will change from True to False in a future version.\n",
      "\n",
      "C:\\ProgramData\\Anaconda3\\lib\\site-packages\\country_converter\\country_converter.py:578: FutureWarning:\n",
      "\n",
      "The default value of regex will change from True to False in a future version.\n",
      "\n",
      "C:\\ProgramData\\Anaconda3\\lib\\site-packages\\country_converter\\country_converter.py:578: FutureWarning:\n",
      "\n",
      "The default value of regex will change from True to False in a future version.\n",
      "\n",
      "C:\\ProgramData\\Anaconda3\\lib\\site-packages\\country_converter\\country_converter.py:578: FutureWarning:\n",
      "\n",
      "The default value of regex will change from True to False in a future version.\n",
      "\n",
      "C:\\ProgramData\\Anaconda3\\lib\\site-packages\\country_converter\\country_converter.py:578: FutureWarning:\n",
      "\n",
      "The default value of regex will change from True to False in a future version.\n",
      "\n",
      "C:\\ProgramData\\Anaconda3\\lib\\site-packages\\country_converter\\country_converter.py:578: FutureWarning:\n",
      "\n",
      "The default value of regex will change from True to False in a future version.\n",
      "\n",
      "C:\\ProgramData\\Anaconda3\\lib\\site-packages\\country_converter\\country_converter.py:578: FutureWarning:\n",
      "\n",
      "The default value of regex will change from True to False in a future version.\n",
      "\n",
      "C:\\ProgramData\\Anaconda3\\lib\\site-packages\\country_converter\\country_converter.py:578: FutureWarning:\n",
      "\n",
      "The default value of regex will change from True to False in a future version.\n",
      "\n",
      "C:\\ProgramData\\Anaconda3\\lib\\site-packages\\country_converter\\country_converter.py:578: FutureWarning:\n",
      "\n",
      "The default value of regex will change from True to False in a future version.\n",
      "\n",
      "C:\\ProgramData\\Anaconda3\\lib\\site-packages\\country_converter\\country_converter.py:578: FutureWarning:\n",
      "\n",
      "The default value of regex will change from True to False in a future version.\n",
      "\n",
      "C:\\ProgramData\\Anaconda3\\lib\\site-packages\\country_converter\\country_converter.py:578: FutureWarning:\n",
      "\n",
      "The default value of regex will change from True to False in a future version.\n",
      "\n",
      "C:\\ProgramData\\Anaconda3\\lib\\site-packages\\country_converter\\country_converter.py:578: FutureWarning:\n",
      "\n",
      "The default value of regex will change from True to False in a future version.\n",
      "\n",
      "C:\\ProgramData\\Anaconda3\\lib\\site-packages\\country_converter\\country_converter.py:578: FutureWarning:\n",
      "\n",
      "The default value of regex will change from True to False in a future version.\n",
      "\n"
     ]
    },
    {
     "data": {
      "application/vnd.plotly.v1+json": {
       "config": {
        "plotlyServerURL": "https://plot.ly"
       },
       "data": [
        {
         "autocolorscale": false,
         "colorbar": {
          "tickprefix": "$",
          "title": {
           "text": "GDP<br>Billions US$"
          }
         },
         "colorscale": [
          [
           0,
           "rgb(247,251,255)"
          ],
          [
           0.125,
           "rgb(222,235,247)"
          ],
          [
           0.25,
           "rgb(198,219,239)"
          ],
          [
           0.375,
           "rgb(158,202,225)"
          ],
          [
           0.5,
           "rgb(107,174,214)"
          ],
          [
           0.625,
           "rgb(66,146,198)"
          ],
          [
           0.75,
           "rgb(33,113,181)"
          ],
          [
           0.875,
           "rgb(8,81,156)"
          ],
          [
           1,
           "rgb(8,48,107)"
          ]
         ],
         "locations": [
          "TTO",
          "ITA",
          "MEX",
          "USA",
          "KOR",
          "GRC",
          "CAN",
          "GBR",
          "not found",
          "ARG",
          "ZAF",
          "AUT",
          "MYS",
          "IND",
          "IDN",
          "PAK",
          "LTU",
          "AUS",
          "SGP",
          "JAM",
          "NLD",
          "NGA",
          "MMR",
          "VNM",
          "ERI",
          "ZWE",
          "CHN"
         ],
         "marker": {
          "line": {
           "color": "darkgray",
           "width": 0.5
          }
         },
         "reversescale": true,
         "text": [
          "Trinidad and Tobago",
          "Italy",
          "Mexico",
          "United States",
          "South Korea",
          "Greece",
          "Canada",
          "United Kingdom",
          "not found",
          "Argentina",
          "South Africa",
          "Austria",
          "Malaysia",
          "India",
          "Indonesia",
          "Pakistan",
          "Lithuania",
          "Australia",
          "Singapore",
          "Jamaica",
          "Netherlands",
          "Nigeria",
          "Myanmar",
          "Vietnam",
          "Eritrea",
          "Zimbabwe",
          "China"
         ],
         "type": "choropleth",
         "z": [
          1,
          76,
          1,
          48,
          2,
          2,
          9,
          7,
          23,
          2,
          3,
          1,
          3,
          7,
          2,
          1,
          1,
          1,
          1,
          1,
          1,
          1,
          2,
          2,
          1,
          1,
          1
         ]
        }
       ],
       "layout": {
        "annotations": [
         {
          "showarrow": false,
          "x": 0.9,
          "xref": "paper",
          "y": 0.7,
          "yref": "paper"
         }
        ],
        "geo": {
         "projection": {
          "type": "equirectangular"
         },
         "showcoastlines": false,
         "showframe": false
        },
        "template": {
         "data": {
          "bar": [
           {
            "error_x": {
             "color": "#2a3f5f"
            },
            "error_y": {
             "color": "#2a3f5f"
            },
            "marker": {
             "line": {
              "color": "#E5ECF6",
              "width": 0.5
             }
            },
            "type": "bar"
           }
          ],
          "barpolar": [
           {
            "marker": {
             "line": {
              "color": "#E5ECF6",
              "width": 0.5
             }
            },
            "type": "barpolar"
           }
          ],
          "carpet": [
           {
            "aaxis": {
             "endlinecolor": "#2a3f5f",
             "gridcolor": "white",
             "linecolor": "white",
             "minorgridcolor": "white",
             "startlinecolor": "#2a3f5f"
            },
            "baxis": {
             "endlinecolor": "#2a3f5f",
             "gridcolor": "white",
             "linecolor": "white",
             "minorgridcolor": "white",
             "startlinecolor": "#2a3f5f"
            },
            "type": "carpet"
           }
          ],
          "choropleth": [
           {
            "colorbar": {
             "outlinewidth": 0,
             "ticks": ""
            },
            "type": "choropleth"
           }
          ],
          "contour": [
           {
            "colorbar": {
             "outlinewidth": 0,
             "ticks": ""
            },
            "colorscale": [
             [
              0,
              "#0d0887"
             ],
             [
              0.1111111111111111,
              "#46039f"
             ],
             [
              0.2222222222222222,
              "#7201a8"
             ],
             [
              0.3333333333333333,
              "#9c179e"
             ],
             [
              0.4444444444444444,
              "#bd3786"
             ],
             [
              0.5555555555555556,
              "#d8576b"
             ],
             [
              0.6666666666666666,
              "#ed7953"
             ],
             [
              0.7777777777777778,
              "#fb9f3a"
             ],
             [
              0.8888888888888888,
              "#fdca26"
             ],
             [
              1,
              "#f0f921"
             ]
            ],
            "type": "contour"
           }
          ],
          "contourcarpet": [
           {
            "colorbar": {
             "outlinewidth": 0,
             "ticks": ""
            },
            "type": "contourcarpet"
           }
          ],
          "heatmap": [
           {
            "colorbar": {
             "outlinewidth": 0,
             "ticks": ""
            },
            "colorscale": [
             [
              0,
              "#0d0887"
             ],
             [
              0.1111111111111111,
              "#46039f"
             ],
             [
              0.2222222222222222,
              "#7201a8"
             ],
             [
              0.3333333333333333,
              "#9c179e"
             ],
             [
              0.4444444444444444,
              "#bd3786"
             ],
             [
              0.5555555555555556,
              "#d8576b"
             ],
             [
              0.6666666666666666,
              "#ed7953"
             ],
             [
              0.7777777777777778,
              "#fb9f3a"
             ],
             [
              0.8888888888888888,
              "#fdca26"
             ],
             [
              1,
              "#f0f921"
             ]
            ],
            "type": "heatmap"
           }
          ],
          "heatmapgl": [
           {
            "colorbar": {
             "outlinewidth": 0,
             "ticks": ""
            },
            "colorscale": [
             [
              0,
              "#0d0887"
             ],
             [
              0.1111111111111111,
              "#46039f"
             ],
             [
              0.2222222222222222,
              "#7201a8"
             ],
             [
              0.3333333333333333,
              "#9c179e"
             ],
             [
              0.4444444444444444,
              "#bd3786"
             ],
             [
              0.5555555555555556,
              "#d8576b"
             ],
             [
              0.6666666666666666,
              "#ed7953"
             ],
             [
              0.7777777777777778,
              "#fb9f3a"
             ],
             [
              0.8888888888888888,
              "#fdca26"
             ],
             [
              1,
              "#f0f921"
             ]
            ],
            "type": "heatmapgl"
           }
          ],
          "histogram": [
           {
            "marker": {
             "colorbar": {
              "outlinewidth": 0,
              "ticks": ""
             }
            },
            "type": "histogram"
           }
          ],
          "histogram2d": [
           {
            "colorbar": {
             "outlinewidth": 0,
             "ticks": ""
            },
            "colorscale": [
             [
              0,
              "#0d0887"
             ],
             [
              0.1111111111111111,
              "#46039f"
             ],
             [
              0.2222222222222222,
              "#7201a8"
             ],
             [
              0.3333333333333333,
              "#9c179e"
             ],
             [
              0.4444444444444444,
              "#bd3786"
             ],
             [
              0.5555555555555556,
              "#d8576b"
             ],
             [
              0.6666666666666666,
              "#ed7953"
             ],
             [
              0.7777777777777778,
              "#fb9f3a"
             ],
             [
              0.8888888888888888,
              "#fdca26"
             ],
             [
              1,
              "#f0f921"
             ]
            ],
            "type": "histogram2d"
           }
          ],
          "histogram2dcontour": [
           {
            "colorbar": {
             "outlinewidth": 0,
             "ticks": ""
            },
            "colorscale": [
             [
              0,
              "#0d0887"
             ],
             [
              0.1111111111111111,
              "#46039f"
             ],
             [
              0.2222222222222222,
              "#7201a8"
             ],
             [
              0.3333333333333333,
              "#9c179e"
             ],
             [
              0.4444444444444444,
              "#bd3786"
             ],
             [
              0.5555555555555556,
              "#d8576b"
             ],
             [
              0.6666666666666666,
              "#ed7953"
             ],
             [
              0.7777777777777778,
              "#fb9f3a"
             ],
             [
              0.8888888888888888,
              "#fdca26"
             ],
             [
              1,
              "#f0f921"
             ]
            ],
            "type": "histogram2dcontour"
           }
          ],
          "mesh3d": [
           {
            "colorbar": {
             "outlinewidth": 0,
             "ticks": ""
            },
            "type": "mesh3d"
           }
          ],
          "parcoords": [
           {
            "line": {
             "colorbar": {
              "outlinewidth": 0,
              "ticks": ""
             }
            },
            "type": "parcoords"
           }
          ],
          "pie": [
           {
            "automargin": true,
            "type": "pie"
           }
          ],
          "scatter": [
           {
            "marker": {
             "colorbar": {
              "outlinewidth": 0,
              "ticks": ""
             }
            },
            "type": "scatter"
           }
          ],
          "scatter3d": [
           {
            "line": {
             "colorbar": {
              "outlinewidth": 0,
              "ticks": ""
             }
            },
            "marker": {
             "colorbar": {
              "outlinewidth": 0,
              "ticks": ""
             }
            },
            "type": "scatter3d"
           }
          ],
          "scattercarpet": [
           {
            "marker": {
             "colorbar": {
              "outlinewidth": 0,
              "ticks": ""
             }
            },
            "type": "scattercarpet"
           }
          ],
          "scattergeo": [
           {
            "marker": {
             "colorbar": {
              "outlinewidth": 0,
              "ticks": ""
             }
            },
            "type": "scattergeo"
           }
          ],
          "scattergl": [
           {
            "marker": {
             "colorbar": {
              "outlinewidth": 0,
              "ticks": ""
             }
            },
            "type": "scattergl"
           }
          ],
          "scattermapbox": [
           {
            "marker": {
             "colorbar": {
              "outlinewidth": 0,
              "ticks": ""
             }
            },
            "type": "scattermapbox"
           }
          ],
          "scatterpolar": [
           {
            "marker": {
             "colorbar": {
              "outlinewidth": 0,
              "ticks": ""
             }
            },
            "type": "scatterpolar"
           }
          ],
          "scatterpolargl": [
           {
            "marker": {
             "colorbar": {
              "outlinewidth": 0,
              "ticks": ""
             }
            },
            "type": "scatterpolargl"
           }
          ],
          "scatterternary": [
           {
            "marker": {
             "colorbar": {
              "outlinewidth": 0,
              "ticks": ""
             }
            },
            "type": "scatterternary"
           }
          ],
          "surface": [
           {
            "colorbar": {
             "outlinewidth": 0,
             "ticks": ""
            },
            "colorscale": [
             [
              0,
              "#0d0887"
             ],
             [
              0.1111111111111111,
              "#46039f"
             ],
             [
              0.2222222222222222,
              "#7201a8"
             ],
             [
              0.3333333333333333,
              "#9c179e"
             ],
             [
              0.4444444444444444,
              "#bd3786"
             ],
             [
              0.5555555555555556,
              "#d8576b"
             ],
             [
              0.6666666666666666,
              "#ed7953"
             ],
             [
              0.7777777777777778,
              "#fb9f3a"
             ],
             [
              0.8888888888888888,
              "#fdca26"
             ],
             [
              1,
              "#f0f921"
             ]
            ],
            "type": "surface"
           }
          ],
          "table": [
           {
            "cells": {
             "fill": {
              "color": "#EBF0F8"
             },
             "line": {
              "color": "white"
             }
            },
            "header": {
             "fill": {
              "color": "#C8D4E3"
             },
             "line": {
              "color": "white"
             }
            },
            "type": "table"
           }
          ]
         },
         "layout": {
          "annotationdefaults": {
           "arrowcolor": "#2a3f5f",
           "arrowhead": 0,
           "arrowwidth": 1
          },
          "coloraxis": {
           "colorbar": {
            "outlinewidth": 0,
            "ticks": ""
           }
          },
          "colorscale": {
           "diverging": [
            [
             0,
             "#8e0152"
            ],
            [
             0.1,
             "#c51b7d"
            ],
            [
             0.2,
             "#de77ae"
            ],
            [
             0.3,
             "#f1b6da"
            ],
            [
             0.4,
             "#fde0ef"
            ],
            [
             0.5,
             "#f7f7f7"
            ],
            [
             0.6,
             "#e6f5d0"
            ],
            [
             0.7,
             "#b8e186"
            ],
            [
             0.8,
             "#7fbc41"
            ],
            [
             0.9,
             "#4d9221"
            ],
            [
             1,
             "#276419"
            ]
           ],
           "sequential": [
            [
             0,
             "#0d0887"
            ],
            [
             0.1111111111111111,
             "#46039f"
            ],
            [
             0.2222222222222222,
             "#7201a8"
            ],
            [
             0.3333333333333333,
             "#9c179e"
            ],
            [
             0.4444444444444444,
             "#bd3786"
            ],
            [
             0.5555555555555556,
             "#d8576b"
            ],
            [
             0.6666666666666666,
             "#ed7953"
            ],
            [
             0.7777777777777778,
             "#fb9f3a"
            ],
            [
             0.8888888888888888,
             "#fdca26"
            ],
            [
             1,
             "#f0f921"
            ]
           ],
           "sequentialminus": [
            [
             0,
             "#0d0887"
            ],
            [
             0.1111111111111111,
             "#46039f"
            ],
            [
             0.2222222222222222,
             "#7201a8"
            ],
            [
             0.3333333333333333,
             "#9c179e"
            ],
            [
             0.4444444444444444,
             "#bd3786"
            ],
            [
             0.5555555555555556,
             "#d8576b"
            ],
            [
             0.6666666666666666,
             "#ed7953"
            ],
            [
             0.7777777777777778,
             "#fb9f3a"
            ],
            [
             0.8888888888888888,
             "#fdca26"
            ],
            [
             1,
             "#f0f921"
            ]
           ]
          },
          "colorway": [
           "#636efa",
           "#EF553B",
           "#00cc96",
           "#ab63fa",
           "#FFA15A",
           "#19d3f3",
           "#FF6692",
           "#B6E880",
           "#FF97FF",
           "#FECB52"
          ],
          "font": {
           "color": "#2a3f5f"
          },
          "geo": {
           "bgcolor": "white",
           "lakecolor": "white",
           "landcolor": "#E5ECF6",
           "showlakes": true,
           "showland": true,
           "subunitcolor": "white"
          },
          "hoverlabel": {
           "align": "left"
          },
          "hovermode": "closest",
          "mapbox": {
           "style": "light"
          },
          "paper_bgcolor": "white",
          "plot_bgcolor": "#E5ECF6",
          "polar": {
           "angularaxis": {
            "gridcolor": "white",
            "linecolor": "white",
            "ticks": ""
           },
           "bgcolor": "#E5ECF6",
           "radialaxis": {
            "gridcolor": "white",
            "linecolor": "white",
            "ticks": ""
           }
          },
          "scene": {
           "xaxis": {
            "backgroundcolor": "#E5ECF6",
            "gridcolor": "white",
            "gridwidth": 2,
            "linecolor": "white",
            "showbackground": true,
            "ticks": "",
            "zerolinecolor": "white"
           },
           "yaxis": {
            "backgroundcolor": "#E5ECF6",
            "gridcolor": "white",
            "gridwidth": 2,
            "linecolor": "white",
            "showbackground": true,
            "ticks": "",
            "zerolinecolor": "white"
           },
           "zaxis": {
            "backgroundcolor": "#E5ECF6",
            "gridcolor": "white",
            "gridwidth": 2,
            "linecolor": "white",
            "showbackground": true,
            "ticks": "",
            "zerolinecolor": "white"
           }
          },
          "shapedefaults": {
           "line": {
            "color": "#2a3f5f"
           }
          },
          "ternary": {
           "aaxis": {
            "gridcolor": "white",
            "linecolor": "white",
            "ticks": ""
           },
           "baxis": {
            "gridcolor": "white",
            "linecolor": "white",
            "ticks": ""
           },
           "bgcolor": "#E5ECF6",
           "caxis": {
            "gridcolor": "white",
            "linecolor": "white",
            "ticks": ""
           }
          },
          "title": {
           "x": 0.05
          },
          "xaxis": {
           "automargin": true,
           "gridcolor": "white",
           "linecolor": "white",
           "ticks": "",
           "title": {
            "standoff": 15
           },
           "zerolinecolor": "white",
           "zerolinewidth": 2
          },
          "yaxis": {
           "automargin": true,
           "gridcolor": "white",
           "linecolor": "white",
           "ticks": "",
           "title": {
            "standoff": 15
           },
           "zerolinecolor": "white",
           "zerolinewidth": 2
          }
         }
        },
        "title": {
         "text": "2014 Global GDP"
        }
       }
      },
      "text/html": [
       "<div>\n",
       "        \n",
       "        \n",
       "            <div id=\"37178e44-a227-4081-8534-01368f4bacaf\" class=\"plotly-graph-div\" style=\"height:525px; width:100%;\"></div>\n",
       "            <script type=\"text/javascript\">\n",
       "                require([\"plotly\"], function(Plotly) {\n",
       "                    window.PLOTLYENV=window.PLOTLYENV || {};\n",
       "                    \n",
       "                if (document.getElementById(\"37178e44-a227-4081-8534-01368f4bacaf\")) {\n",
       "                    Plotly.newPlot(\n",
       "                        '37178e44-a227-4081-8534-01368f4bacaf',\n",
       "                        [{\"autocolorscale\": false, \"colorbar\": {\"tickprefix\": \"$\", \"title\": {\"text\": \"GDP<br>Billions US$\"}}, \"colorscale\": [[0.0, \"rgb(247,251,255)\"], [0.125, \"rgb(222,235,247)\"], [0.25, \"rgb(198,219,239)\"], [0.375, \"rgb(158,202,225)\"], [0.5, \"rgb(107,174,214)\"], [0.625, \"rgb(66,146,198)\"], [0.75, \"rgb(33,113,181)\"], [0.875, \"rgb(8,81,156)\"], [1.0, \"rgb(8,48,107)\"]], \"locations\": [\"TTO\", \"ITA\", \"MEX\", \"USA\", \"KOR\", \"GRC\", \"CAN\", \"GBR\", \"not found\", \"ARG\", \"ZAF\", \"AUT\", \"MYS\", \"IND\", \"IDN\", \"PAK\", \"LTU\", \"AUS\", \"SGP\", \"JAM\", \"NLD\", \"NGA\", \"MMR\", \"VNM\", \"ERI\", \"ZWE\", \"CHN\"], \"marker\": {\"line\": {\"color\": \"darkgray\", \"width\": 0.5}}, \"reversescale\": true, \"text\": [\"Trinidad and Tobago\", \"Italy\", \"Mexico\", \"United States\", \"South Korea\", \"Greece\", \"Canada\", \"United Kingdom\", \"not found\", \"Argentina\", \"South Africa\", \"Austria\", \"Malaysia\", \"India\", \"Indonesia\", \"Pakistan\", \"Lithuania\", \"Australia\", \"Singapore\", \"Jamaica\", \"Netherlands\", \"Nigeria\", \"Myanmar\", \"Vietnam\", \"Eritrea\", \"Zimbabwe\", \"China\"], \"type\": \"choropleth\", \"z\": [1, 76, 1, 48, 2, 2, 9, 7, 23, 2, 3, 1, 3, 7, 2, 1, 1, 1, 1, 1, 1, 1, 2, 2, 1, 1, 1]}],\n",
       "                        {\"annotations\": [{\"showarrow\": false, \"x\": 0.9, \"xref\": \"paper\", \"y\": 0.7, \"yref\": \"paper\"}], \"geo\": {\"projection\": {\"type\": \"equirectangular\"}, \"showcoastlines\": false, \"showframe\": false}, \"template\": {\"data\": {\"bar\": [{\"error_x\": {\"color\": \"#2a3f5f\"}, \"error_y\": {\"color\": \"#2a3f5f\"}, \"marker\": {\"line\": {\"color\": \"#E5ECF6\", \"width\": 0.5}}, \"type\": \"bar\"}], \"barpolar\": [{\"marker\": {\"line\": {\"color\": \"#E5ECF6\", \"width\": 0.5}}, \"type\": \"barpolar\"}], \"carpet\": [{\"aaxis\": {\"endlinecolor\": \"#2a3f5f\", \"gridcolor\": \"white\", \"linecolor\": \"white\", \"minorgridcolor\": \"white\", \"startlinecolor\": \"#2a3f5f\"}, \"baxis\": {\"endlinecolor\": \"#2a3f5f\", \"gridcolor\": \"white\", \"linecolor\": \"white\", \"minorgridcolor\": \"white\", \"startlinecolor\": \"#2a3f5f\"}, \"type\": \"carpet\"}], \"choropleth\": [{\"colorbar\": {\"outlinewidth\": 0, \"ticks\": \"\"}, \"type\": \"choropleth\"}], \"contour\": [{\"colorbar\": {\"outlinewidth\": 0, \"ticks\": \"\"}, \"colorscale\": [[0.0, \"#0d0887\"], [0.1111111111111111, \"#46039f\"], [0.2222222222222222, \"#7201a8\"], [0.3333333333333333, \"#9c179e\"], [0.4444444444444444, \"#bd3786\"], [0.5555555555555556, \"#d8576b\"], [0.6666666666666666, \"#ed7953\"], [0.7777777777777778, \"#fb9f3a\"], [0.8888888888888888, \"#fdca26\"], [1.0, \"#f0f921\"]], \"type\": \"contour\"}], \"contourcarpet\": [{\"colorbar\": {\"outlinewidth\": 0, \"ticks\": \"\"}, \"type\": \"contourcarpet\"}], \"heatmap\": [{\"colorbar\": {\"outlinewidth\": 0, \"ticks\": \"\"}, \"colorscale\": [[0.0, \"#0d0887\"], [0.1111111111111111, \"#46039f\"], [0.2222222222222222, \"#7201a8\"], [0.3333333333333333, \"#9c179e\"], [0.4444444444444444, \"#bd3786\"], [0.5555555555555556, \"#d8576b\"], [0.6666666666666666, \"#ed7953\"], [0.7777777777777778, \"#fb9f3a\"], [0.8888888888888888, \"#fdca26\"], [1.0, \"#f0f921\"]], \"type\": \"heatmap\"}], \"heatmapgl\": [{\"colorbar\": {\"outlinewidth\": 0, \"ticks\": \"\"}, \"colorscale\": [[0.0, \"#0d0887\"], [0.1111111111111111, \"#46039f\"], [0.2222222222222222, \"#7201a8\"], [0.3333333333333333, \"#9c179e\"], [0.4444444444444444, \"#bd3786\"], [0.5555555555555556, \"#d8576b\"], [0.6666666666666666, \"#ed7953\"], [0.7777777777777778, \"#fb9f3a\"], [0.8888888888888888, \"#fdca26\"], [1.0, \"#f0f921\"]], \"type\": \"heatmapgl\"}], \"histogram\": [{\"marker\": {\"colorbar\": {\"outlinewidth\": 0, \"ticks\": \"\"}}, \"type\": \"histogram\"}], \"histogram2d\": [{\"colorbar\": {\"outlinewidth\": 0, \"ticks\": \"\"}, \"colorscale\": [[0.0, \"#0d0887\"], [0.1111111111111111, \"#46039f\"], [0.2222222222222222, \"#7201a8\"], [0.3333333333333333, \"#9c179e\"], [0.4444444444444444, \"#bd3786\"], [0.5555555555555556, \"#d8576b\"], [0.6666666666666666, \"#ed7953\"], [0.7777777777777778, \"#fb9f3a\"], [0.8888888888888888, \"#fdca26\"], [1.0, \"#f0f921\"]], \"type\": \"histogram2d\"}], \"histogram2dcontour\": [{\"colorbar\": {\"outlinewidth\": 0, \"ticks\": \"\"}, \"colorscale\": [[0.0, \"#0d0887\"], [0.1111111111111111, \"#46039f\"], [0.2222222222222222, \"#7201a8\"], [0.3333333333333333, \"#9c179e\"], [0.4444444444444444, \"#bd3786\"], [0.5555555555555556, \"#d8576b\"], [0.6666666666666666, \"#ed7953\"], [0.7777777777777778, \"#fb9f3a\"], [0.8888888888888888, \"#fdca26\"], [1.0, \"#f0f921\"]], \"type\": \"histogram2dcontour\"}], \"mesh3d\": [{\"colorbar\": {\"outlinewidth\": 0, \"ticks\": \"\"}, \"type\": \"mesh3d\"}], \"parcoords\": [{\"line\": {\"colorbar\": {\"outlinewidth\": 0, \"ticks\": \"\"}}, \"type\": \"parcoords\"}], \"pie\": [{\"automargin\": true, \"type\": \"pie\"}], \"scatter\": [{\"marker\": {\"colorbar\": {\"outlinewidth\": 0, \"ticks\": \"\"}}, \"type\": \"scatter\"}], \"scatter3d\": [{\"line\": {\"colorbar\": {\"outlinewidth\": 0, \"ticks\": \"\"}}, \"marker\": {\"colorbar\": {\"outlinewidth\": 0, \"ticks\": \"\"}}, \"type\": \"scatter3d\"}], \"scattercarpet\": [{\"marker\": {\"colorbar\": {\"outlinewidth\": 0, \"ticks\": \"\"}}, \"type\": \"scattercarpet\"}], \"scattergeo\": [{\"marker\": {\"colorbar\": {\"outlinewidth\": 0, \"ticks\": \"\"}}, \"type\": \"scattergeo\"}], \"scattergl\": [{\"marker\": {\"colorbar\": {\"outlinewidth\": 0, \"ticks\": \"\"}}, \"type\": \"scattergl\"}], \"scattermapbox\": [{\"marker\": {\"colorbar\": {\"outlinewidth\": 0, \"ticks\": \"\"}}, \"type\": \"scattermapbox\"}], \"scatterpolar\": [{\"marker\": {\"colorbar\": {\"outlinewidth\": 0, \"ticks\": \"\"}}, \"type\": \"scatterpolar\"}], \"scatterpolargl\": [{\"marker\": {\"colorbar\": {\"outlinewidth\": 0, \"ticks\": \"\"}}, \"type\": \"scatterpolargl\"}], \"scatterternary\": [{\"marker\": {\"colorbar\": {\"outlinewidth\": 0, \"ticks\": \"\"}}, \"type\": \"scatterternary\"}], \"surface\": [{\"colorbar\": {\"outlinewidth\": 0, \"ticks\": \"\"}, \"colorscale\": [[0.0, \"#0d0887\"], [0.1111111111111111, \"#46039f\"], [0.2222222222222222, \"#7201a8\"], [0.3333333333333333, \"#9c179e\"], [0.4444444444444444, \"#bd3786\"], [0.5555555555555556, \"#d8576b\"], [0.6666666666666666, \"#ed7953\"], [0.7777777777777778, \"#fb9f3a\"], [0.8888888888888888, \"#fdca26\"], [1.0, \"#f0f921\"]], \"type\": \"surface\"}], \"table\": [{\"cells\": {\"fill\": {\"color\": \"#EBF0F8\"}, \"line\": {\"color\": \"white\"}}, \"header\": {\"fill\": {\"color\": \"#C8D4E3\"}, \"line\": {\"color\": \"white\"}}, \"type\": \"table\"}]}, \"layout\": {\"annotationdefaults\": {\"arrowcolor\": \"#2a3f5f\", \"arrowhead\": 0, \"arrowwidth\": 1}, \"coloraxis\": {\"colorbar\": {\"outlinewidth\": 0, \"ticks\": \"\"}}, \"colorscale\": {\"diverging\": [[0, \"#8e0152\"], [0.1, \"#c51b7d\"], [0.2, \"#de77ae\"], [0.3, \"#f1b6da\"], [0.4, \"#fde0ef\"], [0.5, \"#f7f7f7\"], [0.6, \"#e6f5d0\"], [0.7, \"#b8e186\"], [0.8, \"#7fbc41\"], [0.9, \"#4d9221\"], [1, \"#276419\"]], \"sequential\": [[0.0, \"#0d0887\"], [0.1111111111111111, \"#46039f\"], [0.2222222222222222, \"#7201a8\"], [0.3333333333333333, \"#9c179e\"], [0.4444444444444444, \"#bd3786\"], [0.5555555555555556, \"#d8576b\"], [0.6666666666666666, \"#ed7953\"], [0.7777777777777778, \"#fb9f3a\"], [0.8888888888888888, \"#fdca26\"], [1.0, \"#f0f921\"]], \"sequentialminus\": [[0.0, \"#0d0887\"], [0.1111111111111111, \"#46039f\"], [0.2222222222222222, \"#7201a8\"], [0.3333333333333333, \"#9c179e\"], [0.4444444444444444, \"#bd3786\"], [0.5555555555555556, \"#d8576b\"], [0.6666666666666666, \"#ed7953\"], [0.7777777777777778, \"#fb9f3a\"], [0.8888888888888888, \"#fdca26\"], [1.0, \"#f0f921\"]]}, \"colorway\": [\"#636efa\", \"#EF553B\", \"#00cc96\", \"#ab63fa\", \"#FFA15A\", \"#19d3f3\", \"#FF6692\", \"#B6E880\", \"#FF97FF\", \"#FECB52\"], \"font\": {\"color\": \"#2a3f5f\"}, \"geo\": {\"bgcolor\": \"white\", \"lakecolor\": \"white\", \"landcolor\": \"#E5ECF6\", \"showlakes\": true, \"showland\": true, \"subunitcolor\": \"white\"}, \"hoverlabel\": {\"align\": \"left\"}, \"hovermode\": \"closest\", \"mapbox\": {\"style\": \"light\"}, \"paper_bgcolor\": \"white\", \"plot_bgcolor\": \"#E5ECF6\", \"polar\": {\"angularaxis\": {\"gridcolor\": \"white\", \"linecolor\": \"white\", \"ticks\": \"\"}, \"bgcolor\": \"#E5ECF6\", \"radialaxis\": {\"gridcolor\": \"white\", \"linecolor\": \"white\", \"ticks\": \"\"}}, \"scene\": {\"xaxis\": {\"backgroundcolor\": \"#E5ECF6\", \"gridcolor\": \"white\", \"gridwidth\": 2, \"linecolor\": \"white\", \"showbackground\": true, \"ticks\": \"\", \"zerolinecolor\": \"white\"}, \"yaxis\": {\"backgroundcolor\": \"#E5ECF6\", \"gridcolor\": \"white\", \"gridwidth\": 2, \"linecolor\": \"white\", \"showbackground\": true, \"ticks\": \"\", \"zerolinecolor\": \"white\"}, \"zaxis\": {\"backgroundcolor\": \"#E5ECF6\", \"gridcolor\": \"white\", \"gridwidth\": 2, \"linecolor\": \"white\", \"showbackground\": true, \"ticks\": \"\", \"zerolinecolor\": \"white\"}}, \"shapedefaults\": {\"line\": {\"color\": \"#2a3f5f\"}}, \"ternary\": {\"aaxis\": {\"gridcolor\": \"white\", \"linecolor\": \"white\", \"ticks\": \"\"}, \"baxis\": {\"gridcolor\": \"white\", \"linecolor\": \"white\", \"ticks\": \"\"}, \"bgcolor\": \"#E5ECF6\", \"caxis\": {\"gridcolor\": \"white\", \"linecolor\": \"white\", \"ticks\": \"\"}}, \"title\": {\"x\": 0.05}, \"xaxis\": {\"automargin\": true, \"gridcolor\": \"white\", \"linecolor\": \"white\", \"ticks\": \"\", \"title\": {\"standoff\": 15}, \"zerolinecolor\": \"white\", \"zerolinewidth\": 2}, \"yaxis\": {\"automargin\": true, \"gridcolor\": \"white\", \"linecolor\": \"white\", \"ticks\": \"\", \"title\": {\"standoff\": 15}, \"zerolinecolor\": \"white\", \"zerolinewidth\": 2}}}, \"title\": {\"text\": \"2014 Global GDP\"}},\n",
       "                        {\"responsive\": true}\n",
       "                    ).then(function(){\n",
       "                            \n",
       "var gd = document.getElementById('37178e44-a227-4081-8534-01368f4bacaf');\n",
       "var x = new MutationObserver(function (mutations, observer) {{\n",
       "        var display = window.getComputedStyle(gd).display;\n",
       "        if (!display || display === 'none') {{\n",
       "            console.log([gd, 'removed!']);\n",
       "            Plotly.purge(gd);\n",
       "            observer.disconnect();\n",
       "        }}\n",
       "}});\n",
       "\n",
       "// Listen for the removal of the full notebook cells\n",
       "var notebookContainer = gd.closest('#notebook-container');\n",
       "if (notebookContainer) {{\n",
       "    x.observe(notebookContainer, {childList: true});\n",
       "}}\n",
       "\n",
       "// Listen for the clearing of the current output cell\n",
       "var outputEl = gd.closest('.output');\n",
       "if (outputEl) {{\n",
       "    x.observe(outputEl, {childList: true});\n",
       "}}\n",
       "\n",
       "                        })\n",
       "                };\n",
       "                });\n",
       "            </script>\n",
       "        </div>"
      ]
     },
     "metadata": {},
     "output_type": "display_data"
    }
   ],
   "source": [
    "import country_converter as coco\n",
    "import pandas as np\n",
    "import numpy as np\n",
    "import sqlite3\n",
    "import collections\n",
    "import plotly.graph_objects as go\n",
    "\n",
    "dataframe = pd.read_sql(\"\"\"SELECT user_location FROM FACEBOOK \"\"\", con=conn1)\n",
    "\n",
    "\n",
    "conn1 = sqlite3.connect('twitter.db')\n",
    "print(\"Opened the database successfully\")\n",
    "\n",
    "conn = conn1.cursor()\n",
    "\n",
    "query = \"SELECT * from  {}\" .format(settings.TABLE_NAME)\n",
    "df = pd.read_sql(query, con=conn1)\n",
    "normal_names = df[\"user_location\"].tolist()\n",
    "iso2_codes = coco.convert(names=normal_names, to='ISO3')\n",
    "# print(iso2_codes)\n",
    "counter=collections.Counter(iso2_codes)\n",
    "# print(counter)\n",
    "df1 = pd.DataFrame.from_dict(counter, orient='index').reset_index()\n",
    "df1 = df1.rename(columns={'index':'CODE', 0:'COUNT'})\n",
    "# df1['COUNTRY'] = cc.convert(names = df1['CODE'], to = 'name_short')\n",
    "country=list()\n",
    "for i in df1['CODE']:\n",
    "    country.append(coco.convert(names = i, to = 'name_short'))\n",
    "    \n",
    "df1['COUNTRY']=country\n",
    "# print(df1)\n",
    "\n",
    "\n",
    "fig = go.Figure(data=go.Choropleth(\n",
    "    locations = df1['CODE'],\n",
    "    z = df1['COUNT'],\n",
    "    text = df1['COUNTRY'],\n",
    "    colorscale = 'Blues',\n",
    "    autocolorscale=False,\n",
    "    reversescale=True,\n",
    "    marker_line_color='darkgray',\n",
    "    marker_line_width=0.5,\n",
    "    colorbar_tickprefix = '$',\n",
    "    colorbar_title = 'GDP<br>Billions US$',\n",
    "))\n",
    "\n",
    "fig.update_layout(\n",
    "    title_text='2014 Global GDP',\n",
    "    geo=dict(\n",
    "        showframe=False,\n",
    "        showcoastlines=False,\n",
    "        projection_type='equirectangular'\n",
    "    ),\n",
    "    annotations = [dict(\n",
    "        x=0.9,\n",
    "        y=0.7,\n",
    "        xref='paper',\n",
    "        yref='paper',\n",
    "#         text='Source: <a href=\"https://www.cia.gov/library/publications/the-world-factbook/fields/2195.html\">\\\n",
    "#             CIA World Factbook</a>',\n",
    "        showarrow = False\n",
    "    )]\n",
    ")\n",
    "\n",
    "fig.show()"
   ]
  },
  {
   "cell_type": "code",
   "execution_count": null,
   "metadata": {},
   "outputs": [],
   "source": [
    "\n"
   ]
  },
  {
   "cell_type": "code",
   "execution_count": 11,
   "metadata": {
    "scrolled": true
   },
   "outputs": [
    {
     "name": "stdout",
     "output_type": "stream",
     "text": [
      "<class 'list'>\n",
      "[1961, 1975, 1948, 1945, 1991, 1991, 1945]\n"
     ]
    },
    {
     "name": "stderr",
     "output_type": "stream",
     "text": [
      "C:\\ProgramData\\Anaconda3\\lib\\site-packages\\country_converter\\country_converter.py:578: FutureWarning:\n",
      "\n",
      "The default value of regex will change from True to False in a future version.\n",
      "\n"
     ]
    }
   ],
   "source": [
    "import country_converter as coco\n",
    "cc = coco.CountryConverter()\n",
    "\n",
    "some_names = ['United Rep. of Tanzania', 'Cape Verde', 'Burma',\n",
    "              'Iran (Islamic Republic of)', 'Korea, Republic of',\n",
    "              \"Dem. People's Rep. of Korea\", \"USA\"]\n",
    "\n",
    "standard_names = cc.convert(names = some_names, to = 'name_short')\n",
    "UNmembership = cc.convert(names = some_names, to = 'UNmember')\n",
    "print(type(standard_names))\n",
    "print(UNmembership)"
   ]
  },
  {
   "cell_type": "code",
   "execution_count": null,
   "metadata": {},
   "outputs": [],
   "source": []
  }
 ],
 "metadata": {
  "kernelspec": {
   "name": "python385jvsc74a57bd027225dcd8c45392b82b4f9e0410e91e0b9b6f33fb0f1cd953d7902206051e546",
   "display_name": "Python 3.8.5 64-bit ('socialis')"
  },
  "language_info": {
   "codemirror_mode": {
    "name": "ipython",
    "version": 3
   },
   "file_extension": ".py",
   "mimetype": "text/x-python",
   "name": "python",
   "nbconvert_exporter": "python",
   "pygments_lexer": "ipython3",
   "version": "3.8.5-final"
  },
  "metadata": {
   "interpreter": {
    "hash": "27225dcd8c45392b82b4f9e0410e91e0b9b6f33fb0f1cd953d7902206051e546"
   }
  }
 },
 "nbformat": 4,
 "nbformat_minor": 2
}