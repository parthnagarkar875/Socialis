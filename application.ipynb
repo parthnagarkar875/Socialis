{
 "metadata": {
  "language_info": {
   "codemirror_mode": {
    "name": "ipython",
    "version": 3
   },
   "file_extension": ".py",
   "mimetype": "text/x-python",
   "name": "python",
   "nbconvert_exporter": "python",
   "pygments_lexer": "ipython3",
   "version": "3.7.9-final"
  },
  "orig_nbformat": 2,
  "kernelspec": {
   "name": "python3",
   "display_name": "Python 3",
   "language": "python"
  }
 },
 "nbformat": 4,
 "nbformat_minor": 2,
 "cells": [
  {
   "cell_type": "code",
   "execution_count": 3,
   "metadata": {},
   "outputs": [],
   "source": [
    "import credentials # Import api/access_token keys from credentials.py\n",
    "import re\n",
    "import tweepy\n",
    "import settings\n",
    "import mysql.connector\n",
    "import pandas as pd\n",
    "from textblob import TextBlob\n",
    "from nltk.corpus import stopwords\n",
    "from nltk.tokenize import word_tokenize\n",
    "import spacy\n",
    "import preprocessor as p\n",
    "\n",
    "# p.clean('Preprocessor is #awesome 👍 https://github.com/s/preprocessor')\n",
    "\n",
    "class MyStreamListener(tweepy.StreamListener):\n",
    "\n",
    "    nlp = spacy.load('en_core_web_sm', disable=['parser', 'ner'])\n",
    "\n",
    "    def lemma(comment):\n",
    "        doc = MyStreamListener.nlp(comment)\n",
    "        return \" \".join([token.lemma_ for token in doc])    \n",
    "\n",
    "    def deEmojify(self, text):\n",
    "        regrex_pattern = re.compile(pattern = \"[\"\n",
    "            u\"\\U0001F600-\\U0001F64F\"  # emoticons\n",
    "            u\"\\U0001F300-\\U0001F5FF\"  # symbols & pictographs\n",
    "            u\"\\U0001F680-\\U0001F6FF\"  # transport & map symbols\n",
    "            u\"\\U0001F1E0-\\U0001F1FF\"  # flags (iOS)\n",
    "                            \"]+\", flags = re.UNICODE)\n",
    "        return regrex_pattern.sub(r'',text)\n",
    "\n",
    "    def preprocess(self, tweet):    \n",
    "        text = re.sub(r'http\\S+', '', tweet.lower(), flags=re.MULTILINE)\n",
    "        res = re.sub(r'[^\\w\\s]', '', text)\n",
    "        deemo = self.deEmojify(res)\n",
    "        le = self.lemma(deemo)\n",
    "        return le\n",
    "\n",
    "    def on_status(self, status):\n",
    "        if status.retweeted:\n",
    "        #Avoid retweeted info, and only original tweets will be received\n",
    "            return True\n",
    "        # Extract info from tweets\n",
    "        id_str = status.id_str\n",
    "        created_at = status.created_at\n",
    "        # text = self.preprocess(status.text)    # Pre-processing the text  \n",
    "        text = p.clean(status.text)\n",
    "        sentiment = TextBlob(text).sentiment\n",
    "        polarity = sentiment.polarity\n",
    "        subjectivity = sentiment.subjectivity\n",
    "        doc = nlp(text)\n",
    "        enti = str()\n",
    "        cond = ['PERSON', 'GPE', 'ORG']\n",
    "        for ent in doc.ents: \n",
    "            if ent.label_ in cond:\n",
    "                enti = enti + \",\" + ent.text                 \n",
    "        enti = enti[1:]\n",
    "        user_created_at = status.user.created_at\n",
    "        user_location = self.deEmojify(status.user.location)\n",
    "        user_description = self.deEmojify(status.user.description)\n",
    "        user_followers_count =status.user.followers_count\n",
    "        longitude = None\n",
    "        latitude = None\n",
    "        if status.coordinates:\n",
    "            longitude = status.coordinates['coordinates'][0]\n",
    "            latitude = status.coordinates['coordinates'][1]\n",
    "        \n",
    "        retweet_count = status.retweet_count\n",
    "        favorite_count = status.favorite_count\n",
    "        \n",
    "        print(status.text)\n",
    "        print(text)\n",
    "        print(\"Long: {}, Lati: {}\".format(longitude, latitude))\n",
    "\n",
    "        if mydb.is_connected():\n",
    "            mycursor = mydb.cursor()\n",
    "            sql = \"INSERT INTO {} (id_str, created_at, text, polarity, subjectivity, named_ent, user_created_at, user_location, user_description, user_followers_count, longitude, latitude, retweet_count, favorite_count) VALUES (%s, %s, %s, %s, %s, %s, %s, %s, %s, %s, %s, %s, %s, %s)\".format(settings.TABLE_NAME)\n",
    "            val = (id_str, created_at, text, polarity, subjectivity, enti, user_created_at, user_location, \\\n",
    "                user_description, user_followers_count, longitude, latitude, retweet_count, favorite_count)\n",
    "            mycursor.execute(sql, val)\n",
    "            mydb.commit()\n",
    "            mycursor.close()\n",
    "\n",
    "\n",
    "    def on_error(self, status_code):\n",
    "        '''\n",
    "        Since Twitter API has rate limits, \n",
    "        stop srcraping data as it exceed to the thresold.\n",
    "        '''\n",
    "        if status_code == 420:\n",
    "            # return False to disconnect the stream\n",
    "            return False\n"
   ]
  },
  {
   "cell_type": "code",
   "execution_count": 2,
   "metadata": {},
   "outputs": [],
   "source": [
    "import re\n",
    "from nltk.corpus import stopwords\n",
    "from nltk.tokenize import word_tokenize\n",
    "import spacy\n",
    "# nltk.download('stopwords')\n",
    "\n",
    "nlp = spacy.load('en_core_web_sm', disable=['parser', 'ner'])\n",
    "\n",
    "def deEmojify(text):\n",
    "    regrex_pattern = re.compile(pattern = \"[\"\n",
    "        u\"\\U0001F600-\\U0001F64F\"  # emoticons\n",
    "        u\"\\U0001F300-\\U0001F5FF\"  # symbols & pictographs\n",
    "        u\"\\U0001F680-\\U0001F6FF\"  # transport & map symbols\n",
    "        u\"\\U0001F1E0-\\U0001F1FF\"  # flags (iOS)\n",
    "                           \"]+\", flags = re.UNICODE)\n",
    "    return regrex_pattern.sub(r'',text)\n",
    "\n",
    "def preprocess(tweet):    \n",
    "    text = re.sub(r'http\\S+', '', tweet.lower(), flags=re.MULTILINE)\n",
    "    print(text)\n",
    "    res = re.sub(r'[^\\w\\s]', '', text)\n",
    "    print(res)\n",
    "    deemo = deEmojify(res)\n",
    "    print(deemo)\n",
    "    le = lemma(deemo)\n",
    "    print(le)\n",
    "    return le\n",
    "\n",
    "def lemma(comment):\n",
    "    doc = nlp(comment)\n",
    "    return \" \".join([token.lemma_ for token in doc])    "
   ]
  },
  {
   "cell_type": "code",
   "execution_count": 3,
   "metadata": {},
   "outputs": [
    {
     "output_type": "stream",
     "name": "stdout",
     "text": [
      "hello ca n't you do this ?\n"
     ]
    }
   ],
   "source": [
    "print(lemma(\"Hello can't you do this?\"))"
   ]
  },
  {
   "cell_type": "code",
   "execution_count": 59,
   "metadata": {},
   "outputs": [
    {
     "output_type": "stream",
     "name": "stdout",
     "text": [
      "hello parth #happy\nhello parth happy\nhello parth happy\nhello parth happy\nhello parth happy\n"
     ]
    }
   ],
   "source": [
    "print(preprocess(\"Hello Parth #happy\"))"
   ]
  },
  {
   "cell_type": "code",
   "execution_count": 5,
   "metadata": {},
   "outputs": [
    {
     "output_type": "error",
     "ename": "InterfaceError",
     "evalue": "2003: Can't connect to MySQL server on 'localhost:3306' (10061 No connection could be made because the target machine actively refused it)",
     "traceback": [
      "\u001b[1;31m---------------------------------------------------------------------------\u001b[0m",
      "\u001b[1;31mConnectionRefusedError\u001b[0m                    Traceback (most recent call last)",
      "\u001b[1;32mC:\\ProgramData\\Anaconda3\\lib\\site-packages\\mysql\\connector\\network.py\u001b[0m in \u001b[0;36mopen_connection\u001b[1;34m(self)\u001b[0m\n\u001b[0;32m    528\u001b[0m             \u001b[0mself\u001b[0m\u001b[1;33m.\u001b[0m\u001b[0msock\u001b[0m\u001b[1;33m.\u001b[0m\u001b[0msettimeout\u001b[0m\u001b[1;33m(\u001b[0m\u001b[0mself\u001b[0m\u001b[1;33m.\u001b[0m\u001b[0m_connection_timeout\u001b[0m\u001b[1;33m)\u001b[0m\u001b[1;33m\u001b[0m\u001b[1;33m\u001b[0m\u001b[0m\n\u001b[1;32m--> 529\u001b[1;33m             \u001b[0mself\u001b[0m\u001b[1;33m.\u001b[0m\u001b[0msock\u001b[0m\u001b[1;33m.\u001b[0m\u001b[0mconnect\u001b[0m\u001b[1;33m(\u001b[0m\u001b[0msockaddr\u001b[0m\u001b[1;33m)\u001b[0m\u001b[1;33m\u001b[0m\u001b[1;33m\u001b[0m\u001b[0m\n\u001b[0m\u001b[0;32m    530\u001b[0m         \u001b[1;32mexcept\u001b[0m \u001b[0mIOError\u001b[0m \u001b[1;32mas\u001b[0m \u001b[0merr\u001b[0m\u001b[1;33m:\u001b[0m\u001b[1;33m\u001b[0m\u001b[1;33m\u001b[0m\u001b[0m\n",
      "\u001b[1;31mConnectionRefusedError\u001b[0m: [WinError 10061] No connection could be made because the target machine actively refused it",
      "\nDuring handling of the above exception, another exception occurred:\n",
      "\u001b[1;31mInterfaceError\u001b[0m                            Traceback (most recent call last)",
      "\u001b[1;32m<ipython-input-5-323653996104>\u001b[0m in \u001b[0;36m<module>\u001b[1;34m\u001b[0m\n\u001b[0;32m      3\u001b[0m     \u001b[0muser\u001b[0m\u001b[1;33m=\u001b[0m\u001b[1;34m\"root\"\u001b[0m\u001b[1;33m,\u001b[0m\u001b[1;33m\u001b[0m\u001b[1;33m\u001b[0m\u001b[0m\n\u001b[0;32m      4\u001b[0m     \u001b[0mpasswd\u001b[0m\u001b[1;33m=\u001b[0m\u001b[1;34m\"password\"\u001b[0m\u001b[1;33m,\u001b[0m\u001b[1;33m\u001b[0m\u001b[1;33m\u001b[0m\u001b[0m\n\u001b[1;32m----> 5\u001b[1;33m     \u001b[0mdatabase\u001b[0m\u001b[1;33m=\u001b[0m\u001b[1;34m\"TwitterDB\"\u001b[0m\u001b[1;33m\u001b[0m\u001b[1;33m\u001b[0m\u001b[0m\n\u001b[0m\u001b[0;32m      6\u001b[0m )\n\u001b[0;32m      7\u001b[0m \u001b[1;32mif\u001b[0m \u001b[0mmydb\u001b[0m\u001b[1;33m.\u001b[0m\u001b[0mis_connected\u001b[0m\u001b[1;33m(\u001b[0m\u001b[1;33m)\u001b[0m\u001b[1;33m:\u001b[0m\u001b[1;33m\u001b[0m\u001b[1;33m\u001b[0m\u001b[0m\n",
      "\u001b[1;32mC:\\ProgramData\\Anaconda3\\lib\\site-packages\\mysql\\connector\\__init__.py\u001b[0m in \u001b[0;36mconnect\u001b[1;34m(*args, **kwargs)\u001b[0m\n\u001b[0;32m    175\u001b[0m     \u001b[1;32mif\u001b[0m \u001b[0mHAVE_CEXT\u001b[0m \u001b[1;32mand\u001b[0m \u001b[1;32mnot\u001b[0m \u001b[0muse_pure\u001b[0m\u001b[1;33m:\u001b[0m\u001b[1;33m\u001b[0m\u001b[1;33m\u001b[0m\u001b[0m\n\u001b[0;32m    176\u001b[0m         \u001b[1;32mreturn\u001b[0m \u001b[0mCMySQLConnection\u001b[0m\u001b[1;33m(\u001b[0m\u001b[1;33m*\u001b[0m\u001b[0margs\u001b[0m\u001b[1;33m,\u001b[0m \u001b[1;33m**\u001b[0m\u001b[0mkwargs\u001b[0m\u001b[1;33m)\u001b[0m\u001b[1;33m\u001b[0m\u001b[1;33m\u001b[0m\u001b[0m\n\u001b[1;32m--> 177\u001b[1;33m     \u001b[1;32mreturn\u001b[0m \u001b[0mMySQLConnection\u001b[0m\u001b[1;33m(\u001b[0m\u001b[1;33m*\u001b[0m\u001b[0margs\u001b[0m\u001b[1;33m,\u001b[0m \u001b[1;33m**\u001b[0m\u001b[0mkwargs\u001b[0m\u001b[1;33m)\u001b[0m\u001b[1;33m\u001b[0m\u001b[1;33m\u001b[0m\u001b[0m\n\u001b[0m\u001b[0;32m    178\u001b[0m \u001b[0mConnect\u001b[0m \u001b[1;33m=\u001b[0m \u001b[0mconnect\u001b[0m  \u001b[1;31m# pylint: disable=C0103\u001b[0m\u001b[1;33m\u001b[0m\u001b[1;33m\u001b[0m\u001b[0m\n\u001b[0;32m    179\u001b[0m \u001b[1;33m\u001b[0m\u001b[0m\n",
      "\u001b[1;32mC:\\ProgramData\\Anaconda3\\lib\\site-packages\\mysql\\connector\\connection.py\u001b[0m in \u001b[0;36m__init__\u001b[1;34m(self, *args, **kwargs)\u001b[0m\n\u001b[0;32m    102\u001b[0m         \u001b[1;32mif\u001b[0m \u001b[0mkwargs\u001b[0m\u001b[1;33m:\u001b[0m\u001b[1;33m\u001b[0m\u001b[1;33m\u001b[0m\u001b[0m\n\u001b[0;32m    103\u001b[0m             \u001b[1;32mtry\u001b[0m\u001b[1;33m:\u001b[0m\u001b[1;33m\u001b[0m\u001b[1;33m\u001b[0m\u001b[0m\n\u001b[1;32m--> 104\u001b[1;33m                 \u001b[0mself\u001b[0m\u001b[1;33m.\u001b[0m\u001b[0mconnect\u001b[0m\u001b[1;33m(\u001b[0m\u001b[1;33m**\u001b[0m\u001b[0mkwargs\u001b[0m\u001b[1;33m)\u001b[0m\u001b[1;33m\u001b[0m\u001b[1;33m\u001b[0m\u001b[0m\n\u001b[0m\u001b[0;32m    105\u001b[0m             \u001b[1;32mexcept\u001b[0m\u001b[1;33m:\u001b[0m\u001b[1;33m\u001b[0m\u001b[1;33m\u001b[0m\u001b[0m\n\u001b[0;32m    106\u001b[0m                 \u001b[1;31m# Tidy-up underlying socket on failure\u001b[0m\u001b[1;33m\u001b[0m\u001b[1;33m\u001b[0m\u001b[1;33m\u001b[0m\u001b[0m\n",
      "\u001b[1;32mC:\\ProgramData\\Anaconda3\\lib\\site-packages\\mysql\\connector\\abstracts.py\u001b[0m in \u001b[0;36mconnect\u001b[1;34m(self, **kwargs)\u001b[0m\n\u001b[0;32m    779\u001b[0m \u001b[1;33m\u001b[0m\u001b[0m\n\u001b[0;32m    780\u001b[0m         \u001b[0mself\u001b[0m\u001b[1;33m.\u001b[0m\u001b[0mdisconnect\u001b[0m\u001b[1;33m(\u001b[0m\u001b[1;33m)\u001b[0m\u001b[1;33m\u001b[0m\u001b[1;33m\u001b[0m\u001b[0m\n\u001b[1;32m--> 781\u001b[1;33m         \u001b[0mself\u001b[0m\u001b[1;33m.\u001b[0m\u001b[0m_open_connection\u001b[0m\u001b[1;33m(\u001b[0m\u001b[1;33m)\u001b[0m\u001b[1;33m\u001b[0m\u001b[1;33m\u001b[0m\u001b[0m\n\u001b[0m\u001b[0;32m    782\u001b[0m         \u001b[1;31m# Server does not allow to run any other statement different from ALTER\u001b[0m\u001b[1;33m\u001b[0m\u001b[1;33m\u001b[0m\u001b[1;33m\u001b[0m\u001b[0m\n\u001b[0;32m    783\u001b[0m         \u001b[1;31m# when user's password has been expired.\u001b[0m\u001b[1;33m\u001b[0m\u001b[1;33m\u001b[0m\u001b[1;33m\u001b[0m\u001b[0m\n",
      "\u001b[1;32mC:\\ProgramData\\Anaconda3\\lib\\site-packages\\mysql\\connector\\connection.py\u001b[0m in \u001b[0;36m_open_connection\u001b[1;34m(self)\u001b[0m\n\u001b[0;32m    282\u001b[0m         \u001b[0mself\u001b[0m\u001b[1;33m.\u001b[0m\u001b[0m_socket\u001b[0m \u001b[1;33m=\u001b[0m \u001b[0mself\u001b[0m\u001b[1;33m.\u001b[0m\u001b[0m_get_connection\u001b[0m\u001b[1;33m(\u001b[0m\u001b[1;33m)\u001b[0m\u001b[1;33m\u001b[0m\u001b[1;33m\u001b[0m\u001b[0m\n\u001b[0;32m    283\u001b[0m         \u001b[1;32mtry\u001b[0m\u001b[1;33m:\u001b[0m\u001b[1;33m\u001b[0m\u001b[1;33m\u001b[0m\u001b[0m\n\u001b[1;32m--> 284\u001b[1;33m             \u001b[0mself\u001b[0m\u001b[1;33m.\u001b[0m\u001b[0m_socket\u001b[0m\u001b[1;33m.\u001b[0m\u001b[0mopen_connection\u001b[0m\u001b[1;33m(\u001b[0m\u001b[1;33m)\u001b[0m\u001b[1;33m\u001b[0m\u001b[1;33m\u001b[0m\u001b[0m\n\u001b[0m\u001b[0;32m    285\u001b[0m             \u001b[0mself\u001b[0m\u001b[1;33m.\u001b[0m\u001b[0m_do_handshake\u001b[0m\u001b[1;33m(\u001b[0m\u001b[1;33m)\u001b[0m\u001b[1;33m\u001b[0m\u001b[1;33m\u001b[0m\u001b[0m\n\u001b[0;32m    286\u001b[0m             self._do_auth(self._user, self._password,\n",
      "\u001b[1;32mC:\\ProgramData\\Anaconda3\\lib\\site-packages\\mysql\\connector\\network.py\u001b[0m in \u001b[0;36mopen_connection\u001b[1;34m(self)\u001b[0m\n\u001b[0;32m    530\u001b[0m         \u001b[1;32mexcept\u001b[0m \u001b[0mIOError\u001b[0m \u001b[1;32mas\u001b[0m \u001b[0merr\u001b[0m\u001b[1;33m:\u001b[0m\u001b[1;33m\u001b[0m\u001b[1;33m\u001b[0m\u001b[0m\n\u001b[0;32m    531\u001b[0m             raise errors.InterfaceError(\n\u001b[1;32m--> 532\u001b[1;33m                 errno=2003, values=(self.get_address(), _strioerror(err)))\n\u001b[0m\u001b[0;32m    533\u001b[0m         \u001b[1;32mexcept\u001b[0m \u001b[0mException\u001b[0m \u001b[1;32mas\u001b[0m \u001b[0merr\u001b[0m\u001b[1;33m:\u001b[0m\u001b[1;33m\u001b[0m\u001b[1;33m\u001b[0m\u001b[0m\n\u001b[0;32m    534\u001b[0m             \u001b[1;32mraise\u001b[0m \u001b[0merrors\u001b[0m\u001b[1;33m.\u001b[0m\u001b[0mOperationalError\u001b[0m\u001b[1;33m(\u001b[0m\u001b[0mstr\u001b[0m\u001b[1;33m(\u001b[0m\u001b[0merr\u001b[0m\u001b[1;33m)\u001b[0m\u001b[1;33m)\u001b[0m\u001b[1;33m\u001b[0m\u001b[1;33m\u001b[0m\u001b[0m\n",
      "\u001b[1;31mInterfaceError\u001b[0m: 2003: Can't connect to MySQL server on 'localhost:3306' (10061 No connection could be made because the target machine actively refused it)"
     ]
    }
   ],
   "source": [
    "mydb = mysql.connector.connect(\n",
    "    host=\"localhost\",\n",
    "    user=\"root\",\n",
    "    passwd=\"password\",\n",
    "    database=\"TwitterDB\"\n",
    ")\n",
    "if mydb.is_connected():\n",
    "    '''\n",
    "    Check if this table exits. If not, then create a new one.\n",
    "    '''\n",
    "    mycursor = mydb.cursor()\n",
    "    mycursor.execute(\"\"\"\n",
    "        SELECT COUNT(*)\n",
    "        FROM information_schema.tables\n",
    "        WHERE table_name = '{0}'\n",
    "        \"\"\".format(settings.TABLE_NAME))\n",
    "    if mycursor.fetchone()[0] != 1:\n",
    "        mycursor.execute(\"CREATE TABLE {} ({})\".format(settings.TABLE_NAME, settings.TABLE_ATTRIBUTES))\n",
    "        mydb.commit()\n",
    "    mycursor.close()"
   ]
  },
  {
   "cell_type": "code",
   "execution_count": 13,
   "metadata": {},
   "outputs": [],
   "source": [
    "from sqlite3 import OperationalError\n",
    "\n",
    "def check_conn(conn):\n",
    "    try:\n",
    "        conn.cursor()\n",
    "        return True\n",
    "    except Exception as ex:\n",
    "        return False\n",
    "\n",
    "myconn =sqlite3.connect('twitter.db')\n",
    "\n",
    "if check_conn(myconn) == True:        \n",
    "    mycursor = myconn.cursor()\n",
    "    try:\n",
    "        output=myconn.execute(\"SELECT COUNT(*) FROM {}\".format(settings.TABLE_NAME))\n",
    "        result=output.fetchall()\n",
    "    except OperationalError:\n",
    "        myconn.execute(\"CREATE TABLE {} ({})\".format(settings.TABLE_NAME, settings.TABLE_ATTRIBUTES))\n",
    "        myconn.commit()\n",
    "\n",
    "    myconn.close()"
   ]
  },
  {
   "cell_type": "code",
   "execution_count": null,
   "metadata": {},
   "outputs": [],
   "source": [
    "auth = tweepy.OAuthHandler(credentials.consumer_key credentials.consumer_secret)\n",
    "auth.set_access_token(credentials.access_token, credentials.access_token_secret)    \n",
    "api = tweepy.API(auth,wait_on_rate_limit=True)\n"
   ]
  },
  {
   "cell_type": "code",
   "execution_count": null,
   "metadata": {},
   "outputs": [],
   "source": [
    "myStreamListener = MyStreamListener()\n",
    "myStream = tweepy.Stream(auth = api.auth, listener = myStreamListener)\n",
    "myStream.filter(languages=[\"en\"], track = settings.TRACK_WORDS)\n",
    "# Close the MySQL connection as it finished\n",
    "# However, this won't be reached as the stream listener won't stop automatically\n",
    "# Press STOP button to finish the process.\n",
    "myconn.close()"
   ]
  },
  {
   "cell_type": "code",
   "execution_count": 8,
   "metadata": {},
   "outputs": [
    {
     "output_type": "stream",
     "name": "stdout",
     "text": [
      "Parth 18 23 PERSON\nMumbai 38 44 GPE\nMadrid 78 84 GPE\nMicrosoft 102 111 ORG\nAudi 122 126 ORG\nParth,Mumbai,Madrid,Microsoft,Audi\n"
     ]
    }
   ],
   "source": [
    "import spacy\n",
    "\n",
    "nlp = spacy.load('en_core_web_sm') \n",
    "\n",
    "sentence = \"Hello, my name is Parth and I live in Mumbai. I love eating cake and I was in Madrid last week. I use Microsoft's Laptop. Audi is a company that will grow a lot.\"\n",
    "\n",
    "doc = nlp(sentence)\n",
    "\n",
    "enti = str()\n",
    "cond = ['PERSON', 'GPE', 'ORG']\n",
    "for ent in doc.ents: \n",
    "\tif ent.label_ in cond:\n",
    "\t\tenti = enti + \",\" + ent.text\n",
    "\t\tprint(ent.text, ent.start_char, ent.end_char, ent.label_) \n",
    "\n",
    "enti = enti[1:]\n",
    "print(enti)"
   ]
  },
  {
   "cell_type": "code",
   "execution_count": 16,
   "metadata": {},
   "outputs": [
    {
     "output_type": "stream",
     "name": "stdout",
     "text": [
      "['ImranKhanPTI', 'PTIofficial', 'pmln_org']\n"
     ]
    }
   ],
   "source": [
    "import re\n",
    "text = re.findall(\"@([a-zA-Z0-9_]+)\", \"https://t.co/0zyatHjUMa  @ImranKhanPTI @PTIofficial @pmln_org  question for all of you regarding taxes and level of collection\")\n",
    "print(text)\n",
    "\n"
   ]
  },
  {
   "cell_type": "code",
   "execution_count": 5,
   "metadata": {},
   "outputs": [
    {
     "output_type": "stream",
     "name": "stdout",
     "text": [
      "LOCATION\n"
     ]
    }
   ],
   "source": [
    "from nltk.tag import StanfordNERTagger\n",
    "from nltk.tokenize import word_tokenize\n",
    "import os\n",
    "\n",
    "java_path = \"C:/Program Files/Java/jdk1.8.0_131/bin/java.exe\"\n",
    "os.environ['JAVAHOME'] = java_path\n",
    "\n",
    "st = StanfordNERTagger('D:/Parth/Downloads/Stanford NER files/stanford-ner-2020-11-17/classifiers/english.all.3class.distsim.crf.ser.gz',\n",
    "\t\t\t\t\t   'D:/Parth/Downloads/Stanford NER files/stanford-ner-2020-11-17/stanford-ner.jar',\n",
    "\t\t\t\t\t   encoding='utf-8')\n",
    "\n",
    "text = 'While in France, Christine Lagarde discussed short-term stimulus efforts in a recent interview with the Wall Street Journal.'\n",
    "\n",
    "tokenized_text = word_tokenize(text)\n",
    "classified_text = st.tag(tokenized_text)\n",
    "\n",
    "\n",
    "print(classified_text[2][1])"
   ]
  },
  {
   "cell_type": "code",
   "execution_count": 1,
   "metadata": {},
   "outputs": [
    {
     "output_type": "stream",
     "name": "stdout",
     "text": [
      " United States\n"
     ]
    }
   ],
   "source": [
    "from geopy.geocoders import Nominatim\n",
    "\n",
    "geolocator = Nominatim(user_agent=\"geoapiExercises\")\n",
    "try:\n",
    "    location = geolocator.geocode(\"Canajoharie, NY\")\n",
    "except Exception as e:\n",
    "    print(e)\n",
    "hello=location.raw['display_name'].split(\",\")\n",
    "print(hello[len(hello)-1])\n",
    "\n",
    "# print((location.latitude, location.longitude))"
   ]
  },
  {
   "cell_type": "code",
   "execution_count": null,
   "metadata": {},
   "outputs": [],
   "source": [
    "'''\n",
    "Further steps:\n",
    "\n",
    "b) Convert country names to country codes\n",
    "2) Calculate the total number of occurences of country \n",
    "3) Combine all the data into a DataFrame and plot\n",
    "'''"
   ]
  },
  {
   "cell_type": "code",
   "execution_count": 17,
   "metadata": {
    "tags": []
   },
   "outputs": [
    {
     "output_type": "stream",
     "name": "stdout",
     "text": [
      "YES\n"
     ]
    }
   ],
   "source": [
    "import nltk\n",
    "# nltk.download('words')\n",
    "words = set(nltk.corpus.words.words())\n",
    "flag=0\n",
    "for i in words:\n",
    "    if 'dear' in i.lower():\n",
    "        flag=1\n",
    "if flag==1:\n",
    "    print(\"YES\")\n",
    "else:\n",
    "    print(\"no\")\n",
    "# t=\"Österreich\"\n",
    "# if t==\"Österreich\":\n",
    "#     print(\"Austria\")"
   ]
  },
  {
   "cell_type": "code",
   "execution_count": 14,
   "metadata": {},
   "outputs": [
    {
     "output_type": "stream",
     "name": "stderr",
     "text": [
      "Polska not found in regex\n",
      "Polska not found in regex\n",
      "['TZ', 'CV', 'not found', 'IR', 'KR', 'KP']\n",
      "[1961, 1975, 'not found', 1945, 1991, 1991]\n"
     ]
    }
   ],
   "source": [
    "import country_converter as coco\n",
    "cc = coco.CountryConverter()\n",
    "\n",
    "some_names = ['United Rep. of Tanzania', 'Cape Verde', 'Polska',\n",
    "              'Iran (Islamic Republic of)', 'Korea, Republic of',\n",
    "              \"Dem. People's Rep. of Korea\"]\n",
    "\n",
    "standard_names = cc.convert(names = some_names, to = 'iso2')\n",
    "UNmembership = cc.convert(names = some_names, to = 'UNmember')\n",
    "print(standard_names)\n",
    "print(UNmembership)"
   ]
  },
  {
   "cell_type": "code",
   "execution_count": 51,
   "metadata": {},
   "outputs": [
    {
     "output_type": "stream",
     "name": "stdout",
     "text": [
      "Italy\n"
     ]
    }
   ],
   "source": [
    "hello='Italia'\n",
    "country={'Italia':'Italy', 'Việt Nam':'Vietnam', 'Ayiti':'Haiti','Österreich':'Austria', 'Česko':'Czechia', 'Sverige':'Sweden', 'Luzon': 'Philippines'}\n",
    "if hello in country.keys():\n",
    "    print(country[hello])"
   ]
  },
  {
   "cell_type": "code",
   "execution_count": 53,
   "metadata": {},
   "outputs": [
    {
     "output_type": "execute_result",
     "data": {
      "text/plain": [
       "'zh-cn'"
      ]
     },
     "metadata": {},
     "execution_count": 53
    }
   ],
   "source": [
    "from langdetect import detect\n",
    "detect(\"日本\")"
   ]
  },
  {
   "cell_type": "code",
   "execution_count": 28,
   "metadata": {},
   "outputs": [
    {
     "output_type": "error",
     "ename": "TypeError",
     "evalue": "'str' object is not callable",
     "traceback": [
      "\u001b[1;31m---------------------------------------------------------------------------\u001b[0m",
      "\u001b[1;31mTypeError\u001b[0m                                 Traceback (most recent call last)",
      "\u001b[1;32m<ipython-input-28-121f3b5f9d45>\u001b[0m in \u001b[0;36m<module>\u001b[1;34m\u001b[0m\n\u001b[0;32m      2\u001b[0m \u001b[1;32mimport\u001b[0m \u001b[0mgettext\u001b[0m\u001b[1;33m\u001b[0m\u001b[1;33m\u001b[0m\u001b[0m\n\u001b[0;32m      3\u001b[0m \u001b[0muser_input\u001b[0m \u001b[1;33m=\u001b[0m \u001b[1;34m\"Frankreich\"\u001b[0m\u001b[1;33m\u001b[0m\u001b[1;33m\u001b[0m\u001b[0m\n\u001b[1;32m----> 4\u001b[1;33m \u001b[0mcountry_code\u001b[0m \u001b[1;33m=\u001b[0m \u001b[1;34m''\u001b[0m\u001b[1;33m.\u001b[0m\u001b[0mjoin\u001b[0m\u001b[1;33m(\u001b[0m\u001b[1;33m[\u001b[0m\u001b[0mcountry\u001b[0m\u001b[1;33m.\u001b[0m\u001b[0malpha2\u001b[0m \u001b[1;32mfor\u001b[0m \u001b[0mcountry\u001b[0m \u001b[1;32min\u001b[0m \u001b[0mpycountry\u001b[0m\u001b[1;33m.\u001b[0m\u001b[0mcountries\u001b[0m \u001b[1;32mif\u001b[0m \u001b[0m_\u001b[0m\u001b[1;33m(\u001b[0m\u001b[0mcountry\u001b[0m\u001b[1;33m.\u001b[0m\u001b[0mname\u001b[0m\u001b[1;33m)\u001b[0m \u001b[1;33m==\u001b[0m \u001b[0muser_input\u001b[0m\u001b[1;33m]\u001b[0m\u001b[1;33m)\u001b[0m \u001b[1;31m# u'FR'\u001b[0m\u001b[1;33m\u001b[0m\u001b[1;33m\u001b[0m\u001b[0m\n\u001b[0m\u001b[0;32m      5\u001b[0m \u001b[0mprint\u001b[0m\u001b[1;33m(\u001b[0m\u001b[0mcountry_code\u001b[0m\u001b[1;33m)\u001b[0m\u001b[1;33m\u001b[0m\u001b[1;33m\u001b[0m\u001b[0m\n\u001b[0;32m      6\u001b[0m \u001b[1;33m\u001b[0m\u001b[0m\n",
      "\u001b[1;32m<ipython-input-28-121f3b5f9d45>\u001b[0m in \u001b[0;36m<listcomp>\u001b[1;34m(.0)\u001b[0m\n\u001b[0;32m      2\u001b[0m \u001b[1;32mimport\u001b[0m \u001b[0mgettext\u001b[0m\u001b[1;33m\u001b[0m\u001b[1;33m\u001b[0m\u001b[0m\n\u001b[0;32m      3\u001b[0m \u001b[0muser_input\u001b[0m \u001b[1;33m=\u001b[0m \u001b[1;34m\"Frankreich\"\u001b[0m\u001b[1;33m\u001b[0m\u001b[1;33m\u001b[0m\u001b[0m\n\u001b[1;32m----> 4\u001b[1;33m \u001b[0mcountry_code\u001b[0m \u001b[1;33m=\u001b[0m \u001b[1;34m''\u001b[0m\u001b[1;33m.\u001b[0m\u001b[0mjoin\u001b[0m\u001b[1;33m(\u001b[0m\u001b[1;33m[\u001b[0m\u001b[0mcountry\u001b[0m\u001b[1;33m.\u001b[0m\u001b[0malpha2\u001b[0m \u001b[1;32mfor\u001b[0m \u001b[0mcountry\u001b[0m \u001b[1;32min\u001b[0m \u001b[0mpycountry\u001b[0m\u001b[1;33m.\u001b[0m\u001b[0mcountries\u001b[0m \u001b[1;32mif\u001b[0m \u001b[0m_\u001b[0m\u001b[1;33m(\u001b[0m\u001b[0mcountry\u001b[0m\u001b[1;33m.\u001b[0m\u001b[0mname\u001b[0m\u001b[1;33m)\u001b[0m \u001b[1;33m==\u001b[0m \u001b[0muser_input\u001b[0m\u001b[1;33m]\u001b[0m\u001b[1;33m)\u001b[0m \u001b[1;31m# u'FR'\u001b[0m\u001b[1;33m\u001b[0m\u001b[1;33m\u001b[0m\u001b[0m\n\u001b[0m\u001b[0;32m      5\u001b[0m \u001b[0mprint\u001b[0m\u001b[1;33m(\u001b[0m\u001b[0mcountry_code\u001b[0m\u001b[1;33m)\u001b[0m\u001b[1;33m\u001b[0m\u001b[1;33m\u001b[0m\u001b[0m\n\u001b[0;32m      6\u001b[0m \u001b[1;33m\u001b[0m\u001b[0m\n",
      "\u001b[1;31mTypeError\u001b[0m: 'str' object is not callable"
     ]
    }
   ],
   "source": [
    "import pycountry\n",
    "import gettext\n",
    "user_input = \"Frankreich\"\n",
    "country_code = ''.join([country.alpha2 for country in pycountry.countries if _(country.name) == user_input]) # u'FR'\n",
    "print(country_code)"
   ]
  },
  {
   "cell_type": "code",
   "execution_count": 38,
   "metadata": {},
   "outputs": [
    {
     "output_type": "stream",
     "name": "stdout",
     "text": [
      "None\n"
     ]
    }
   ],
   "source": [
    "import pycountry\n",
    "import gettext\n",
    "\n",
    "def map_country_code(country_name, language):\n",
    "    try:\n",
    "        # todo:  when languages = en the program fails!\n",
    "        # todo: this methode takes to much time, is it o(n2) have to think on a better system+\n",
    "        if country_name is None:\n",
    "            return None\n",
    "        german = gettext.translation('iso3166', pycountry.LOCALES_DIR, languages=[language])\n",
    "        german.install()\n",
    "        _ = german.gettext\n",
    "        for english_country in pycountry.countries:\n",
    "            country_name = country_name.lower()\n",
    "            german_country = _(english_country.name).lower()\n",
    "            if german_country == country_name:\n",
    "                return english_country.alpha_3\n",
    "    except Exception as e:\n",
    "        self.log.error(e, exc_info=True)\n",
    "        return False\n",
    "\n",
    "print(map_country_code(\"Česko\", 'de'))"
   ]
  },
  {
   "cell_type": "code",
   "execution_count": 65,
   "metadata": {},
   "outputs": [
    {
     "output_type": "stream",
     "name": "stdout",
     "text": [
      "Haiti \n"
     ]
    }
   ],
   "source": [
    "# from googletrans import Translator\n",
    "# translator = Translator()\n",
    "from google_trans_new import google_translator  \n",
    "translator = google_translator()  \n",
    "translate_text = translator.translate('Ayiti',lang_tgt='en')  \n",
    "print(translate_text)\n",
    "# dt1 = translator.detect('ليبيا')\n",
    "# print(dt1)\n"
   ]
  },
  {
   "cell_type": "code",
   "execution_count": 1,
   "metadata": {},
   "outputs": [
    {
     "output_type": "stream",
     "name": "stdout",
     "text": [
      "A\n",
      "D:/Parth/Downloads/train\\\\A\\\\001.jpg\n"
     ]
    },
    {
     "output_type": "error",
     "ename": "NameError",
     "evalue": "name 'func' is not defined",
     "traceback": [
      "\u001b[1;31m---------------------------------------------------------------------------\u001b[0m",
      "\u001b[1;31mNameError\u001b[0m                                 Traceback (most recent call last)",
      "\u001b[1;32m<ipython-input-1-290ba40844e5>\u001b[0m in \u001b[0;36m<module>\u001b[1;34m\u001b[0m\n\u001b[0;32m      8\u001b[0m                 \u001b[0mactual_path\u001b[0m\u001b[1;33m=\u001b[0m\u001b[0mpath\u001b[0m\u001b[1;33m+\u001b[0m\u001b[1;34m\"\\\\\\\\\"\u001b[0m\u001b[1;33m+\u001b[0m\u001b[0mdirname\u001b[0m\u001b[1;33m+\u001b[0m\u001b[1;34m\"\\\\\\\\\"\u001b[0m\u001b[1;33m+\u001b[0m\u001b[0mfile\u001b[0m\u001b[1;33m\u001b[0m\u001b[1;33m\u001b[0m\u001b[0m\n\u001b[0;32m      9\u001b[0m                 \u001b[0mprint\u001b[0m\u001b[1;33m(\u001b[0m\u001b[0mactual_path\u001b[0m\u001b[1;33m)\u001b[0m\u001b[1;33m\u001b[0m\u001b[1;33m\u001b[0m\u001b[0m\n\u001b[1;32m---> 10\u001b[1;33m                 \u001b[0mdes\u001b[0m\u001b[1;33m=\u001b[0m\u001b[0mfunc\u001b[0m\u001b[1;33m(\u001b[0m\u001b[0mactual_path\u001b[0m\u001b[1;33m)\u001b[0m\u001b[1;33m\u001b[0m\u001b[1;33m\u001b[0m\u001b[0m\n\u001b[0m\u001b[0;32m     11\u001b[0m                 \u001b[0mimg_descs\u001b[0m\u001b[1;33m.\u001b[0m\u001b[0mappend\u001b[0m\u001b[1;33m(\u001b[0m\u001b[0mdes\u001b[0m\u001b[1;33m)\u001b[0m\u001b[1;33m\u001b[0m\u001b[1;33m\u001b[0m\u001b[0m\n\u001b[0;32m     12\u001b[0m                 \u001b[0my\u001b[0m\u001b[1;33m.\u001b[0m\u001b[0mappend\u001b[0m\u001b[1;33m(\u001b[0m\u001b[0mlabel\u001b[0m\u001b[1;33m)\u001b[0m\u001b[1;33m\u001b[0m\u001b[1;33m\u001b[0m\u001b[0m\n",
      "\u001b[1;31mNameError\u001b[0m: name 'func' is not defined"
     ]
    }
   ],
   "source": [
    "import os\n",
    "path='D:/Parth/Downloads/train'\n",
    "for (dirpath,dirnames,filenames) in os.walk(path):\n",
    "    for dirname in dirnames:\n",
    "        print(dirname)\n",
    "        for(direcpath,direcnames,files) in os.walk(path+\"\\\\\"+dirname):\n",
    "            for file in files:\n",
    "                actual_path=path+\"\\\\\\\\\"+dirname+\"\\\\\\\\\"+file\n",
    "                print(actual_path)\n",
    "                des=func(actual_path)\n",
    "                img_descs.append(des)\n",
    "                y.append(label)\n",
    "        label=label+1"
   ]
  },
  {
   "cell_type": "code",
   "execution_count": 6,
   "metadata": {},
   "outputs": [
    {
     "output_type": "stream",
     "name": "stdout",
     "text": [
      "Philippines \n",
      "PHL\n",
      "Philippines\n"
     ]
    }
   ],
   "source": [
    "from google_trans_new import google_translator \n",
    "from geopy.geocoders import Nominatim\n",
    "import country_converter as coco\n",
    "\n",
    "def get_location(temp_location):\n",
    "    geolocator = Nominatim(user_agent=\"myGeocoder\")         # Initializing geolocator object for getting address\n",
    "    try:\n",
    "        location = geolocator.geocode(temp_location)\n",
    "        # print(location.raw['address']['country'])                \n",
    "        location_list = location.raw['display_name'].split(\",\")\n",
    "        user_location1=location_list[len(location_list)-1].strip()               # Extracting only country name\n",
    "        translator = google_translator()  \n",
    "        user_location = translator.translate(user_location1, lang_tgt='en')         #Translate the location to english\n",
    "    except Exception as e:\n",
    "        user_location = None\n",
    "\n",
    "    return user_location\n",
    "\n",
    "print(get_location('Luzon'))\n",
    "\n",
    "\n",
    "iso2_codes = coco.convert(names=get_location('Luzon'), to='ISO3')\n",
    "print(iso2_codes)\n",
    "# counter=collections.Counter(iso2_codes)\n",
    "\n",
    "# for i in df1['CODE']:\n",
    "hello=coco.convert(names = iso2_codes, to = 'name_short')    \n",
    "print(hello)\n"
   ]
  },
  {
   "cell_type": "code",
   "execution_count": null,
   "metadata": {},
   "outputs": [],
   "source": []
  }
 ]
}